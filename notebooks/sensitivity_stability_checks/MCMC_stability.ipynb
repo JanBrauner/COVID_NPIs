{
 "cells": [
  {
   "cell_type": "markdown",
   "metadata": {},
   "source": [
    "# Validation: MCMC stability\n",
    "\n",
    "This notebook:\n",
    "\n",
    "* loads a library defined model. \n",
    "* loads the data according to the data preprocessor class.\n",
    "* plots the rhat statistic for the mcmc"
   ]
  },
  {
   "cell_type": "code",
   "execution_count": 26,
   "metadata": {},
   "outputs": [
    {
     "name": "stdout",
     "output_type": "stream",
     "text": [
      "The autoreload extension is already loaded. To reload it, use:\n",
      "  %reload_ext autoreload\n"
     ]
    }
   ],
   "source": [
    "%load_ext autoreload\n",
    "%autoreload 2"
   ]
  },
  {
   "cell_type": "code",
   "execution_count": 59,
   "metadata": {},
   "outputs": [],
   "source": [
    "### Initial imports\n",
    "import logging\n",
    "import numpy as np\n",
    "import pandas as pd\n",
    "import pymc3 as pm\n",
    "import theano.tensor as T\n",
    "import matplotlib.pyplot as plt\n",
    "import arviz as az\n",
    "import seaborn as sns\n",
    "import scipy\n",
    "\n",
    "logging.basicConfig(level=logging.INFO)\n",
    "log = logging.getLogger(__name__)\n",
    "\n",
    "import warnings\n",
    "warnings.simplefilter(action='ignore', category=FutureWarning)\n",
    "\n",
    "from epimodel.pymc3_models.utils import geom_convolution\n",
    "from epimodel.pymc3_models import cm_effect\n",
    "from epimodel.pymc3_models.cm_effect.datapreprocessor import DataPreprocessor\n",
    "\n",
    "sns.set_style(\"ticks\")\n",
    "%matplotlib inline"
   ]
  },
  {
   "cell_type": "code",
   "execution_count": 68,
   "metadata": {
    "scrolled": false
   },
   "outputs": [
    {
     "name": "stderr",
     "output_type": "stream",
     "text": [
      "INFO:epimodel.pymc3_models.cm_effect.datapreprocessor:Dropping Healthcare Infection Control\n",
      "INFO:epimodel.pymc3_models.cm_effect.datapreprocessor:Performing Smoothing\n",
      "INFO:epimodel.pymc3_models.cm_effect.datapreprocessor:Skipping smoothing Albania\n",
      "INFO:epimodel.pymc3_models.cm_effect.datapreprocessor:Skipping smoothing Andorra\n",
      "INFO:epimodel.pymc3_models.cm_effect.datapreprocessor:Skipping smoothing Estonia\n",
      "INFO:epimodel.pymc3_models.cm_effect.datapreprocessor:Skipping smoothing Iceland\n",
      "INFO:epimodel.pymc3_models.cm_effect.datapreprocessor:Skipping smoothing Latvia\n",
      "INFO:epimodel.pymc3_models.cm_effect.datapreprocessor:Skipping smoothing Lithuania\n",
      "INFO:epimodel.pymc3_models.cm_effect.datapreprocessor:Skipping smoothing New Zealand\n",
      "INFO:epimodel.pymc3_models.cm_effect.datapreprocessor:Skipping smoothing Singapore\n",
      "INFO:epimodel.pymc3_models.cm_effect.datapreprocessor:Skipping smoothing Slovakia\n",
      "INFO:epimodel.pymc3_models.cm_effect.datapreprocessor:Performing Masking\n"
     ]
    }
   ],
   "source": [
    "dp = DataPreprocessor(drop_HS=True)\n",
    "data = dp.preprocess_data(\"../final_data/data_final.csv\")"
   ]
  },
  {
   "cell_type": "code",
   "execution_count": 84,
   "metadata": {},
   "outputs": [],
   "source": [
    "def calc_trace_statistic(model, stat_type):\n",
    "    if stat_type=='rhat':\n",
    "        stat = az.rhat(model.trace)\n",
    "        print(stat)\n",
    "    if stat_type=='ess':\n",
    "        stat = az.ess(model.trace, relative=True)\n",
    "    stat_all = []\n",
    "    stat_nums = []\n",
    "    print(model.vars)\n",
    "    for i in range(len(model.vars)):\n",
    "        var = model.vars[i]\n",
    "        if str(var)[-6:-1]=='_log_':\n",
    "            var = str(var)[0:-6]\n",
    "        if '_stickbreaking__' in str(var):\n",
    "            var = str(var)[0:-16]\n",
    "        if stat[str(var)].size>1:\n",
    "            stat_all.append(stat[str(var)].to_dataframe().to_numpy().flatten())\n",
    "        else:\n",
    "            stat_nums.append(float(stat[str(var)]))\n",
    "    stat_all = np.concatenate(np.array(stat_all))\n",
    "    stat_all = np.concatenate([stat_all, stat_nums])\n",
    "    return stat_all"
   ]
  },
  {
   "cell_type": "markdown",
   "metadata": {},
   "source": [
    "### Build and run models\n",
    "\n",
    "Calculate and save the r-hat and ess values for each random variable"
   ]
  },
  {
   "cell_type": "code",
   "execution_count": 70,
   "metadata": {},
   "outputs": [],
   "source": [
    "model_types = ['combined_additive', 'active', 'death', 'combined_v3']"
   ]
  },
  {
   "cell_type": "code",
   "execution_count": 71,
   "metadata": {},
   "outputs": [
    {
     "name": "stdout",
     "output_type": "stream",
     "text": [
      "Model: combined_additive\n"
     ]
    },
    {
     "name": "stderr",
     "output_type": "stream",
     "text": [
      "Only 20 samples in chain.\n",
      "WARNING:pymc3:Only 20 samples in chain.\n",
      "Auto-assigning NUTS sampler...\n",
      "INFO:pymc3:Auto-assigning NUTS sampler...\n",
      "Initializing NUTS using adapt_diag...\n",
      "INFO:pymc3:Initializing NUTS using adapt_diag...\n"
     ]
    },
    {
     "name": "stdout",
     "output_type": "stream",
     "text": [
      "AllBeta_stickbreaking__      -10.22\n",
      "HyperRMean                     0.67\n",
      "HyperRVar_log__               -0.77\n",
      "RegionLogR                    28.31\n",
      "GrowthCases                 2689.50\n",
      "GrowthDeaths                2689.50\n",
      "InitialSizeCases_log        -198.07\n",
      "Phi_1_log__                   -0.77\n",
      "InitialSizeDeaths_log       -198.07\n",
      "ObservedCases             -49119.44\n",
      "ObservedDeaths            -44773.77\n",
      "Name: Log-probability of test_point, dtype: float64\n"
     ]
    },
    {
     "name": "stderr",
     "output_type": "stream",
     "text": [
      "Multiprocess sampling (2 chains in 2 jobs)\n",
      "INFO:pymc3:Multiprocess sampling (2 chains in 2 jobs)\n",
      "NUTS: [InitialSizeDeaths_log, Phi_1, InitialSizeCases_log, GrowthDeaths, GrowthCases, RegionLogR, HyperRVar, HyperRMean, AllBeta]\n",
      "INFO:pymc3:NUTS: [InitialSizeDeaths_log, Phi_1, InitialSizeCases_log, GrowthDeaths, GrowthCases, RegionLogR, HyperRVar, HyperRMean, AllBeta]\n",
      "Sampling 2 chains, 0 divergences: 100%|██████████| 1040/1040 [27:45<00:00,  1.60s/draws]\n"
     ]
    },
    {
     "name": "stdout",
     "output_type": "stream",
     "text": [
      "<xarray.Dataset>\n",
      "Dimensions:                      (AllBeta_dim_0: 10, CMReduction_dim_0: 9, CM_Beta_dim_0: 9, ExpectedCases_dim_0: 41, ExpectedCases_dim_1: 95, ExpectedDeaths_dim_0: 41, ExpectedDeaths_dim_1: 95, ExpectedGrowth_dim_0: 41, ExpectedGrowth_dim_1: 95, ExpectedLogR_dim_0: 41, ExpectedLogR_dim_1: 95, GrowthCases_dim_0: 41, GrowthCases_dim_1: 95, GrowthDeaths_dim_0: 41, GrowthDeaths_dim_1: 95, GrowthReduction_dim_0: 41, GrowthReduction_dim_1: 95, InfectedCases_dim_0: 41, InfectedCases_dim_1: 95, InfectedCases_log_dim_0: 41, InfectedCases_log_dim_1: 95, InfectedDeaths_dim_0: 41, InfectedDeaths_dim_1: 95, InfectedDeaths_log_dim_0: 41, InfectedDeaths_log_dim_1: 95, InitialSizeCases_log_dim_0: 41, InitialSizeDeaths_log_dim_0: 41, RegionLogR_dim_0: 41, Z1C_dim_0: 41, Z1C_dim_1: 95, Z1D_dim_0: 41, Z1D_dim_1: 95, Z2C_dim_0: 1508, Z2D_dim_0: 1195)\n",
      "Coordinates:\n",
      "  * RegionLogR_dim_0             (RegionLogR_dim_0) int64 0 1 2 3 ... 38 39 40\n",
      "  * GrowthCases_dim_0            (GrowthCases_dim_0) int64 0 1 2 3 ... 38 39 40\n",
      "  * GrowthCases_dim_1            (GrowthCases_dim_1) int64 0 1 2 3 ... 92 93 94\n",
      "  * GrowthDeaths_dim_0           (GrowthDeaths_dim_0) int64 0 1 2 3 ... 38 39 40\n",
      "  * GrowthDeaths_dim_1           (GrowthDeaths_dim_1) int64 0 1 2 3 ... 92 93 94\n",
      "  * InitialSizeCases_log_dim_0   (InitialSizeCases_log_dim_0) int64 0 1 ... 40\n",
      "  * InitialSizeDeaths_log_dim_0  (InitialSizeDeaths_log_dim_0) int64 0 1 ... 40\n",
      "  * AllBeta_dim_0                (AllBeta_dim_0) int64 0 1 2 3 4 5 6 7 8 9\n",
      "  * CM_Beta_dim_0                (CM_Beta_dim_0) int64 0 1 2 3 4 5 6 7 8\n",
      "  * CMReduction_dim_0            (CMReduction_dim_0) int64 0 1 2 3 4 5 6 7 8\n",
      "  * GrowthReduction_dim_0        (GrowthReduction_dim_0) int64 0 1 2 ... 39 40\n",
      "  * GrowthReduction_dim_1        (GrowthReduction_dim_1) int64 0 1 2 ... 93 94\n",
      "  * ExpectedLogR_dim_0           (ExpectedLogR_dim_0) int64 0 1 2 3 ... 38 39 40\n",
      "  * ExpectedLogR_dim_1           (ExpectedLogR_dim_1) int64 0 1 2 3 ... 92 93 94\n",
      "  * ExpectedGrowth_dim_0         (ExpectedGrowth_dim_0) int64 0 1 2 ... 38 39 40\n",
      "  * ExpectedGrowth_dim_1         (ExpectedGrowth_dim_1) int64 0 1 2 ... 92 93 94\n",
      "  * Z1C_dim_0                    (Z1C_dim_0) int64 0 1 2 3 4 ... 36 37 38 39 40\n",
      "  * Z1C_dim_1                    (Z1C_dim_1) int64 0 1 2 3 4 ... 90 91 92 93 94\n",
      "  * Z1D_dim_0                    (Z1D_dim_0) int64 0 1 2 3 4 ... 36 37 38 39 40\n",
      "  * Z1D_dim_1                    (Z1D_dim_1) int64 0 1 2 3 4 ... 90 91 92 93 94\n",
      "  * InfectedCases_log_dim_0      (InfectedCases_log_dim_0) int64 0 1 2 ... 39 40\n",
      "  * InfectedCases_log_dim_1      (InfectedCases_log_dim_1) int64 0 1 2 ... 93 94\n",
      "  * InfectedCases_dim_0          (InfectedCases_dim_0) int64 0 1 2 ... 38 39 40\n",
      "  * InfectedCases_dim_1          (InfectedCases_dim_1) int64 0 1 2 ... 92 93 94\n",
      "  * ExpectedCases_dim_0          (ExpectedCases_dim_0) int64 0 1 2 ... 38 39 40\n",
      "  * ExpectedCases_dim_1          (ExpectedCases_dim_1) int64 0 1 2 ... 92 93 94\n",
      "  * Z2C_dim_0                    (Z2C_dim_0) int64 0 1 2 3 ... 1505 1506 1507\n",
      "  * InfectedDeaths_log_dim_0     (InfectedDeaths_log_dim_0) int64 0 1 ... 39 40\n",
      "  * InfectedDeaths_log_dim_1     (InfectedDeaths_log_dim_1) int64 0 1 ... 93 94\n",
      "  * InfectedDeaths_dim_0         (InfectedDeaths_dim_0) int64 0 1 2 ... 38 39 40\n",
      "  * InfectedDeaths_dim_1         (InfectedDeaths_dim_1) int64 0 1 2 ... 92 93 94\n",
      "  * ExpectedDeaths_dim_0         (ExpectedDeaths_dim_0) int64 0 1 2 ... 38 39 40\n",
      "  * ExpectedDeaths_dim_1         (ExpectedDeaths_dim_1) int64 0 1 2 ... 92 93 94\n",
      "  * Z2D_dim_0                    (Z2D_dim_0) int64 0 1 2 3 ... 1192 1193 1194\n",
      "Data variables:\n",
      "    HyperRMean                   float64 1.082\n",
      "    RegionLogR                   (RegionLogR_dim_0) float64 1.058 ... 1.065\n",
      "    GrowthCases                  (GrowthCases_dim_0, GrowthCases_dim_1) float64 1.011 ... 1.003\n",
      "    GrowthDeaths                 (GrowthDeaths_dim_0, GrowthDeaths_dim_1) float64 1.096 ... 0.9726\n",
      "    InitialSizeCases_log         (InitialSizeCases_log_dim_0) float64 1.033 ... 0.9654\n",
      "    InitialSizeDeaths_log        (InitialSizeDeaths_log_dim_0) float64 1.152 ... 0.9929\n",
      "    AllBeta                      (AllBeta_dim_0) float64 0.9916 1.087 ... 1.018\n",
      "    CM_Beta                      (CM_Beta_dim_0) float64 1.087 0.9794 ... 1.018\n",
      "    Beta_hat                     float64 0.9916\n",
      "    CMReduction                  (CMReduction_dim_0) float64 1.087 ... 1.018\n",
      "    HyperRVar                    float64 1.175\n",
      "    GrowthReduction              (GrowthReduction_dim_0, GrowthReduction_dim_1) float64 1.031 ... 1.047\n",
      "    ExpectedLogR                 (ExpectedLogR_dim_0, ExpectedLogR_dim_1) float64 1.059 ... 1.105\n",
      "    ExpectedGrowth               (ExpectedGrowth_dim_0, ExpectedGrowth_dim_1) float64 1.061 ... 1.098\n",
      "    Z1C                          (Z1C_dim_0, Z1C_dim_1) float64 1.076 ... 1.002\n",
      "    Z1D                          (Z1D_dim_0, Z1D_dim_1) float64 1.141 ... 0.9828\n",
      "    InfectedCases_log            (InfectedCases_log_dim_0, InfectedCases_log_dim_1) float64 1.022 ... 1.088\n",
      "    InfectedCases                (InfectedCases_dim_0, InfectedCases_dim_1) float64 1.03 ... 1.088\n",
      "    ExpectedCases                (ExpectedCases_dim_0, ExpectedCases_dim_1) float64 nan ... 1.245\n",
      "    Phi_1                        float64 1.068\n",
      "    Z2C                          (Z2C_dim_0) float64 1.034 1.026 ... 1.084 1.165\n",
      "    InfectedDeaths_log           (InfectedDeaths_log_dim_0, InfectedDeaths_log_dim_1) float64 1.155 ... 1.049\n",
      "    InfectedDeaths               (InfectedDeaths_dim_0, InfectedDeaths_dim_1) float64 1.152 ... 1.022\n",
      "    ExpectedDeaths               (ExpectedDeaths_dim_0, ExpectedDeaths_dim_1) float64 nan ... 1.016\n",
      "    Z2D                          (Z2D_dim_0) float64 1.006 1.037 ... 1.006 1.016\n",
      "[AllBeta_stickbreaking__, HyperRMean, HyperRVar_log__, RegionLogR, GrowthCases, GrowthDeaths, InitialSizeCases_log, Phi_1_log__, InitialSizeDeaths_log]\n"
     ]
    },
    {
     "ename": "KeyError",
     "evalue": "'AllBeta_stickbreaking__'",
     "output_type": "error",
     "traceback": [
      "\u001b[0;31m---------------------------------------------------------------------------\u001b[0m",
      "\u001b[0;31mKeyError\u001b[0m                                  Traceback (most recent call last)",
      "\u001b[0;32m~/anaconda/envs/py38/lib/python3.8/site-packages/xarray/core/dataset.py\u001b[0m in \u001b[0;36m_construct_dataarray\u001b[0;34m(self, name)\u001b[0m\n\u001b[1;32m   1154\u001b[0m         \u001b[0;32mtry\u001b[0m\u001b[0;34m:\u001b[0m\u001b[0;34m\u001b[0m\u001b[0;34m\u001b[0m\u001b[0m\n\u001b[0;32m-> 1155\u001b[0;31m             \u001b[0mvariable\u001b[0m \u001b[0;34m=\u001b[0m \u001b[0mself\u001b[0m\u001b[0;34m.\u001b[0m\u001b[0m_variables\u001b[0m\u001b[0;34m[\u001b[0m\u001b[0mname\u001b[0m\u001b[0;34m]\u001b[0m\u001b[0;34m\u001b[0m\u001b[0;34m\u001b[0m\u001b[0m\n\u001b[0m\u001b[1;32m   1156\u001b[0m         \u001b[0;32mexcept\u001b[0m \u001b[0mKeyError\u001b[0m\u001b[0;34m:\u001b[0m\u001b[0;34m\u001b[0m\u001b[0;34m\u001b[0m\u001b[0m\n",
      "\u001b[0;31mKeyError\u001b[0m: 'AllBeta_stickbreaking__'",
      "\nDuring handling of the above exception, another exception occurred:\n",
      "\u001b[0;31mKeyError\u001b[0m                                  Traceback (most recent call last)",
      "\u001b[0;32m<ipython-input-71-fa294519f18e>\u001b[0m in \u001b[0;36m<module>\u001b[0;34m\u001b[0m\n\u001b[1;32m     18\u001b[0m \u001b[0;34m\u001b[0m\u001b[0m\n\u001b[1;32m     19\u001b[0m     \u001b[0mmodel\u001b[0m\u001b[0;34m.\u001b[0m\u001b[0mrun\u001b[0m\u001b[0;34m(\u001b[0m\u001b[0;36m20\u001b[0m\u001b[0;34m,\u001b[0m \u001b[0mchains\u001b[0m\u001b[0;34m=\u001b[0m\u001b[0;36m2\u001b[0m\u001b[0;34m,\u001b[0m \u001b[0mcores\u001b[0m\u001b[0;34m=\u001b[0m\u001b[0;36m2\u001b[0m\u001b[0;34m)\u001b[0m\u001b[0;34m\u001b[0m\u001b[0;34m\u001b[0m\u001b[0m\n\u001b[0;32m---> 20\u001b[0;31m     \u001b[0mrhats\u001b[0m \u001b[0;34m=\u001b[0m \u001b[0mcalc_trace_statistic\u001b[0m\u001b[0;34m(\u001b[0m\u001b[0mmodel\u001b[0m\u001b[0;34m,\u001b[0m\u001b[0;34m'rhat'\u001b[0m\u001b[0;34m)\u001b[0m\u001b[0;34m\u001b[0m\u001b[0;34m\u001b[0m\u001b[0m\n\u001b[0m\u001b[1;32m     21\u001b[0m     \u001b[0mess\u001b[0m \u001b[0;34m=\u001b[0m \u001b[0mcalc_trace_statistic\u001b[0m\u001b[0;34m(\u001b[0m\u001b[0mmodel\u001b[0m\u001b[0;34m,\u001b[0m\u001b[0;34m'ess'\u001b[0m\u001b[0;34m)\u001b[0m\u001b[0;34m\u001b[0m\u001b[0;34m\u001b[0m\u001b[0m\n\u001b[1;32m     22\u001b[0m \u001b[0;34m\u001b[0m\u001b[0m\n",
      "\u001b[0;32m<ipython-input-69-a10090a0a1d3>\u001b[0m in \u001b[0;36mcalc_trace_statistic\u001b[0;34m(model, stat_type)\u001b[0m\n\u001b[1;32m     12\u001b[0m         \u001b[0;32mif\u001b[0m \u001b[0mstr\u001b[0m\u001b[0;34m(\u001b[0m\u001b[0mvar\u001b[0m\u001b[0;34m)\u001b[0m\u001b[0;34m[\u001b[0m\u001b[0;34m-\u001b[0m\u001b[0;36m6\u001b[0m\u001b[0;34m:\u001b[0m\u001b[0;34m-\u001b[0m\u001b[0;36m1\u001b[0m\u001b[0;34m]\u001b[0m\u001b[0;34m==\u001b[0m\u001b[0;34m'_log_'\u001b[0m\u001b[0;34m:\u001b[0m\u001b[0;34m\u001b[0m\u001b[0;34m\u001b[0m\u001b[0m\n\u001b[1;32m     13\u001b[0m             \u001b[0mvar\u001b[0m \u001b[0;34m=\u001b[0m \u001b[0mstr\u001b[0m\u001b[0;34m(\u001b[0m\u001b[0mvar\u001b[0m\u001b[0;34m)\u001b[0m\u001b[0;34m[\u001b[0m\u001b[0;36m0\u001b[0m\u001b[0;34m:\u001b[0m\u001b[0;34m-\u001b[0m\u001b[0;36m6\u001b[0m\u001b[0;34m]\u001b[0m\u001b[0;34m\u001b[0m\u001b[0;34m\u001b[0m\u001b[0m\n\u001b[0;32m---> 14\u001b[0;31m         \u001b[0;32mif\u001b[0m \u001b[0mstat\u001b[0m\u001b[0;34m[\u001b[0m\u001b[0mstr\u001b[0m\u001b[0;34m(\u001b[0m\u001b[0mvar\u001b[0m\u001b[0;34m)\u001b[0m\u001b[0;34m]\u001b[0m\u001b[0;34m.\u001b[0m\u001b[0msize\u001b[0m\u001b[0;34m>\u001b[0m\u001b[0;36m1\u001b[0m\u001b[0;34m:\u001b[0m\u001b[0;34m\u001b[0m\u001b[0;34m\u001b[0m\u001b[0m\n\u001b[0m\u001b[1;32m     15\u001b[0m             \u001b[0mstat_all\u001b[0m\u001b[0;34m.\u001b[0m\u001b[0mappend\u001b[0m\u001b[0;34m(\u001b[0m\u001b[0mstat\u001b[0m\u001b[0;34m[\u001b[0m\u001b[0mstr\u001b[0m\u001b[0;34m(\u001b[0m\u001b[0mvar\u001b[0m\u001b[0;34m)\u001b[0m\u001b[0;34m]\u001b[0m\u001b[0;34m.\u001b[0m\u001b[0mto_dataframe\u001b[0m\u001b[0;34m(\u001b[0m\u001b[0;34m)\u001b[0m\u001b[0;34m.\u001b[0m\u001b[0mto_numpy\u001b[0m\u001b[0;34m(\u001b[0m\u001b[0;34m)\u001b[0m\u001b[0;34m.\u001b[0m\u001b[0mflatten\u001b[0m\u001b[0;34m(\u001b[0m\u001b[0;34m)\u001b[0m\u001b[0;34m)\u001b[0m\u001b[0;34m\u001b[0m\u001b[0;34m\u001b[0m\u001b[0m\n\u001b[1;32m     16\u001b[0m         \u001b[0;32melse\u001b[0m\u001b[0;34m:\u001b[0m\u001b[0;34m\u001b[0m\u001b[0;34m\u001b[0m\u001b[0m\n",
      "\u001b[0;32m~/anaconda/envs/py38/lib/python3.8/site-packages/xarray/core/dataset.py\u001b[0m in \u001b[0;36m__getitem__\u001b[0;34m(self, key)\u001b[0m\n\u001b[1;32m   1243\u001b[0m \u001b[0;34m\u001b[0m\u001b[0m\n\u001b[1;32m   1244\u001b[0m         \u001b[0;32mif\u001b[0m \u001b[0mhashable\u001b[0m\u001b[0;34m(\u001b[0m\u001b[0mkey\u001b[0m\u001b[0;34m)\u001b[0m\u001b[0;34m:\u001b[0m\u001b[0;34m\u001b[0m\u001b[0;34m\u001b[0m\u001b[0m\n\u001b[0;32m-> 1245\u001b[0;31m             \u001b[0;32mreturn\u001b[0m \u001b[0mself\u001b[0m\u001b[0;34m.\u001b[0m\u001b[0m_construct_dataarray\u001b[0m\u001b[0;34m(\u001b[0m\u001b[0mkey\u001b[0m\u001b[0;34m)\u001b[0m\u001b[0;34m\u001b[0m\u001b[0;34m\u001b[0m\u001b[0m\n\u001b[0m\u001b[1;32m   1246\u001b[0m         \u001b[0;32melse\u001b[0m\u001b[0;34m:\u001b[0m\u001b[0;34m\u001b[0m\u001b[0;34m\u001b[0m\u001b[0m\n\u001b[1;32m   1247\u001b[0m             \u001b[0;32mreturn\u001b[0m \u001b[0mself\u001b[0m\u001b[0;34m.\u001b[0m\u001b[0m_copy_listed\u001b[0m\u001b[0;34m(\u001b[0m\u001b[0mnp\u001b[0m\u001b[0;34m.\u001b[0m\u001b[0masarray\u001b[0m\u001b[0;34m(\u001b[0m\u001b[0mkey\u001b[0m\u001b[0;34m)\u001b[0m\u001b[0;34m)\u001b[0m\u001b[0;34m\u001b[0m\u001b[0;34m\u001b[0m\u001b[0m\n",
      "\u001b[0;32m~/anaconda/envs/py38/lib/python3.8/site-packages/xarray/core/dataset.py\u001b[0m in \u001b[0;36m_construct_dataarray\u001b[0;34m(self, name)\u001b[0m\n\u001b[1;32m   1155\u001b[0m             \u001b[0mvariable\u001b[0m \u001b[0;34m=\u001b[0m \u001b[0mself\u001b[0m\u001b[0;34m.\u001b[0m\u001b[0m_variables\u001b[0m\u001b[0;34m[\u001b[0m\u001b[0mname\u001b[0m\u001b[0;34m]\u001b[0m\u001b[0;34m\u001b[0m\u001b[0;34m\u001b[0m\u001b[0m\n\u001b[1;32m   1156\u001b[0m         \u001b[0;32mexcept\u001b[0m \u001b[0mKeyError\u001b[0m\u001b[0;34m:\u001b[0m\u001b[0;34m\u001b[0m\u001b[0;34m\u001b[0m\u001b[0m\n\u001b[0;32m-> 1157\u001b[0;31m             _, name, variable = _get_virtual_variable(\n\u001b[0m\u001b[1;32m   1158\u001b[0m                 \u001b[0mself\u001b[0m\u001b[0;34m.\u001b[0m\u001b[0m_variables\u001b[0m\u001b[0;34m,\u001b[0m \u001b[0mname\u001b[0m\u001b[0;34m,\u001b[0m \u001b[0mself\u001b[0m\u001b[0;34m.\u001b[0m\u001b[0m_level_coords\u001b[0m\u001b[0;34m,\u001b[0m \u001b[0mself\u001b[0m\u001b[0;34m.\u001b[0m\u001b[0mdims\u001b[0m\u001b[0;34m\u001b[0m\u001b[0;34m\u001b[0m\u001b[0m\n\u001b[1;32m   1159\u001b[0m             )\n",
      "\u001b[0;32m~/anaconda/envs/py38/lib/python3.8/site-packages/xarray/core/dataset.py\u001b[0m in \u001b[0;36m_get_virtual_variable\u001b[0;34m(variables, key, level_vars, dim_sizes)\u001b[0m\n\u001b[1;32m    163\u001b[0m         \u001b[0mref_var\u001b[0m \u001b[0;34m=\u001b[0m \u001b[0mdim_var\u001b[0m\u001b[0;34m.\u001b[0m\u001b[0mto_index_variable\u001b[0m\u001b[0;34m(\u001b[0m\u001b[0;34m)\u001b[0m\u001b[0;34m.\u001b[0m\u001b[0mget_level_variable\u001b[0m\u001b[0;34m(\u001b[0m\u001b[0mref_name\u001b[0m\u001b[0;34m)\u001b[0m\u001b[0;34m\u001b[0m\u001b[0;34m\u001b[0m\u001b[0m\n\u001b[1;32m    164\u001b[0m     \u001b[0;32melse\u001b[0m\u001b[0;34m:\u001b[0m\u001b[0;34m\u001b[0m\u001b[0;34m\u001b[0m\u001b[0m\n\u001b[0;32m--> 165\u001b[0;31m         \u001b[0mref_var\u001b[0m \u001b[0;34m=\u001b[0m \u001b[0mvariables\u001b[0m\u001b[0;34m[\u001b[0m\u001b[0mref_name\u001b[0m\u001b[0;34m]\u001b[0m\u001b[0;34m\u001b[0m\u001b[0;34m\u001b[0m\u001b[0m\n\u001b[0m\u001b[1;32m    166\u001b[0m \u001b[0;34m\u001b[0m\u001b[0m\n\u001b[1;32m    167\u001b[0m     \u001b[0;32mif\u001b[0m \u001b[0mvar_name\u001b[0m \u001b[0;32mis\u001b[0m \u001b[0;32mNone\u001b[0m\u001b[0;34m:\u001b[0m\u001b[0;34m\u001b[0m\u001b[0;34m\u001b[0m\u001b[0m\n",
      "\u001b[0;31mKeyError\u001b[0m: 'AllBeta_stickbreaking__'"
     ]
    }
   ],
   "source": [
    "for model_type in model_types:\n",
    "    print('Model: ' + str(model_type))\n",
    "    if model_type=='combined':\n",
    "        with cm_effect.models.CMCombined_Final(data) as model:\n",
    "            model.build_model()  \n",
    "    if model_type=='active':\n",
    "        with cm_effect.models.CMActive_Final(data) as model:\n",
    "            model.build_model()  \n",
    "    if model_type=='death':\n",
    "        with cm_effect.models.CMDeath_Final(data) as model:\n",
    "            model.build_model()      \n",
    "    if model_type=='combined_v3':\n",
    "        with cm_effect.models.CMCombined_Final_V3(data) as model:\n",
    "            model.build_model() \n",
    "    if model_type=='combined_additive':\n",
    "        with cm_effect.models.CMCombined_Additive(data) as model:\n",
    "            model.build_model()\n",
    "\n",
    "    model.run(20, chains=2, cores=2)\n",
    "    rhats = calc_trace_statistic(model,'rhat')\n",
    "    ess = calc_trace_statistic(model,'ess')\n",
    "    \n",
    "    #np.savetxt('out_final/rhats_'+ model_type + '.txt',rhats)\n",
    "    #np.savetxt('out_final/ess_'+ model_type + '.txt',ess)\n",
    "    #filename = 'out_final/default_' + model_type + '.txt'\n",
    "    #cm_trace = model.trace[\"CMReduction\"]\n",
    "    #np.savetxt(filename, cm_trace)"
   ]
  },
  {
   "cell_type": "markdown",
   "metadata": {},
   "source": [
    "### Plotting"
   ]
  },
  {
   "cell_type": "code",
   "execution_count": 54,
   "metadata": {},
   "outputs": [],
   "source": [
    "out_dir = 'out_SI_2'"
   ]
  },
  {
   "cell_type": "code",
   "execution_count": 55,
   "metadata": {},
   "outputs": [],
   "source": [
    "def plot_histogram_model_stat(stat_list, labels, colors, fontsize=12, bin_nums=[None, None, None]):\n",
    "    plt.figure()\n",
    "    for i in range(len(stat_list)):\n",
    "        sns.distplot(stat_list[i], kde=False, hist_kws={\"alpha\": 0.5}, label = labels[i], \n",
    "                     color=colors[i], bins=bin_nums[i])\n",
    "        plt.ylabel('Count')\n",
    "        sns.despine()\n",
    "        plt.tight_layout()\n",
    "        plt.rc('font', size=fontsize)\n",
    "        plt.legend(frameon=False)\n",
    "        plt.tight_layout()"
   ]
  },
  {
   "cell_type": "code",
   "execution_count": 56,
   "metadata": {},
   "outputs": [],
   "source": [
    "labels = ['Deaths','Active Cases','Combined']\n",
    "colors = ['tab:red', 'tab:blue', 'tab:purple']"
   ]
  },
  {
   "cell_type": "markdown",
   "metadata": {},
   "source": [
    "##### plot rhat"
   ]
  },
  {
   "cell_type": "code",
   "execution_count": 57,
   "metadata": {},
   "outputs": [
    {
     "data": {
      "image/png": "[encoded data removed]",
      "text/plain": [
       "<Figure size 432x288 with 1 Axes>"
      ]
     },
     "metadata": {
      "needs_background": "light"
     },
     "output_type": "display_data"
    },
    {
     "data": {
      "image/png": "[encoded data removed]",
      "text/plain": [
       "<Figure size 432x288 with 1 Axes>"
      ]
     },
     "metadata": {
      "needs_background": "light"
     },
     "output_type": "display_data"
    }
   ],
   "source": [
    "rhats_deaths= np.loadtxt(out_dir + '/rhats_death.txt')\n",
    "rhats_active= np.loadtxt(out_dir + '/rhats_active.txt')\n",
    "rhats_combined= np.loadtxt(out_dir + '/rhats_combined.txt')\n",
    "    \n",
    "plot_histogram_model_stat([rhats_deaths, rhats_active , rhats_combined], labels, colors)\n",
    "plt.xlabel('R-hat Statistic')\n",
    "plt.tight_layout()\n",
    "plt.savefig(out_dir +'/rhat_dist_all.pdf')\n",
    "\n",
    "plot_histogram_model_stat([rhats_deaths, rhats_active , rhats_combined], labels, colors)\n",
    "plt.xlabel('R-hat Statistic')\n",
    "plt.xlim([0.999, 1.01])\n",
    "plt.tight_layout()\n",
    "plt.savefig(out_dir +'/rhat_dist_all_zoom.pdf')"
   ]
  },
  {
   "cell_type": "markdown",
   "metadata": {},
   "source": [
    "##### plot ess"
   ]
  },
  {
   "cell_type": "code",
   "execution_count": 58,
   "metadata": {},
   "outputs": [
    {
     "data": {
      "image/png": "[encoded data removed]",
      "text/plain": [
       "<Figure size 432x288 with 1 Axes>"
      ]
     },
     "metadata": {
      "needs_background": "light"
     },
     "output_type": "display_data"
    }
   ],
   "source": [
    "ess_deaths= np.loadtxt(out_dir +'/ess_death.txt')\n",
    "ess_active= np.loadtxt(out_dir +'/ess_active.txt')\n",
    "ess_combined= np.loadtxt(out_dir +'/ess_combined.txt')\n",
    "\n",
    "plot_histogram_model_stat([ess_deaths,ess_active,ess_combined], labels, colors)\n",
    "plt.xlabel('Relative Effective Sample Size')\n",
    "plt.tight_layout()\n",
    "plt.savefig(out_dir +'/ess_dist_all.pdf')"
   ]
  },
  {
   "cell_type": "code",
   "execution_count": null,
   "metadata": {},
   "outputs": [],
   "source": []
  }
 ],
 "metadata": {
  "kernelspec": {
   "display_name": "Python 3",
   "language": "python",
   "name": "python3"
  },
  "language_info": {
   "codemirror_mode": {
    "name": "ipython",
    "version": 3
   },
   "file_extension": ".py",
   "mimetype": "text/x-python",
   "name": "python",
   "nbconvert_exporter": "python",
   "pygments_lexer": "ipython3",
   "version": "3.8.2"
  }
 },
 "nbformat": 4,
 "nbformat_minor": 4
}
