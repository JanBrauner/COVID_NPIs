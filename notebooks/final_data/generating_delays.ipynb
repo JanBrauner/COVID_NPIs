{
 "cells": [
  {
   "cell_type": "code",
   "execution_count": 1,
   "metadata": {},
   "outputs": [],
   "source": [
    "import numpy as np\n",
    "import matplotlib.pyplot as plt\n",
    "import matplotlib\n",
    "\n",
    "%matplotlib inline"
   ]
  },
  {
   "cell_type": "markdown",
   "metadata": {},
   "source": [
    "# infected to death\n",
    "See https://www.imperial.ac.uk/media/imperial-college/medicine/mrc-gida/2020-03-30-COVID19-Report-13.pdf We have, mean and cov $Gamma(5.1, 0.86)$ (incubation period) and $Gamma(18.8, 0.45)$ (onset-to-death)."
   ]
  },
  {
   "cell_type": "code",
   "execution_count": 2,
   "metadata": {},
   "outputs": [],
   "source": [
    "def gamma_mu_cov_to_shape_scale(mu, cov):\n",
    "    shape = 1/(cov**2)\n",
    "    scale = mu * (cov**2)\n",
    "    return shape, scale"
   ]
  },
  {
   "cell_type": "code",
   "execution_count": 3,
   "metadata": {},
   "outputs": [
    {
     "name": "stdout",
     "output_type": "stream",
     "text": [
      "Binned As [-1.   0.   1.5  2.5  3.5  4.5  5.5  6.5  7.5  8.5  9.5 10.5 11.5 12.5\n",
      " 13.5 14.5 15.5 16.5 17.5 18.5 19.5 20.5 21.5 22.5 23.5 24.5 25.5 26.5\n",
      " 27.5 28.5 29.5 30.5 31.5 32.5 33.5 34.5 35.5 36.5 37.5 38.5 39.5 40.5\n",
      " 41.5 42.5 43.5 44.5 45.5 46.5 47.5 48.5 49.5 50.5 51.5 52.5 53.5 54.5\n",
      " 55.5 56.5 57.5 58.5 59.5 60.5 61.5 62.5 63.5]\n",
      "Expectation: 22.867891187758683\n",
      "True Mean: 22.89951953598834\n",
      "Delay Prob: [0.00000000e+00 2.24600347e-06 3.90382088e-05 2.34307085e-04\n",
      " 7.83555003e-04 1.91221622e-03 3.78718437e-03 6.45923913e-03\n",
      " 9.94265709e-03 1.40610714e-02 1.86527920e-02 2.34311421e-02\n",
      " 2.81965055e-02 3.27668001e-02 3.68031574e-02 4.03026198e-02\n",
      " 4.30521951e-02 4.50637136e-02 4.63315047e-02 4.68794406e-02\n",
      " 4.67334059e-02 4.59561441e-02 4.47164503e-02 4.29327455e-02\n",
      " 4.08614522e-02 3.85082076e-02 3.60294203e-02 3.34601703e-02\n",
      " 3.08064505e-02 2.81766028e-02 2.56165924e-02 2.31354369e-02\n",
      " 2.07837267e-02 1.86074383e-02 1.65505661e-02 1.46527043e-02\n",
      " 1.29409383e-02 1.13695920e-02 9.93233881e-03 8.66063386e-03\n",
      " 7.53805464e-03 6.51560047e-03 5.63512264e-03 4.84296166e-03\n",
      " 4.14793478e-03 3.56267297e-03 3.03480656e-03 2.59406730e-03\n",
      " 2.19519042e-03 1.85454286e-03 1.58333238e-03 1.33002321e-03\n",
      " 1.11716435e-03 9.35360376e-04 7.87780158e-04 6.58601602e-04\n",
      " 5.48147154e-04 4.58151351e-04 3.85878963e-04 3.21623249e-04\n",
      " 2.66129174e-04 2.21364768e-04 1.80736566e-04 1.52350196e-04]\n"
     ]
    },
    {
     "data": {
      "image/png": "[encoded data removed]",
      "text/plain": [
       "<Figure size 432x288 with 1 Axes>"
      ]
     },
     "metadata": {
      "needs_background": "light"
     },
     "output_type": "display_data"
    }
   ],
   "source": [
    "nRVs= int(9e7)\n",
    "shp1, scl1 = gamma_mu_cov_to_shape_scale(5.1, 0.86)\n",
    "shp2, scl2 = gamma_mu_cov_to_shape_scale(17.8, 0.45)\n",
    "samples = np.random.gamma(shape=shp1, scale=scl1, size=nRVs) + np.random.gamma(shape=shp2, scale=scl2, size=nRVs)\n",
    "bins = np.arange(-1, 64.0)\n",
    "bins[2:] += 0.5\n",
    "print(f\"Binned As {bins}\")\n",
    "\n",
    "n, _, _ = plt.hist(samples, bins);\n",
    "delay_prob = n / np.sum(n)\n",
    "print(f\"Expectation: {np.sum([(i) * delay_prob[i] for i in range(64)])}\")\n",
    "print(f\"True Mean: {np.mean(samples)}\")\n",
    "print(f\"Delay Prob: {delay_prob}\")"
   ]
  },
  {
   "cell_type": "code",
   "execution_count": 4,
   "metadata": {},
   "outputs": [
    {
     "data": {
      "text/plain": [
       "array([0.00000000e+00, 2.24600347e-06, 3.90382088e-05, 2.34307085e-04,\n",
       "       7.83555003e-04, 1.91221622e-03, 3.78718437e-03, 6.45923913e-03,\n",
       "       9.94265709e-03, 1.40610714e-02, 1.86527920e-02, 2.34311421e-02,\n",
       "       2.81965055e-02, 3.27668001e-02, 3.68031574e-02, 4.03026198e-02,\n",
       "       4.30521951e-02, 4.50637136e-02, 4.63315047e-02, 4.68794406e-02,\n",
       "       4.67334059e-02, 4.59561441e-02, 4.47164503e-02, 4.29327455e-02,\n",
       "       4.08614522e-02, 3.85082076e-02, 3.60294203e-02, 3.34601703e-02,\n",
       "       3.08064505e-02, 2.81766028e-02, 2.56165924e-02, 2.31354369e-02,\n",
       "       2.07837267e-02, 1.86074383e-02, 1.65505661e-02, 1.46527043e-02,\n",
       "       1.29409383e-02, 1.13695920e-02, 9.93233881e-03, 8.66063386e-03,\n",
       "       7.53805464e-03, 6.51560047e-03, 5.63512264e-03, 4.84296166e-03,\n",
       "       4.14793478e-03, 3.56267297e-03, 3.03480656e-03, 2.59406730e-03,\n",
       "       2.19519042e-03, 1.85454286e-03, 1.58333238e-03, 1.33002321e-03,\n",
       "       1.11716435e-03, 9.35360376e-04, 7.87780158e-04, 6.58601602e-04,\n",
       "       5.48147154e-04, 4.58151351e-04, 3.85878963e-04, 3.21623249e-04,\n",
       "       2.66129174e-04, 2.21364768e-04, 1.80736566e-04, 1.52350196e-04])"
      ]
     },
     "execution_count": 4,
     "metadata": {},
     "output_type": "execute_result"
    }
   ],
   "source": [
    "delay_prob"
   ]
  },
  {
   "cell_type": "markdown",
   "metadata": {},
   "source": [
    "# infected to confirmed\n",
    "See https://www.imperial.ac.uk/media/imperial-college/medicine/mrc-gida/2020-03-30-COVID19-Report-13.pdf We have, mean and cov $Gamma(5.1, 0.86)$ (incubation period). \n",
    "\n",
    "Then, the symptoms to confirmation period, see https://arxiv.org/ftp/arxiv/papers/2003/2003.09320.pdf. \n",
    "\n",
    "\"Negative binomial distribution to the data. We found that the best-fitting distribution has mean 5.25 and dispersion 1.57\"\n",
    "\n",
    "for the NB, the dispersion is exactly n (or r on wikipedia). We can then solve for p, but the numpy version seems to use 1-p."
   ]
  },
  {
   "cell_type": "code",
   "execution_count": 2,
   "metadata": {},
   "outputs": [
    {
     "name": "stdout",
     "output_type": "stream",
     "text": [
      "Binned As [-0.1  0.9  1.9  2.9  3.9  4.9  5.9  6.9  7.9  8.9  9.9 10.9 11.9 12.9\n",
      " 13.9 14.9 15.9 16.9 17.9 18.9 19.9 20.9 21.9 22.9 23.9 24.9 25.9 26.9\n",
      " 27.9 28.9 29.9 30.9 31.9 32.9 33.9 34.9 35.9 36.9 37.9 38.9 39.9 40.9\n",
      " 41.9 42.9 43.9 44.9 45.9 46.9 47.9 48.9 49.9 50.9 51.9 52.9 53.9 54.9\n",
      " 55.9 56.9 57.9 58.9 59.9 60.9 61.9 62.9 63.9]\n",
      "Expectation: 5.250058900010471\n",
      "True Mean: 5.250069844444444\n",
      "Delay Prob: [9.96264510e-02 1.20441299e-01 1.19165843e-01 1.09156042e-01\n",
      " 9.59400615e-02 8.23502480e-02 6.94032012e-02 5.77684769e-02\n",
      " 4.76384529e-02 3.89844292e-02 3.17187501e-02 2.56726601e-02\n",
      " 2.07234370e-02 1.66698030e-02 1.33363246e-02 1.06390686e-02\n",
      " 8.51633485e-03 6.75893453e-03 5.36412318e-03 4.24502298e-03\n",
      " 3.36853393e-03 2.66613381e-03 2.09295593e-03 1.65972252e-03\n",
      " 1.31214468e-03 1.02751129e-03 8.09000144e-04 6.34500113e-04\n",
      " 4.98944533e-04 3.95455626e-04 3.09777833e-04 2.40877821e-04\n",
      " 1.87233367e-04 1.47355582e-04 1.16288910e-04 9.06444606e-05\n",
      " 7.20333461e-05 5.38444540e-05 4.40000078e-05 3.49666729e-05\n",
      " 2.64888936e-05 1.98666702e-05 1.68666697e-05 1.20777799e-05\n",
      " 1.00000018e-05 7.46666799e-06 6.27777889e-06 4.57777859e-06\n",
      " 3.74444511e-06 2.91111163e-06 1.91111145e-06 1.66666696e-06\n",
      " 1.18888910e-06 1.03333352e-06 6.77777898e-07 7.11111238e-07\n",
      " 3.22222280e-07 3.11111166e-07 2.33333375e-07 2.00000036e-07\n",
      " 2.22222262e-07 1.11111131e-07 1.00000018e-07 1.44444470e-07]\n"
     ]
    },
    {
     "data": {
      "image/png": "[encoded data removed]",
      "text/plain": [
       "<Figure size 432x288 with 1 Axes>"
      ]
     },
     "metadata": {
      "needs_background": "light"
     },
     "output_type": "display_data"
    }
   ],
   "source": [
    "nRVs= int(9e7)\n",
    "samples =  np.random.negative_binomial(1.57, (1-0.7698),size=nRVs)\n",
    "bins = np.arange(0, 65.0)\n",
    "bins -= 0.1\n",
    "print(f\"Binned As {bins}\")\n",
    "\n",
    "n, _, _ = plt.hist(samples, bins);\n",
    "delay_prob = n / np.sum(n)\n",
    "print(f\"Expectation: {np.sum([(i) * delay_prob[i] for i in range(64)])}\")\n",
    "print(f\"True Mean: {np.mean(samples)}\")\n",
    "print(f\"Delay Prob: {delay_prob}\")"
   ]
  },
  {
   "cell_type": "markdown",
   "metadata": {},
   "source": [
    "The above histogram well matches the estimate from the paper, so our conversion formula looks correct. \n",
    "\n",
    "We use the sum of these distributions. "
   ]
  },
  {
   "cell_type": "code",
   "execution_count": 3,
   "metadata": {},
   "outputs": [
    {
     "name": "stdout",
     "output_type": "stream",
     "text": [
      "Expectation: 50.36383160912562\n"
     ]
    }
   ],
   "source": [
    "print(f\"Expectation: {np.sum([(i**2) * delay_prob[i] for i in range(64)])}\")"
   ]
  },
  {
   "cell_type": "code",
   "execution_count": 21,
   "metadata": {},
   "outputs": [
    {
     "name": "stdout",
     "output_type": "stream",
     "text": [
      "Binned As [-1.   0.   1.5  2.5  3.5  4.5  5.5  6.5  7.5  8.5  9.5 10.5 11.5 12.5\n",
      " 13.5 14.5 15.5 16.5 17.5 18.5 19.5 20.5 21.5 22.5 23.5 24.5 25.5 26.5\n",
      " 27.5 28.5 29.5 30.5 31.5]\n",
      "Expectation: 10.13292134433993\n",
      "True Mean: 10.34964783942911\n",
      "Delay Prob: [0.         0.0252817  0.03717965 0.05181224 0.06274125 0.06961334\n",
      " 0.07277174 0.07292397 0.07077184 0.06694868 0.06209945 0.05659917\n",
      " 0.0508999  0.0452042  0.03976573 0.03470891 0.0299895  0.02577721\n",
      " 0.02199923 0.01871723 0.01577148 0.01326564 0.01110783 0.00928827\n",
      " 0.0077231  0.00641162 0.00530572 0.00437895 0.00358801 0.00295791\n",
      " 0.0024217  0.00197484]\n"
     ]
    },
    {
     "data": {
      "image/png": "[encoded data removed]",
      "text/plain": [
       "<Figure size 432x288 with 1 Axes>"
      ]
     },
     "metadata": {
      "needs_background": "light"
     },
     "output_type": "display_data"
    }
   ],
   "source": [
    "nRVs= int(9e7)\n",
    "shp1, scl1 = gamma_mu_cov_to_shape_scale(5.1, 0.86)\n",
    "samples = np.random.gamma(shape=shp1, scale=scl1, size=nRVs) + np.random.negative_binomial(1.57, (1-0.7698), size=nRVs)\n",
    "bins = np.arange(-1, 32.0)\n",
    "bins[2:] += 0.5\n",
    "print(f\"Binned As {bins}\")\n",
    "\n",
    "n, _, _ = plt.hist(samples, bins);\n",
    "delay_prob = n / np.sum(n)\n",
    "print(f\"Expectation: {np.sum([(i) * delay_prob[i] for i in range(32)])}\")\n",
    "print(f\"True Mean: {np.mean(samples)}\")\n",
    "print(f\"Delay Prob: {delay_prob}\")"
   ]
  },
  {
   "cell_type": "code",
   "execution_count": 22,
   "metadata": {},
   "outputs": [
    {
     "data": {
      "text/plain": [
       "array([0.        , 0.0252817 , 0.03717965, 0.05181224, 0.06274125,\n",
       "       0.06961334, 0.07277174, 0.07292397, 0.07077184, 0.06694868,\n",
       "       0.06209945, 0.05659917, 0.0508999 , 0.0452042 , 0.03976573,\n",
       "       0.03470891, 0.0299895 , 0.02577721, 0.02199923, 0.01871723,\n",
       "       0.01577148, 0.01326564, 0.01110783, 0.00928827, 0.0077231 ,\n",
       "       0.00641162, 0.00530572, 0.00437895, 0.00358801, 0.00295791,\n",
       "       0.0024217 , 0.00197484])"
      ]
     },
     "execution_count": 22,
     "metadata": {},
     "output_type": "execute_result"
    }
   ],
   "source": [
    "delay_prob"
   ]
  },
  {
   "cell_type": "code",
   "execution_count": 20,
   "metadata": {},
   "outputs": [
    {
     "data": {
      "text/plain": [
       "64"
      ]
     },
     "execution_count": 20,
     "metadata": {},
     "output_type": "execute_result"
    }
   ],
   "source": [
    "len(delay_prob)"
   ]
  },
  {
   "cell_type": "code",
   "execution_count": 6,
   "metadata": {},
   "outputs": [],
   "source": [
    "x = np.arange(100)"
   ]
  },
  {
   "cell_type": "code",
   "execution_count": 7,
   "metadata": {},
   "outputs": [
    {
     "data": {
      "text/plain": [
       "array([0, 1, 2, 3, 4, 5, 6, 7, 8, 9])"
      ]
     },
     "execution_count": 7,
     "metadata": {},
     "output_type": "execute_result"
    }
   ],
   "source": [
    "x[:10]"
   ]
  },
  {
   "cell_type": "code",
   "execution_count": 8,
   "metadata": {},
   "outputs": [
    {
     "data": {
      "text/plain": [
       "10"
      ]
     },
     "execution_count": 8,
     "metadata": {},
     "output_type": "execute_result"
    }
   ],
   "source": [
    "x[10]"
   ]
  },
  {
   "cell_type": "code",
   "execution_count": null,
   "metadata": {},
   "outputs": [],
   "source": []
  }
 ],
 "metadata": {
  "kernelspec": {
   "display_name": "Python 3",
   "language": "python",
   "name": "python3"
  },
  "language_info": {
   "codemirror_mode": {
    "name": "ipython",
    "version": 3
   },
   "file_extension": ".py",
   "mimetype": "text/x-python",
   "name": "python",
   "nbconvert_exporter": "python",
   "pygments_lexer": "ipython3",
   "version": "3.7.4"
  }
 },
 "nbformat": 4,
 "nbformat_minor": 4
}
