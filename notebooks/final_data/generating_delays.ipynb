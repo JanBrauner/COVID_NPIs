{
 "cells": [
  {
   "cell_type": "code",
   "execution_count": 113,
   "metadata": {},
   "outputs": [],
   "source": [
    "import numpy as np\n",
    "import matplotlib.pyplot as plt\n",
    "import matplotlib\n",
    "\n",
    "%matplotlib inline"
   ]
  },
  {
   "cell_type": "markdown",
   "metadata": {},
   "source": [
    "# infected to death\n",
    "See https://www.imperial.ac.uk/media/imperial-college/medicine/mrc-gida/2020-03-30-COVID19-Report-13.pdf We have, mean and cov $Gamma(5.1, 0.86)$ (incubation period) and $Gamma(18.8, 0.45)$ (onset-to-death)."
   ]
  },
  {
   "cell_type": "code",
   "execution_count": 1,
   "metadata": {},
   "outputs": [],
   "source": [
    "def gamma_mu_cov_to_shape_scale(mu, cov):\n",
    "    shape = 1/(cov**2)\n",
    "    scale = mu * (cov**2)\n",
    "    return shape, scale"
   ]
  },
  {
   "cell_type": "code",
   "execution_count": 2,
   "metadata": {},
   "outputs": [
    {
     "data": {
      "text/plain": [
       "(7.934933544931561, 0.841670565)"
      ]
     },
     "execution_count": 2,
     "metadata": {},
     "output_type": "execute_result"
    }
   ],
   "source": [
    "gamma_mu_cov_to_shape_scale(6.6786, 0.355)"
   ]
  },
  {
   "cell_type": "code",
   "execution_count": 117,
   "metadata": {},
   "outputs": [
    {
     "name": "stdout",
     "output_type": "stream",
     "text": [
      "Binned As [-1.   0.   1.5  2.5  3.5  4.5  5.5  6.5  7.5  8.5  9.5 10.5 11.5 12.5\n",
      " 13.5 14.5 15.5 16.5 17.5 18.5 19.5 20.5 21.5 22.5 23.5 24.5 25.5 26.5\n",
      " 27.5 28.5 29.5 30.5 31.5 32.5 33.5 34.5 35.5 36.5 37.5 38.5 39.5 40.5\n",
      " 41.5 42.5 43.5 44.5 45.5 46.5 47.5 48.5 49.5 50.5 51.5 52.5 53.5 54.5\n",
      " 55.5 56.5 57.5 58.5 59.5 60.5 61.5 62.5 63.5]\n",
      "Expectation: 22.867563921286006\n",
      "True Mean: 22.899218231139947\n",
      "Delay Prob: [0.00000000e+00 2.26823914e-06 3.97386602e-05 2.32728007e-04\n",
      " 7.82498027e-04 1.91317076e-03 3.78936033e-03 6.48428415e-03\n",
      " 9.92470258e-03 1.40955051e-02 1.86363976e-02 2.34412730e-02\n",
      " 2.82231214e-02 3.27336595e-02 3.68039368e-02 4.02678937e-02\n",
      " 4.30719043e-02 4.50892917e-02 4.63994889e-02 4.68621764e-02\n",
      " 4.67267158e-02 4.59391476e-02 4.46884694e-02 4.29271373e-02\n",
      " 4.08462725e-02 3.85067395e-02 3.60083964e-02 3.34328553e-02\n",
      " 3.07918689e-02 2.81550965e-02 2.56301015e-02 2.31363950e-02\n",
      " 2.08238585e-02 1.85958806e-02 1.65456481e-02 1.46620090e-02\n",
      " 1.29463751e-02 1.13641560e-02 9.94287073e-03 8.67175619e-03\n",
      " 7.51281941e-03 6.53161697e-03 5.63015869e-03 4.83373991e-03\n",
      " 4.15889429e-03 3.56570528e-03 3.04292063e-03 2.58299067e-03\n",
      " 2.20720794e-03 1.86094567e-03 1.56512948e-03 1.32743136e-03\n",
      " 1.11964287e-03 9.40685469e-04 7.89135962e-04 6.61280659e-04\n",
      " 5.55562925e-04 4.57016829e-04 3.83376889e-04 3.19176827e-04\n",
      " 2.67185228e-04 2.21687019e-04 1.81470250e-04 1.49070010e-04]\n"
     ]
    },
    {
     "data": {
      "image/png": "[encoded data removed]",
      "text/plain": [
       "<Figure size 432x288 with 1 Axes>"
      ]
     },
     "metadata": {
      "needs_background": "light"
     },
     "output_type": "display_data"
    }
   ],
   "source": [
    "nRVs= int(9e7)\n",
    "shp1, scl1 = gamma_mu_cov_to_shape_scale(5.1, 0.86)\n",
    "shp2, scl2 = gamma_mu_cov_to_shape_scale(17.8, 0.45)\n",
    "samples = np.random.gamma(shape=shp1, scale=scl1, size=nRVs) + np.random.gamma(shape=shp2, scale=scl2, size=nRVs)\n",
    "bins = np.arange(-1, 64.0)\n",
    "bins[2:] += 0.5\n",
    "print(f\"Binned As {bins}\")\n",
    "\n",
    "n, _, _ = plt.hist(samples, bins);\n",
    "delay_prob = n / np.sum(n)\n",
    "print(f\"Expectation: {np.sum([(i) * delay_prob[i] for i in range(64)])}\")\n",
    "print(f\"True Mean: {np.mean(samples)}\")\n",
    "print(f\"Delay Prob: {delay_prob}\")"
   ]
  },
  {
   "cell_type": "code",
   "execution_count": 138,
   "metadata": {},
   "outputs": [
    {
     "data": {
      "text/plain": [
       "7.934192645352462"
      ]
     },
     "execution_count": 138,
     "metadata": {},
     "output_type": "execute_result"
    }
   ],
   "source": [
    "100*np.sum(delay_prob[:12])"
   ]
  },
  {
   "cell_type": "markdown",
   "metadata": {},
   "source": [
    "# infected to confirmed\n",
    "See https://www.imperial.ac.uk/media/imperial-college/medicine/mrc-gida/2020-03-30-COVID19-Report-13.pdf We have, mean and cov $Gamma(5.1, 0.86)$ (incubation period). \n",
    "\n",
    "Then, the symptoms to confirmation period, see https://arxiv.org/ftp/arxiv/papers/2003/2003.09320.pdf. \n",
    "\n",
    "\"Negative binomial distribution to the data. We found that the best-fitting distribution has mean 5.25 and dispersion 1.57\"\n",
    "\n",
    "for the NB, the dispersion is exactly n (or r on wikipedia). We can then solve for p, but the numpy version seems to use 1-p."
   ]
  },
  {
   "cell_type": "code",
   "execution_count": 2,
   "metadata": {},
   "outputs": [
    {
     "name": "stdout",
     "output_type": "stream",
     "text": [
      "Binned As [-0.1  0.9  1.9  2.9  3.9  4.9  5.9  6.9  7.9  8.9  9.9 10.9 11.9 12.9\n",
      " 13.9 14.9 15.9 16.9 17.9 18.9 19.9 20.9 21.9 22.9 23.9 24.9 25.9 26.9\n",
      " 27.9 28.9 29.9 30.9 31.9 32.9 33.9 34.9 35.9 36.9 37.9 38.9 39.9 40.9\n",
      " 41.9 42.9 43.9 44.9 45.9 46.9 47.9 48.9 49.9 50.9 51.9 52.9 53.9 54.9\n",
      " 55.9 56.9 57.9 58.9 59.9 60.9 61.9 62.9 63.9]\n",
      "Expectation: 5.250058900010471\n",
      "True Mean: 5.250069844444444\n",
      "Delay Prob: [9.96264510e-02 1.20441299e-01 1.19165843e-01 1.09156042e-01\n",
      " 9.59400615e-02 8.23502480e-02 6.94032012e-02 5.77684769e-02\n",
      " 4.76384529e-02 3.89844292e-02 3.17187501e-02 2.56726601e-02\n",
      " 2.07234370e-02 1.66698030e-02 1.33363246e-02 1.06390686e-02\n",
      " 8.51633485e-03 6.75893453e-03 5.36412318e-03 4.24502298e-03\n",
      " 3.36853393e-03 2.66613381e-03 2.09295593e-03 1.65972252e-03\n",
      " 1.31214468e-03 1.02751129e-03 8.09000144e-04 6.34500113e-04\n",
      " 4.98944533e-04 3.95455626e-04 3.09777833e-04 2.40877821e-04\n",
      " 1.87233367e-04 1.47355582e-04 1.16288910e-04 9.06444606e-05\n",
      " 7.20333461e-05 5.38444540e-05 4.40000078e-05 3.49666729e-05\n",
      " 2.64888936e-05 1.98666702e-05 1.68666697e-05 1.20777799e-05\n",
      " 1.00000018e-05 7.46666799e-06 6.27777889e-06 4.57777859e-06\n",
      " 3.74444511e-06 2.91111163e-06 1.91111145e-06 1.66666696e-06\n",
      " 1.18888910e-06 1.03333352e-06 6.77777898e-07 7.11111238e-07\n",
      " 3.22222280e-07 3.11111166e-07 2.33333375e-07 2.00000036e-07\n",
      " 2.22222262e-07 1.11111131e-07 1.00000018e-07 1.44444470e-07]\n"
     ]
    },
    {
     "data": {
      "image/png": "[encoded data removed]",
      "text/plain": [
       "<Figure size 432x288 with 1 Axes>"
      ]
     },
     "metadata": {
      "needs_background": "light"
     },
     "output_type": "display_data"
    }
   ],
   "source": [
    "nRVs= int(9e7)\n",
    "samples =  np.random.negative_binomial(1.57, (1-0.7698),size=nRVs)\n",
    "bins = np.arange(0, 65.0)\n",
    "bins -= 0.1\n",
    "print(f\"Binned As {bins}\")\n",
    "\n",
    "n, _, _ = plt.hist(samples, bins);\n",
    "delay_prob = n / np.sum(n)\n",
    "print(f\"Expectation: {np.sum([(i) * delay_prob[i] for i in range(64)])}\")\n",
    "print(f\"True Mean: {np.mean(samples)}\")\n",
    "print(f\"Delay Prob: {delay_prob}\")"
   ]
  },
  {
   "cell_type": "markdown",
   "metadata": {},
   "source": [
    "The above histogram well matches the estimate from the paper, so our conversion formula looks correct. \n",
    "\n",
    "We use the sum of these distributions. "
   ]
  },
  {
   "cell_type": "code",
   "execution_count": 3,
   "metadata": {},
   "outputs": [
    {
     "name": "stdout",
     "output_type": "stream",
     "text": [
      "Expectation: 50.36383160912562\n"
     ]
    }
   ],
   "source": [
    "print(f\"Expectation: {np.sum([(i**2) * delay_prob[i] for i in range(64)])}\")"
   ]
  },
  {
   "cell_type": "code",
   "execution_count": 140,
   "metadata": {},
   "outputs": [
    {
     "name": "stdout",
     "output_type": "stream",
     "text": [
      "Binned As [-1.   0.   1.5  2.5  3.5  4.5  5.5  6.5  7.5  8.5  9.5 10.5 11.5 12.5\n",
      " 13.5 14.5 15.5 16.5 17.5 18.5 19.5 20.5 21.5 22.5 23.5 24.5 25.5 26.5\n",
      " 27.5 28.5 29.5 30.5 31.5]\n",
      "Expectation: 10.13493336441514\n",
      "True Mean: 10.351819057276149\n",
      "Delay Prob: [0.         0.02526612 0.03715418 0.05183672 0.06269466 0.06962855\n",
      " 0.07279854 0.07289268 0.0707381  0.06693029 0.0620542  0.05666281\n",
      " 0.05085706 0.04522378 0.03977681 0.03465673 0.0300131  0.02577754\n",
      " 0.02201089 0.01868654 0.01580402 0.01328623 0.01115664 0.00931554\n",
      " 0.00773392 0.00640876 0.00530438 0.00438226 0.00358897 0.00294733\n",
      " 0.00242969 0.00198296]\n"
     ]
    },
    {
     "data": {
      "image/png": "[encoded data removed]",
      "text/plain": [
       "<Figure size 432x288 with 1 Axes>"
      ]
     },
     "metadata": {
      "needs_background": "light"
     },
     "output_type": "display_data"
    }
   ],
   "source": [
    "nRVs= int(9e7)\n",
    "shp1, scl1 = gamma_mu_cov_to_shape_scale(5.1, 0.86)\n",
    "samples = np.random.gamma(shape=shp1, scale=scl1, size=nRVs) + np.random.negative_binomial(1.57, (1-0.7698), size=nRVs)\n",
    "bins = np.arange(-1, 32.0)\n",
    "bins[2:] += 0.5\n",
    "print(f\"Binned As {bins}\")\n",
    "\n",
    "n, _, _ = plt.hist(samples, bins);\n",
    "delay_prob = n / np.sum(n)\n",
    "print(f\"Expectation: {np.sum([(i) * delay_prob[i] for i in range(32)])}\")\n",
    "print(f\"True Mean: {np.mean(samples)}\")\n",
    "print(f\"Delay Prob: {delay_prob}\")"
   ]
  },
  {
   "cell_type": "code",
   "execution_count": 149,
   "metadata": {},
   "outputs": [
    {
     "data": {
      "text/plain": [
       "0.062420301416594035"
      ]
     },
     "execution_count": 149,
     "metadata": {},
     "output_type": "execute_result"
    }
   ],
   "source": [
    "np.sum(delay_prob[:3])"
   ]
  },
  {
   "cell_type": "code",
   "execution_count": 9,
   "metadata": {},
   "outputs": [],
   "source": [
    "# shorter"
   ]
  },
  {
   "cell_type": "code",
   "execution_count": 53,
   "metadata": {},
   "outputs": [
    {
     "name": "stdout",
     "output_type": "stream",
     "text": [
      "Binned As [-1.   0.   1.5  2.5  3.5  4.5  5.5  6.5  7.5  8.5  9.5 10.5 11.5 12.5\n",
      " 13.5 14.5 15.5 16.5 17.5 18.5 19.5 20.5 21.5 22.5 23.5 24.5 25.5 26.5\n",
      " 27.5 28.5 29.5 30.5 31.5]\n",
      "Expectation: 8.3057848349173\n",
      "SD: 5.185255711466038\n",
      "True Mean: 8.350923268452327\n",
      "Delay Prob: [0.         0.04086903 0.05623389 0.07404812 0.08464692 0.08861931\n",
      " 0.08750149 0.08273123 0.07575679 0.06766597 0.05910415 0.05093048\n",
      " 0.04321916 0.03622008 0.03000523 0.02472037 0.02016809 0.01637281\n",
      " 0.01318903 0.01057912 0.00844349 0.0067064  0.00529629 0.00416558\n",
      " 0.00327265 0.00255511 0.00200011 0.00155583 0.00120648 0.00093964\n",
      " 0.00072111 0.00055606]\n"
     ]
    },
    {
     "data": {
      "image/png": "[encoded data removed]",
      "text/plain": [
       "<Figure size 432x288 with 1 Axes>"
      ]
     },
     "metadata": {
      "needs_background": "light"
     },
     "output_type": "display_data"
    }
   ],
   "source": [
    "m = 5.25-1\n",
    "r = 1.57\n",
    "p = m / (m + r)\n",
    "\n",
    "\n",
    "nRVs= int(9e7)\n",
    "shp1, scl1 = gamma_mu_cov_to_shape_scale(5.1-1, 0.86)\n",
    "samples = np.random.gamma(shape=shp1, scale=scl1, size=nRVs) + np.random.negative_binomial(r,1-p, size=nRVs)\n",
    "bins = np.arange(-1, 32.0)\n",
    "bins[2:] += 0.5\n",
    "print(f\"Binned As {bins}\")\n",
    "\n",
    "n, _, _ = plt.hist(samples, bins);\n",
    "delay_prob = n / np.sum(n)\n",
    "ex = np.sum([(i) * delay_prob[i] for i in range(32)])\n",
    "ex2 = np.sum([(i)**2 * delay_prob[i] for i in range(32)])\n",
    "print(f\"Expectation: {ex}\")\n",
    "print(f\"SD: {np.sqrt(ex2 - ex**2)}\")\n",
    "print(f\"True Mean: {np.mean(samples)}\")\n",
    "print(f\"Delay Prob: {delay_prob}\")\n",
    "delay_prob_short = delay_prob"
   ]
  },
  {
   "cell_type": "code",
   "execution_count": 52,
   "metadata": {},
   "outputs": [
    {
     "name": "stdout",
     "output_type": "stream",
     "text": [
      "Binned As [-1.   0.   1.5  2.5  3.5  4.5  5.5  6.5  7.5  8.5  9.5 10.5 11.5 12.5\n",
      " 13.5 14.5 15.5 16.5 17.5 18.5 19.5 20.5 21.5 22.5 23.5 24.5 25.5 26.5\n",
      " 27.5 28.5 29.5 30.5 31.5]\n",
      "Expectation: 11.759742361103644\n",
      "SD: 6.660722379000485\n",
      "True Mean: 12.350197949695973\n",
      "Delay Prob: [0.         0.01690821 0.02602795 0.03772294 0.0474657  0.05484009\n",
      " 0.05969648 0.06231737 0.06292536 0.0619761  0.05983904 0.05677383\n",
      " 0.05311211 0.04914501 0.04502909 0.04085248 0.03682251 0.03290895\n",
      " 0.02924259 0.02585378 0.02274018 0.01993739 0.01739687 0.01511531\n",
      " 0.01309569 0.01130081 0.00972391 0.00832998 0.00716289 0.00610338\n",
      " 0.00520349 0.00443053]\n"
     ]
    },
    {
     "data": {
      "image/png": "[encoded data removed]",
      "text/plain": [
       "<Figure size 432x288 with 1 Axes>"
      ]
     },
     "metadata": {
      "needs_background": "light"
     },
     "output_type": "display_data"
    }
   ],
   "source": [
    "m = 5.25+1\n",
    "r = 1.57\n",
    "p = m / (m + r)\n",
    "\n",
    "\n",
    "nRVs= int(9e7)\n",
    "shp1, scl1 = gamma_mu_cov_to_shape_scale(5.1+1, 0.86)\n",
    "samples = np.random.gamma(shape=shp1, scale=scl1, size=nRVs) + np.random.negative_binomial(r,1-p, size=nRVs)\n",
    "bins = np.arange(-1, 32.0)\n",
    "bins[2:] += 0.5\n",
    "print(f\"Binned As {bins}\")\n",
    "\n",
    "n, _, _ = plt.hist(samples, bins);\n",
    "delay_prob = n / np.sum(n)\n",
    "ex = np.sum([(i) * delay_prob[i] for i in range(32)])\n",
    "ex2 = np.sum([(i)**2 * delay_prob[i] for i in range(32)])\n",
    "print(f\"Expectation: {ex}\")\n",
    "print(f\"SD: {np.sqrt(ex2 - ex**2)}\")\n",
    "print(f\"True Mean: {np.mean(samples)}\")\n",
    "print(f\"Delay Prob: {delay_prob}\")\n",
    "delay_prob_long = delay_prob"
   ]
  },
  {
   "cell_type": "code",
   "execution_count": 110,
   "metadata": {},
   "outputs": [
    {
     "data": {
      "text/plain": [
       "array([0.        , 0.01690821, 0.02602795, 0.03772294, 0.0474657 ,\n",
       "       0.05484009, 0.05969648, 0.06231737, 0.06292536, 0.0619761 ,\n",
       "       0.05983904, 0.05677383, 0.05311211, 0.04914501, 0.04502909,\n",
       "       0.04085248, 0.03682251, 0.03290895, 0.02924259, 0.02585378,\n",
       "       0.02274018, 0.01993739, 0.01739687, 0.01511531, 0.01309569,\n",
       "       0.01130081, 0.00972391, 0.00832998, 0.00716289, 0.00610338,\n",
       "       0.00520349, 0.00443053])"
      ]
     },
     "execution_count": 110,
     "metadata": {},
     "output_type": "execute_result"
    }
   ],
   "source": [
    "delay_prob_long"
   ]
  },
  {
   "cell_type": "code",
   "execution_count": 88,
   "metadata": {},
   "outputs": [],
   "source": [
    "import theano\n",
    "import theano.tensor as T\n",
    "import theano.tensor.signal.conv as C\n",
    "import theano.tensor.nnet.conv as C2"
   ]
  },
  {
   "cell_type": "code",
   "execution_count": 106,
   "metadata": {},
   "outputs": [],
   "source": [
    "f = np.stack([delay_prob_short, delay_prob_long]).reshape((2, 1, 32))\n",
    "d = np.array([[1, 2.0, 3], [1, 2, 3], [1, 2, 3], [1, 2, 3]]).reshape((4, 3))"
   ]
  },
  {
   "cell_type": "code",
   "execution_count": 108,
   "metadata": {},
   "outputs": [],
   "source": [
    "expected_deaths = C.conv2d(d, f, border_mode=\"full\")"
   ]
  },
  {
   "cell_type": "code",
   "execution_count": 109,
   "metadata": {},
   "outputs": [
    {
     "data": {
      "text/plain": [
       "array([[[0.        , 0.04086903, 0.13797195, 0.30912299, 0.40144483,\n",
       "         0.48005751, 0.51868086, 0.52359213, 0.50372371, 0.46737324,\n",
       "         0.42170647, 0.37213671, 0.32239258, 0.27544983, 0.23210286,\n",
       "         0.19339107, 0.15962452, 0.13087011, 0.10643892, 0.08607561,\n",
       "         0.06916881, 0.05533073, 0.04403956, 0.03487734, 0.02749266,\n",
       "         0.02159713, 0.01692827, 0.01322139, 0.01031847, 0.0080201 ,\n",
       "         0.00621983, 0.00481719, 0.00327544, 0.00166818],\n",
       "        [0.        , 0.04086903, 0.13797195, 0.30912299, 0.40144483,\n",
       "         0.48005751, 0.51868086, 0.52359213, 0.50372371, 0.46737324,\n",
       "         0.42170647, 0.37213671, 0.32239258, 0.27544983, 0.23210286,\n",
       "         0.19339107, 0.15962452, 0.13087011, 0.10643892, 0.08607561,\n",
       "         0.06916881, 0.05533073, 0.04403956, 0.03487734, 0.02749266,\n",
       "         0.02159713, 0.01692827, 0.01322139, 0.01031847, 0.0080201 ,\n",
       "         0.00621983, 0.00481719, 0.00327544, 0.00166818],\n",
       "        [0.        , 0.04086903, 0.13797195, 0.30912299, 0.40144483,\n",
       "         0.48005751, 0.51868086, 0.52359213, 0.50372371, 0.46737324,\n",
       "         0.42170647, 0.37213671, 0.32239258, 0.27544983, 0.23210286,\n",
       "         0.19339107, 0.15962452, 0.13087011, 0.10643892, 0.08607561,\n",
       "         0.06916881, 0.05533073, 0.04403956, 0.03487734, 0.02749266,\n",
       "         0.02159713, 0.01692827, 0.01322139, 0.01031847, 0.0080201 ,\n",
       "         0.00621983, 0.00481719, 0.00327544, 0.00166818],\n",
       "        [0.        , 0.04086903, 0.13797195, 0.30912299, 0.40144483,\n",
       "         0.48005751, 0.51868086, 0.52359213, 0.50372371, 0.46737324,\n",
       "         0.42170647, 0.37213671, 0.32239258, 0.27544983, 0.23210286,\n",
       "         0.19339107, 0.15962452, 0.13087011, 0.10643892, 0.08607561,\n",
       "         0.06916881, 0.05533073, 0.04403956, 0.03487734, 0.02749266,\n",
       "         0.02159713, 0.01692827, 0.01322139, 0.01031847, 0.0080201 ,\n",
       "         0.00621983, 0.00481719, 0.00327544, 0.00166818]],\n",
       "\n",
       "       [[0.        , 0.01690821, 0.05984437, 0.14050348, 0.20099542,\n",
       "         0.26294031, 0.31177375, 0.34623058, 0.36664953, 0.37477893,\n",
       "         0.37256734, 0.36238021, 0.34617688, 0.32569071, 0.30265543,\n",
       "         0.27834568, 0.25361473, 0.22911142, 0.20552801, 0.18306582,\n",
       "         0.16217552, 0.14297909, 0.12549217, 0.10972119, 0.09551689,\n",
       "         0.0828381 , 0.07161259, 0.06168023, 0.05299458, 0.04541911,\n",
       "         0.03889891, 0.03314766, 0.02447154, 0.0132916 ],\n",
       "        [0.        , 0.01690821, 0.05984437, 0.14050348, 0.20099542,\n",
       "         0.26294031, 0.31177375, 0.34623058, 0.36664953, 0.37477893,\n",
       "         0.37256734, 0.36238021, 0.34617688, 0.32569071, 0.30265543,\n",
       "         0.27834568, 0.25361473, 0.22911142, 0.20552801, 0.18306582,\n",
       "         0.16217552, 0.14297909, 0.12549217, 0.10972119, 0.09551689,\n",
       "         0.0828381 , 0.07161259, 0.06168023, 0.05299458, 0.04541911,\n",
       "         0.03889891, 0.03314766, 0.02447154, 0.0132916 ],\n",
       "        [0.        , 0.01690821, 0.05984437, 0.14050348, 0.20099542,\n",
       "         0.26294031, 0.31177375, 0.34623058, 0.36664953, 0.37477893,\n",
       "         0.37256734, 0.36238021, 0.34617688, 0.32569071, 0.30265543,\n",
       "         0.27834568, 0.25361473, 0.22911142, 0.20552801, 0.18306582,\n",
       "         0.16217552, 0.14297909, 0.12549217, 0.10972119, 0.09551689,\n",
       "         0.0828381 , 0.07161259, 0.06168023, 0.05299458, 0.04541911,\n",
       "         0.03889891, 0.03314766, 0.02447154, 0.0132916 ],\n",
       "        [0.        , 0.01690821, 0.05984437, 0.14050348, 0.20099542,\n",
       "         0.26294031, 0.31177375, 0.34623058, 0.36664953, 0.37477893,\n",
       "         0.37256734, 0.36238021, 0.34617688, 0.32569071, 0.30265543,\n",
       "         0.27834568, 0.25361473, 0.22911142, 0.20552801, 0.18306582,\n",
       "         0.16217552, 0.14297909, 0.12549217, 0.10972119, 0.09551689,\n",
       "         0.0828381 , 0.07161259, 0.06168023, 0.05299458, 0.04541911,\n",
       "         0.03889891, 0.03314766, 0.02447154, 0.0132916 ]]])"
      ]
     },
     "execution_count": 109,
     "metadata": {},
     "output_type": "execute_result"
    }
   ],
   "source": [
    "expected_deaths.eval()"
   ]
  },
  {
   "cell_type": "code",
   "execution_count": 100,
   "metadata": {},
   "outputs": [
    {
     "name": "stderr",
     "output_type": "stream",
     "text": [
      "/Users/mrinank/Library/Caches/pypoetry/virtualenvs/epimodel-H-ywULmv-py3.7/lib/python3.7/site-packages/theano/tensor/nnet/conv.py:98: UserWarning: theano.tensor.nnet.conv.conv2d is deprecated. Use theano.tensor.nnet.conv2d instead.\n",
      "  warnings.warn(\"theano.tensor.nnet.conv.conv2d is deprecated.\"\n"
     ]
    },
    {
     "ename": "TypeError",
     "evalue": "__init__() got an unexpected keyword argument 'unshared'",
     "output_type": "error",
     "traceback": [
      "\u001b[0;31m---------------------------------------------------------------------------\u001b[0m",
      "\u001b[0;31mTypeError\u001b[0m                                 Traceback (most recent call last)",
      "\u001b[0;32m<ipython-input-100-a2ec3a12d77d>\u001b[0m in \u001b[0;36m<module>\u001b[0;34m\u001b[0m\n\u001b[1;32m      1\u001b[0m \u001b[0mf\u001b[0m \u001b[0;34m=\u001b[0m \u001b[0mnp\u001b[0m\u001b[0;34m.\u001b[0m\u001b[0mstack\u001b[0m\u001b[0;34m(\u001b[0m\u001b[0;34m[\u001b[0m\u001b[0mdelay_prob_short\u001b[0m\u001b[0;34m,\u001b[0m \u001b[0mdelay_prob_short\u001b[0m\u001b[0;34m,\u001b[0m \u001b[0mdelay_prob_long\u001b[0m\u001b[0;34m,\u001b[0m \u001b[0mdelay_prob_long\u001b[0m\u001b[0;34m]\u001b[0m\u001b[0;34m)\u001b[0m\u001b[0;34m.\u001b[0m\u001b[0mreshape\u001b[0m\u001b[0;34m(\u001b[0m\u001b[0;34m(\u001b[0m\u001b[0;36m4\u001b[0m\u001b[0;34m,\u001b[0m \u001b[0;36m1\u001b[0m\u001b[0;34m,\u001b[0m \u001b[0;36m1\u001b[0m\u001b[0;34m,\u001b[0m \u001b[0;36m32\u001b[0m\u001b[0;34m)\u001b[0m\u001b[0;34m)\u001b[0m\u001b[0;34m\u001b[0m\u001b[0;34m\u001b[0m\u001b[0m\n\u001b[1;32m      2\u001b[0m \u001b[0md\u001b[0m \u001b[0;34m=\u001b[0m \u001b[0mnp\u001b[0m\u001b[0;34m.\u001b[0m\u001b[0marray\u001b[0m\u001b[0;34m(\u001b[0m\u001b[0;34m[\u001b[0m\u001b[0;34m[\u001b[0m\u001b[0;36m1\u001b[0m\u001b[0;34m,\u001b[0m \u001b[0;36m2.0\u001b[0m\u001b[0;34m,\u001b[0m \u001b[0;36m3\u001b[0m\u001b[0;34m]\u001b[0m\u001b[0;34m,\u001b[0m \u001b[0;34m[\u001b[0m\u001b[0;36m1\u001b[0m\u001b[0;34m,\u001b[0m \u001b[0;36m2\u001b[0m\u001b[0;34m,\u001b[0m \u001b[0;36m3\u001b[0m\u001b[0;34m]\u001b[0m\u001b[0;34m,\u001b[0m \u001b[0;34m[\u001b[0m\u001b[0;36m1\u001b[0m\u001b[0;34m,\u001b[0m \u001b[0;36m2\u001b[0m\u001b[0;34m,\u001b[0m \u001b[0;36m3\u001b[0m\u001b[0;34m]\u001b[0m\u001b[0;34m,\u001b[0m \u001b[0;34m[\u001b[0m\u001b[0;36m1\u001b[0m\u001b[0;34m,\u001b[0m \u001b[0;36m2\u001b[0m\u001b[0;34m,\u001b[0m \u001b[0;36m3\u001b[0m\u001b[0;34m]\u001b[0m\u001b[0;34m]\u001b[0m\u001b[0;34m)\u001b[0m\u001b[0;34m.\u001b[0m\u001b[0mreshape\u001b[0m\u001b[0;34m(\u001b[0m\u001b[0;34m(\u001b[0m\u001b[0;36m4\u001b[0m\u001b[0;34m,\u001b[0m \u001b[0;36m1\u001b[0m\u001b[0;34m,\u001b[0m \u001b[0;36m1\u001b[0m\u001b[0;34m,\u001b[0m \u001b[0;36m3\u001b[0m\u001b[0;34m)\u001b[0m\u001b[0;34m)\u001b[0m\u001b[0;34m\u001b[0m\u001b[0;34m\u001b[0m\u001b[0m\n\u001b[0;32m----> 3\u001b[0;31m \u001b[0med2\u001b[0m \u001b[0;34m=\u001b[0m \u001b[0mC2\u001b[0m\u001b[0;34m.\u001b[0m\u001b[0mconv2d\u001b[0m\u001b[0;34m(\u001b[0m\u001b[0md\u001b[0m\u001b[0;34m,\u001b[0m \u001b[0mf\u001b[0m\u001b[0;34m,\u001b[0m \u001b[0mborder_mode\u001b[0m\u001b[0;34m=\u001b[0m\u001b[0;34m\"full\"\u001b[0m\u001b[0;34m,\u001b[0m \u001b[0munshared\u001b[0m\u001b[0;34m=\u001b[0m\u001b[0;32mTrue\u001b[0m\u001b[0;34m)\u001b[0m\u001b[0;34m\u001b[0m\u001b[0;34m\u001b[0m\u001b[0m\n\u001b[0m",
      "\u001b[0;32m~/Library/Caches/pypoetry/virtualenvs/epimodel-H-ywULmv-py3.7/lib/python3.7/site-packages/theano/tensor/nnet/conv.py\u001b[0m in \u001b[0;36mconv2d\u001b[0;34m(input, filters, image_shape, filter_shape, border_mode, subsample, **kargs)\u001b[0m\n\u001b[1;32m    152\u001b[0m \u001b[0;34m\u001b[0m\u001b[0m\n\u001b[1;32m    153\u001b[0m     op = ConvOp(output_mode=border_mode, dx=subsample[0], dy=subsample[1],\n\u001b[0;32m--> 154\u001b[0;31m                 imshp=imshp, kshp=kshp, nkern=nkern, bsize=bsize, **kargs)\n\u001b[0m\u001b[1;32m    155\u001b[0m \u001b[0;34m\u001b[0m\u001b[0m\n\u001b[1;32m    156\u001b[0m     \u001b[0;32mreturn\u001b[0m \u001b[0mop\u001b[0m\u001b[0;34m(\u001b[0m\u001b[0minput\u001b[0m\u001b[0;34m,\u001b[0m \u001b[0mfilters\u001b[0m\u001b[0;34m)\u001b[0m\u001b[0;34m\u001b[0m\u001b[0;34m\u001b[0m\u001b[0m\n",
      "\u001b[0;31mTypeError\u001b[0m: __init__() got an unexpected keyword argument 'unshared'"
     ]
    }
   ],
   "source": [
    "f = np.stack([delay_prob_short, delay_prob_short, delay_prob_long, delay_prob_long]).reshape((4, 1, 1, 32))\n",
    "d = np.array([[1, 2.0, 3], [1, 2, 3], [1, 2, 3], [1, 2, 3]]).reshape((4, 1, 1, 3))\n",
    "ed2 = C2.conv2d(d, f, border_mode=\"full\", unshared=True)"
   ]
  },
  {
   "cell_type": "code",
   "execution_count": 101,
   "metadata": {},
   "outputs": [
    {
     "data": {
      "text/plain": [
       "array([[[[0.        , 0.04086903, 0.13797195, 0.30912299, 0.40144483,\n",
       "          0.48005751, 0.51868086, 0.52359213, 0.50372371, 0.46737324,\n",
       "          0.42170647, 0.37213671, 0.32239258, 0.27544983, 0.23210286,\n",
       "          0.19339107, 0.15962452, 0.13087011, 0.10643892, 0.08607561,\n",
       "          0.06916881, 0.05533073, 0.04403956, 0.03487734, 0.02749266,\n",
       "          0.02159713, 0.01692827, 0.01322139, 0.01031847, 0.0080201 ,\n",
       "          0.00621983, 0.00481719, 0.00327544, 0.00166818]],\n",
       "\n",
       "        [[0.        , 0.04086903, 0.13797195, 0.30912299, 0.40144483,\n",
       "          0.48005751, 0.51868086, 0.52359213, 0.50372371, 0.46737324,\n",
       "          0.42170647, 0.37213671, 0.32239258, 0.27544983, 0.23210286,\n",
       "          0.19339107, 0.15962452, 0.13087011, 0.10643892, 0.08607561,\n",
       "          0.06916881, 0.05533073, 0.04403956, 0.03487734, 0.02749266,\n",
       "          0.02159713, 0.01692827, 0.01322139, 0.01031847, 0.0080201 ,\n",
       "          0.00621983, 0.00481719, 0.00327544, 0.00166818]],\n",
       "\n",
       "        [[0.        , 0.01690821, 0.05984437, 0.14050348, 0.20099542,\n",
       "          0.26294031, 0.31177375, 0.34623058, 0.36664953, 0.37477893,\n",
       "          0.37256734, 0.36238021, 0.34617688, 0.32569071, 0.30265543,\n",
       "          0.27834568, 0.25361473, 0.22911142, 0.20552801, 0.18306582,\n",
       "          0.16217552, 0.14297909, 0.12549217, 0.10972119, 0.09551689,\n",
       "          0.0828381 , 0.07161259, 0.06168023, 0.05299458, 0.04541911,\n",
       "          0.03889891, 0.03314766, 0.02447154, 0.0132916 ]],\n",
       "\n",
       "        [[0.        , 0.01690821, 0.05984437, 0.14050348, 0.20099542,\n",
       "          0.26294031, 0.31177375, 0.34623058, 0.36664953, 0.37477893,\n",
       "          0.37256734, 0.36238021, 0.34617688, 0.32569071, 0.30265543,\n",
       "          0.27834568, 0.25361473, 0.22911142, 0.20552801, 0.18306582,\n",
       "          0.16217552, 0.14297909, 0.12549217, 0.10972119, 0.09551689,\n",
       "          0.0828381 , 0.07161259, 0.06168023, 0.05299458, 0.04541911,\n",
       "          0.03889891, 0.03314766, 0.02447154, 0.0132916 ]]],\n",
       "\n",
       "\n",
       "       [[[0.        , 0.04086903, 0.13797195, 0.30912299, 0.40144483,\n",
       "          0.48005751, 0.51868086, 0.52359213, 0.50372371, 0.46737324,\n",
       "          0.42170647, 0.37213671, 0.32239258, 0.27544983, 0.23210286,\n",
       "          0.19339107, 0.15962452, 0.13087011, 0.10643892, 0.08607561,\n",
       "          0.06916881, 0.05533073, 0.04403956, 0.03487734, 0.02749266,\n",
       "          0.02159713, 0.01692827, 0.01322139, 0.01031847, 0.0080201 ,\n",
       "          0.00621983, 0.00481719, 0.00327544, 0.00166818]],\n",
       "\n",
       "        [[0.        , 0.04086903, 0.13797195, 0.30912299, 0.40144483,\n",
       "          0.48005751, 0.51868086, 0.52359213, 0.50372371, 0.46737324,\n",
       "          0.42170647, 0.37213671, 0.32239258, 0.27544983, 0.23210286,\n",
       "          0.19339107, 0.15962452, 0.13087011, 0.10643892, 0.08607561,\n",
       "          0.06916881, 0.05533073, 0.04403956, 0.03487734, 0.02749266,\n",
       "          0.02159713, 0.01692827, 0.01322139, 0.01031847, 0.0080201 ,\n",
       "          0.00621983, 0.00481719, 0.00327544, 0.00166818]],\n",
       "\n",
       "        [[0.        , 0.01690821, 0.05984437, 0.14050348, 0.20099542,\n",
       "          0.26294031, 0.31177375, 0.34623058, 0.36664953, 0.37477893,\n",
       "          0.37256734, 0.36238021, 0.34617688, 0.32569071, 0.30265543,\n",
       "          0.27834568, 0.25361473, 0.22911142, 0.20552801, 0.18306582,\n",
       "          0.16217552, 0.14297909, 0.12549217, 0.10972119, 0.09551689,\n",
       "          0.0828381 , 0.07161259, 0.06168023, 0.05299458, 0.04541911,\n",
       "          0.03889891, 0.03314766, 0.02447154, 0.0132916 ]],\n",
       "\n",
       "        [[0.        , 0.01690821, 0.05984437, 0.14050348, 0.20099542,\n",
       "          0.26294031, 0.31177375, 0.34623058, 0.36664953, 0.37477893,\n",
       "          0.37256734, 0.36238021, 0.34617688, 0.32569071, 0.30265543,\n",
       "          0.27834568, 0.25361473, 0.22911142, 0.20552801, 0.18306582,\n",
       "          0.16217552, 0.14297909, 0.12549217, 0.10972119, 0.09551689,\n",
       "          0.0828381 , 0.07161259, 0.06168023, 0.05299458, 0.04541911,\n",
       "          0.03889891, 0.03314766, 0.02447154, 0.0132916 ]]],\n",
       "\n",
       "\n",
       "       [[[0.        , 0.04086903, 0.13797195, 0.30912299, 0.40144483,\n",
       "          0.48005751, 0.51868086, 0.52359213, 0.50372371, 0.46737324,\n",
       "          0.42170647, 0.37213671, 0.32239258, 0.27544983, 0.23210286,\n",
       "          0.19339107, 0.15962452, 0.13087011, 0.10643892, 0.08607561,\n",
       "          0.06916881, 0.05533073, 0.04403956, 0.03487734, 0.02749266,\n",
       "          0.02159713, 0.01692827, 0.01322139, 0.01031847, 0.0080201 ,\n",
       "          0.00621983, 0.00481719, 0.00327544, 0.00166818]],\n",
       "\n",
       "        [[0.        , 0.04086903, 0.13797195, 0.30912299, 0.40144483,\n",
       "          0.48005751, 0.51868086, 0.52359213, 0.50372371, 0.46737324,\n",
       "          0.42170647, 0.37213671, 0.32239258, 0.27544983, 0.23210286,\n",
       "          0.19339107, 0.15962452, 0.13087011, 0.10643892, 0.08607561,\n",
       "          0.06916881, 0.05533073, 0.04403956, 0.03487734, 0.02749266,\n",
       "          0.02159713, 0.01692827, 0.01322139, 0.01031847, 0.0080201 ,\n",
       "          0.00621983, 0.00481719, 0.00327544, 0.00166818]],\n",
       "\n",
       "        [[0.        , 0.01690821, 0.05984437, 0.14050348, 0.20099542,\n",
       "          0.26294031, 0.31177375, 0.34623058, 0.36664953, 0.37477893,\n",
       "          0.37256734, 0.36238021, 0.34617688, 0.32569071, 0.30265543,\n",
       "          0.27834568, 0.25361473, 0.22911142, 0.20552801, 0.18306582,\n",
       "          0.16217552, 0.14297909, 0.12549217, 0.10972119, 0.09551689,\n",
       "          0.0828381 , 0.07161259, 0.06168023, 0.05299458, 0.04541911,\n",
       "          0.03889891, 0.03314766, 0.02447154, 0.0132916 ]],\n",
       "\n",
       "        [[0.        , 0.01690821, 0.05984437, 0.14050348, 0.20099542,\n",
       "          0.26294031, 0.31177375, 0.34623058, 0.36664953, 0.37477893,\n",
       "          0.37256734, 0.36238021, 0.34617688, 0.32569071, 0.30265543,\n",
       "          0.27834568, 0.25361473, 0.22911142, 0.20552801, 0.18306582,\n",
       "          0.16217552, 0.14297909, 0.12549217, 0.10972119, 0.09551689,\n",
       "          0.0828381 , 0.07161259, 0.06168023, 0.05299458, 0.04541911,\n",
       "          0.03889891, 0.03314766, 0.02447154, 0.0132916 ]]],\n",
       "\n",
       "\n",
       "       [[[0.        , 0.04086903, 0.13797195, 0.30912299, 0.40144483,\n",
       "          0.48005751, 0.51868086, 0.52359213, 0.50372371, 0.46737324,\n",
       "          0.42170647, 0.37213671, 0.32239258, 0.27544983, 0.23210286,\n",
       "          0.19339107, 0.15962452, 0.13087011, 0.10643892, 0.08607561,\n",
       "          0.06916881, 0.05533073, 0.04403956, 0.03487734, 0.02749266,\n",
       "          0.02159713, 0.01692827, 0.01322139, 0.01031847, 0.0080201 ,\n",
       "          0.00621983, 0.00481719, 0.00327544, 0.00166818]],\n",
       "\n",
       "        [[0.        , 0.04086903, 0.13797195, 0.30912299, 0.40144483,\n",
       "          0.48005751, 0.51868086, 0.52359213, 0.50372371, 0.46737324,\n",
       "          0.42170647, 0.37213671, 0.32239258, 0.27544983, 0.23210286,\n",
       "          0.19339107, 0.15962452, 0.13087011, 0.10643892, 0.08607561,\n",
       "          0.06916881, 0.05533073, 0.04403956, 0.03487734, 0.02749266,\n",
       "          0.02159713, 0.01692827, 0.01322139, 0.01031847, 0.0080201 ,\n",
       "          0.00621983, 0.00481719, 0.00327544, 0.00166818]],\n",
       "\n",
       "        [[0.        , 0.01690821, 0.05984437, 0.14050348, 0.20099542,\n",
       "          0.26294031, 0.31177375, 0.34623058, 0.36664953, 0.37477893,\n",
       "          0.37256734, 0.36238021, 0.34617688, 0.32569071, 0.30265543,\n",
       "          0.27834568, 0.25361473, 0.22911142, 0.20552801, 0.18306582,\n",
       "          0.16217552, 0.14297909, 0.12549217, 0.10972119, 0.09551689,\n",
       "          0.0828381 , 0.07161259, 0.06168023, 0.05299458, 0.04541911,\n",
       "          0.03889891, 0.03314766, 0.02447154, 0.0132916 ]],\n",
       "\n",
       "        [[0.        , 0.01690821, 0.05984437, 0.14050348, 0.20099542,\n",
       "          0.26294031, 0.31177375, 0.34623058, 0.36664953, 0.37477893,\n",
       "          0.37256734, 0.36238021, 0.34617688, 0.32569071, 0.30265543,\n",
       "          0.27834568, 0.25361473, 0.22911142, 0.20552801, 0.18306582,\n",
       "          0.16217552, 0.14297909, 0.12549217, 0.10972119, 0.09551689,\n",
       "          0.0828381 , 0.07161259, 0.06168023, 0.05299458, 0.04541911,\n",
       "          0.03889891, 0.03314766, 0.02447154, 0.0132916 ]]]])"
      ]
     },
     "execution_count": 101,
     "metadata": {},
     "output_type": "execute_result"
    }
   ],
   "source": [
    "ed2.eval()"
   ]
  },
  {
   "cell_type": "code",
   "execution_count": 79,
   "metadata": {},
   "outputs": [
    {
     "data": {
      "text/plain": [
       "(4, 4, 1, 34)"
      ]
     },
     "execution_count": 79,
     "metadata": {},
     "output_type": "execute_result"
    }
   ],
   "source": [
    "expected_deaths.eval().shape"
   ]
  },
  {
   "cell_type": "code",
   "execution_count": 86,
   "metadata": {},
   "outputs": [
    {
     "data": {
      "text/plain": [
       "(4, 1, 32)"
      ]
     },
     "execution_count": 86,
     "metadata": {},
     "output_type": "execute_result"
    }
   ],
   "source": [
    "f.shape"
   ]
  },
  {
   "cell_type": "code",
   "execution_count": 87,
   "metadata": {},
   "outputs": [
    {
     "data": {
      "text/plain": [
       "(4, 1, 3)"
      ]
     },
     "execution_count": 87,
     "metadata": {},
     "output_type": "execute_result"
    }
   ],
   "source": [
    "d.shape"
   ]
  },
  {
   "cell_type": "code",
   "execution_count": 111,
   "metadata": {},
   "outputs": [
    {
     "data": {
      "text/plain": [
       "array([0.        , 0.04086903, 0.05623389, 0.07404812, 0.08464692,\n",
       "       0.08861931, 0.08750149, 0.08273123, 0.07575679, 0.06766597,\n",
       "       0.05910415, 0.05093048, 0.04321916, 0.03622008, 0.03000523,\n",
       "       0.02472037, 0.02016809, 0.01637281, 0.01318903, 0.01057912,\n",
       "       0.00844349, 0.0067064 , 0.00529629, 0.00416558, 0.00327265,\n",
       "       0.00255511, 0.00200011, 0.00155583, 0.00120648, 0.00093964,\n",
       "       0.00072111, 0.00055606])"
      ]
     },
     "execution_count": 111,
     "metadata": {},
     "output_type": "execute_result"
    }
   ],
   "source": [
    "delay_prob_short"
   ]
  },
  {
   "cell_type": "code",
   "execution_count": null,
   "metadata": {},
   "outputs": [],
   "source": []
  }
 ],
 "metadata": {
  "kernelspec": {
   "display_name": "Python 3",
   "language": "python",
   "name": "python3"
  },
  "language_info": {
   "codemirror_mode": {
    "name": "ipython",
    "version": 3
   },
   "file_extension": ".py",
   "mimetype": "text/x-python",
   "name": "python",
   "nbconvert_exporter": "python",
   "pygments_lexer": "ipython3",
   "version": "3.7.4"
  }
 },
 "nbformat": 4,
 "nbformat_minor": 4
}
