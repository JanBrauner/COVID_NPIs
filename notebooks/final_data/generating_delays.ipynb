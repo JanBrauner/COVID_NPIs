{
 "cells": [
  {
   "cell_type": "code",
   "execution_count": 5,
   "metadata": {},
   "outputs": [],
   "source": [
    "import numpy as np\n",
    "import matplotlib.pyplot as plt\n",
    "import matplotlib\n",
    "\n",
    "%matplotlib inline"
   ]
  },
  {
   "cell_type": "markdown",
   "metadata": {},
   "source": [
    "# infected to death\n",
    "See https://www.imperial.ac.uk/media/imperial-college/medicine/mrc-gida/2020-03-30-COVID19-Report-13.pdf We have, mean and cov $Gamma(5.1, 0.86)$ (incubation period) and $Gamma(18.8, 0.45)$ (onset-to-death)."
   ]
  },
  {
   "cell_type": "code",
   "execution_count": 6,
   "metadata": {},
   "outputs": [],
   "source": [
    "def gamma_mu_cov_to_shape_scale(mu, cov):\n",
    "    shape = 1/(cov**2)\n",
    "    scale = mu * (cov**2)\n",
    "    return shape, scale"
   ]
  },
  {
   "cell_type": "code",
   "execution_count": 2,
   "metadata": {},
   "outputs": [
    {
     "data": {
      "text/plain": [
       "(7.934933544931561, 0.841670565)"
      ]
     },
     "execution_count": 2,
     "metadata": {},
     "output_type": "execute_result"
    }
   ],
   "source": [
    "gamma_mu_cov_to_shape_scale(6.6786, 0.355)"
   ]
  },
  {
   "cell_type": "code",
   "execution_count": 9,
   "metadata": {},
   "outputs": [
    {
     "name": "stdout",
     "output_type": "stream",
     "text": [
      "Binned As [-1.   0.   1.5  2.5  3.5  4.5  5.5  6.5  7.5  8.5  9.5 10.5 11.5 12.5\n",
      " 13.5 14.5 15.5 16.5 17.5 18.5 19.5 20.5 21.5 22.5 23.5 24.5 25.5 26.5\n",
      " 27.5 28.5 29.5 30.5 31.5 32.5 33.5 34.5 35.5 36.5 37.5 38.5 39.5 40.5\n",
      " 41.5 42.5 43.5 44.5 45.5 46.5 47.5 48.5 49.5 50.5 51.5 52.5 53.5 54.5\n",
      " 55.5 56.5 57.5 58.5 59.5 60.5 61.5 62.5 63.5]\n",
      "Expectation: 22.869030302785013\n",
      "True Mean: 22.900697856122836\n",
      "Delay Prob: [0.00000000e+00 2.05698457e-06 3.95719355e-05 2.33895823e-04\n",
      " 7.91371997e-04 1.90674686e-03 3.79042214e-03 6.47558755e-03\n",
      " 9.95084630e-03 1.40267890e-02 1.86416728e-02 2.34536379e-02\n",
      " 2.82203050e-02 3.27443256e-02 3.68137972e-02 4.02638495e-02\n",
      " 4.30167509e-02 4.50747361e-02 4.63789867e-02 4.69014607e-02\n",
      " 4.67383585e-02 4.59603736e-02 4.46468834e-02 4.29247314e-02\n",
      " 4.08700707e-02 3.85142229e-02 3.60502556e-02 3.34230638e-02\n",
      " 3.07771812e-02 2.81607970e-02 2.55941472e-02 2.31507053e-02\n",
      " 2.08193746e-02 1.86007555e-02 1.65602713e-02 1.46574605e-02\n",
      " 1.29403009e-02 1.13758363e-02 9.93175526e-03 8.68616771e-03\n",
      " 7.54282898e-03 6.51786136e-03 5.63285765e-03 4.85179282e-03\n",
      " 4.15691007e-03 3.54606349e-03 3.03642055e-03 2.57950312e-03\n",
      " 2.19858294e-03 1.86240494e-03 1.58264392e-03 1.32589889e-03\n",
      " 1.12131232e-03 9.45879335e-04 7.86968938e-04 6.60458828e-04\n",
      " 5.53951503e-04 4.61998733e-04 3.86646385e-04 3.20911830e-04\n",
      " 2.66173803e-04 2.18040364e-04 1.84728333e-04 1.49637288e-04]\n"
     ]
    },
    {
     "data": {
      "image/png": "[encoded data removed]",
      "text/plain": [
       "<Figure size 432x288 with 1 Axes>"
      ]
     },
     "metadata": {
      "needs_background": "light"
     },
     "output_type": "display_data"
    }
   ],
   "source": [
    "nRVs= int(9e7)\n",
    "shp1, scl1 = gamma_mu_cov_to_shape_scale(5.1, 0.86)\n",
    "shp2, scl2 = gamma_mu_cov_to_shape_scale(17.8, 0.45)\n",
    "samples = np.random.gamma(shape=shp1, scale=scl1, size=nRVs) + np.random.gamma(shape=shp2, scale=scl2, size=nRVs)\n",
    "bins = np.arange(-1, 64.0)\n",
    "bins[2:] += 0.5\n",
    "print(f\"Binned As {bins}\")\n",
    "\n",
    "n, _, _ = plt.hist(samples, bins);\n",
    "delay_prob = n / np.sum(n)\n",
    "print(f\"Expectation: {np.sum([(i) * delay_prob[i] for i in range(64)])}\")\n",
    "print(f\"True Mean: {np.mean(samples)}\")\n",
    "print(f\"Delay Prob: {delay_prob}\")"
   ]
  },
  {
   "cell_type": "code",
   "execution_count": 138,
   "metadata": {},
   "outputs": [
    {
     "data": {
      "text/plain": [
       "7.934192645352462"
      ]
     },
     "execution_count": 138,
     "metadata": {},
     "output_type": "execute_result"
    }
   ],
   "source": [
    "100*np.sum(delay_prob[:12])"
   ]
  },
  {
   "cell_type": "markdown",
   "metadata": {},
   "source": [
    "# infected to confirmed\n",
    "See https://www.imperial.ac.uk/media/imperial-college/medicine/mrc-gida/2020-03-30-COVID19-Report-13.pdf We have, mean and cov $Gamma(5.1, 0.86)$ (incubation period). \n",
    "\n",
    "Then, the symptoms to confirmation period, see https://arxiv.org/ftp/arxiv/papers/2003/2003.09320.pdf. \n",
    "\n",
    "\"Negative binomial distribution to the data. We found that the best-fitting distribution has mean 5.25 and dispersion 1.57\"\n",
    "\n",
    "for the NB, the dispersion is exactly n (or r on wikipedia). We can then solve for p, but the numpy version seems to use 1-p."
   ]
  },
  {
   "cell_type": "code",
   "execution_count": 2,
   "metadata": {},
   "outputs": [
    {
     "name": "stdout",
     "output_type": "stream",
     "text": [
      "Binned As [-0.1  0.9  1.9  2.9  3.9  4.9  5.9  6.9  7.9  8.9  9.9 10.9 11.9 12.9\n",
      " 13.9 14.9 15.9 16.9 17.9 18.9 19.9 20.9 21.9 22.9 23.9 24.9 25.9 26.9\n",
      " 27.9 28.9 29.9 30.9 31.9 32.9 33.9 34.9 35.9 36.9 37.9 38.9 39.9 40.9\n",
      " 41.9 42.9 43.9 44.9 45.9 46.9 47.9 48.9 49.9 50.9 51.9 52.9 53.9 54.9\n",
      " 55.9 56.9 57.9 58.9 59.9 60.9 61.9 62.9 63.9]\n",
      "Expectation: 5.250058900010471\n",
      "True Mean: 5.250069844444444\n",
      "Delay Prob: [9.96264510e-02 1.20441299e-01 1.19165843e-01 1.09156042e-01\n",
      " 9.59400615e-02 8.23502480e-02 6.94032012e-02 5.77684769e-02\n",
      " 4.76384529e-02 3.89844292e-02 3.17187501e-02 2.56726601e-02\n",
      " 2.07234370e-02 1.66698030e-02 1.33363246e-02 1.06390686e-02\n",
      " 8.51633485e-03 6.75893453e-03 5.36412318e-03 4.24502298e-03\n",
      " 3.36853393e-03 2.66613381e-03 2.09295593e-03 1.65972252e-03\n",
      " 1.31214468e-03 1.02751129e-03 8.09000144e-04 6.34500113e-04\n",
      " 4.98944533e-04 3.95455626e-04 3.09777833e-04 2.40877821e-04\n",
      " 1.87233367e-04 1.47355582e-04 1.16288910e-04 9.06444606e-05\n",
      " 7.20333461e-05 5.38444540e-05 4.40000078e-05 3.49666729e-05\n",
      " 2.64888936e-05 1.98666702e-05 1.68666697e-05 1.20777799e-05\n",
      " 1.00000018e-05 7.46666799e-06 6.27777889e-06 4.57777859e-06\n",
      " 3.74444511e-06 2.91111163e-06 1.91111145e-06 1.66666696e-06\n",
      " 1.18888910e-06 1.03333352e-06 6.77777898e-07 7.11111238e-07\n",
      " 3.22222280e-07 3.11111166e-07 2.33333375e-07 2.00000036e-07\n",
      " 2.22222262e-07 1.11111131e-07 1.00000018e-07 1.44444470e-07]\n"
     ]
    },
    {
     "data": {
      "image/png": "[encoded data removed]",
      "text/plain": [
       "<Figure size 432x288 with 1 Axes>"
      ]
     },
     "metadata": {
      "needs_background": "light"
     },
     "output_type": "display_data"
    }
   ],
   "source": [
    "nRVs= int(9e7)\n",
    "samples =  np.random.negative_binomial(1.57, (1-0.7698),size=nRVs)\n",
    "bins = np.arange(0, 65.0)\n",
    "bins -= 0.1\n",
    "print(f\"Binned As {bins}\")\n",
    "\n",
    "n, _, _ = plt.hist(samples, bins);\n",
    "delay_prob = n / np.sum(n)\n",
    "print(f\"Expectation: {np.sum([(i) * delay_prob[i] for i in range(64)])}\")\n",
    "print(f\"True Mean: {np.mean(samples)}\")\n",
    "print(f\"Delay Prob: {delay_prob}\")"
   ]
  },
  {
   "cell_type": "markdown",
   "metadata": {},
   "source": [
    "The above histogram well matches the estimate from the paper, so our conversion formula looks correct. \n",
    "\n",
    "We use the sum of these distributions. "
   ]
  },
  {
   "cell_type": "code",
   "execution_count": 3,
   "metadata": {},
   "outputs": [
    {
     "name": "stdout",
     "output_type": "stream",
     "text": [
      "Expectation: 50.36383160912562\n"
     ]
    }
   ],
   "source": [
    "print(f\"Expectation: {np.sum([(i**2) * delay_prob[i] for i in range(64)])}\")"
   ]
  },
  {
   "cell_type": "code",
   "execution_count": 140,
   "metadata": {},
   "outputs": [
    {
     "name": "stdout",
     "output_type": "stream",
     "text": [
      "Binned As [-1.   0.   1.5  2.5  3.5  4.5  5.5  6.5  7.5  8.5  9.5 10.5 11.5 12.5\n",
      " 13.5 14.5 15.5 16.5 17.5 18.5 19.5 20.5 21.5 22.5 23.5 24.5 25.5 26.5\n",
      " 27.5 28.5 29.5 30.5 31.5]\n",
      "Expectation: 10.13493336441514\n",
      "True Mean: 10.351819057276149\n",
      "Delay Prob: [0.         0.02526612 0.03715418 0.05183672 0.06269466 0.06962855\n",
      " 0.07279854 0.07289268 0.0707381  0.06693029 0.0620542  0.05666281\n",
      " 0.05085706 0.04522378 0.03977681 0.03465673 0.0300131  0.02577754\n",
      " 0.02201089 0.01868654 0.01580402 0.01328623 0.01115664 0.00931554\n",
      " 0.00773392 0.00640876 0.00530438 0.00438226 0.00358897 0.00294733\n",
      " 0.00242969 0.00198296]\n"
     ]
    },
    {
     "data": {
      "image/png": "[encoded data removed]",
      "text/plain": [
       "<Figure size 432x288 with 1 Axes>"
      ]
     },
     "metadata": {
      "needs_background": "light"
     },
     "output_type": "display_data"
    }
   ],
   "source": [
    "nRVs= int(9e7)\n",
    "shp1, scl1 = gamma_mu_cov_to_shape_scale(5.1, 0.86)\n",
    "samples = np.random.gamma(shape=shp1, scale=scl1, size=nRVs) + np.random.negative_binomial(1.57, (1-0.7698), size=nRVs)\n",
    "bins = np.arange(-1, 32.0)\n",
    "bins[2:] += 0.5\n",
    "print(f\"Binned As {bins}\")\n",
    "\n",
    "n, _, _ = plt.hist(samples, bins);\n",
    "delay_prob = n / np.sum(n)\n",
    "print(f\"Expectation: {np.sum([(i) * delay_prob[i] for i in range(32)])}\")\n",
    "print(f\"True Mean: {np.mean(samples)}\")\n",
    "print(f\"Delay Prob: {delay_prob}\")"
   ]
  },
  {
   "cell_type": "code",
   "execution_count": 149,
   "metadata": {},
   "outputs": [
    {
     "data": {
      "text/plain": [
       "0.062420301416594035"
      ]
     },
     "execution_count": 149,
     "metadata": {},
     "output_type": "execute_result"
    }
   ],
   "source": [
    "np.sum(delay_prob[:3])"
   ]
  },
  {
   "cell_type": "code",
   "execution_count": 9,
   "metadata": {},
   "outputs": [],
   "source": [
    "# shorter"
   ]
  },
  {
   "cell_type": "code",
   "execution_count": 53,
   "metadata": {},
   "outputs": [
    {
     "name": "stdout",
     "output_type": "stream",
     "text": [
      "Binned As [-1.   0.   1.5  2.5  3.5  4.5  5.5  6.5  7.5  8.5  9.5 10.5 11.5 12.5\n",
      " 13.5 14.5 15.5 16.5 17.5 18.5 19.5 20.5 21.5 22.5 23.5 24.5 25.5 26.5\n",
      " 27.5 28.5 29.5 30.5 31.5]\n",
      "Expectation: 8.3057848349173\n",
      "SD: 5.185255711466038\n",
      "True Mean: 8.350923268452327\n",
      "Delay Prob: [0.         0.04086903 0.05623389 0.07404812 0.08464692 0.08861931\n",
      " 0.08750149 0.08273123 0.07575679 0.06766597 0.05910415 0.05093048\n",
      " 0.04321916 0.03622008 0.03000523 0.02472037 0.02016809 0.01637281\n",
      " 0.01318903 0.01057912 0.00844349 0.0067064  0.00529629 0.00416558\n",
      " 0.00327265 0.00255511 0.00200011 0.00155583 0.00120648 0.00093964\n",
      " 0.00072111 0.00055606]\n"
     ]
    },
    {
     "data": {
      "image/png": "[encoded data removed]",
      "text/plain": [
       "<Figure size 432x288 with 1 Axes>"
      ]
     },
     "metadata": {
      "needs_background": "light"
     },
     "output_type": "display_data"
    }
   ],
   "source": [
    "m = 5.25-1\n",
    "r = 1.57\n",
    "p = m / (m + r)\n",
    "\n",
    "\n",
    "nRVs= int(9e7)\n",
    "shp1, scl1 = gamma_mu_cov_to_shape_scale(5.1-1, 0.86)\n",
    "samples = np.random.gamma(shape=shp1, scale=scl1, size=nRVs) + np.random.negative_binomial(r,1-p, size=nRVs)\n",
    "bins = np.arange(-1, 32.0)\n",
    "bins[2:] += 0.5\n",
    "print(f\"Binned As {bins}\")\n",
    "\n",
    "n, _, _ = plt.hist(samples, bins);\n",
    "delay_prob = n / np.sum(n)\n",
    "ex = np.sum([(i) * delay_prob[i] for i in range(32)])\n",
    "ex2 = np.sum([(i)**2 * delay_prob[i] for i in range(32)])\n",
    "print(f\"Expectation: {ex}\")\n",
    "print(f\"SD: {np.sqrt(ex2 - ex**2)}\")\n",
    "print(f\"True Mean: {np.mean(samples)}\")\n",
    "print(f\"Delay Prob: {delay_prob}\")\n",
    "delay_prob_short = delay_prob"
   ]
  },
  {
   "cell_type": "code",
   "execution_count": 52,
   "metadata": {},
   "outputs": [
    {
     "name": "stdout",
     "output_type": "stream",
     "text": [
      "Binned As [-1.   0.   1.5  2.5  3.5  4.5  5.5  6.5  7.5  8.5  9.5 10.5 11.5 12.5\n",
      " 13.5 14.5 15.5 16.5 17.5 18.5 19.5 20.5 21.5 22.5 23.5 24.5 25.5 26.5\n",
      " 27.5 28.5 29.5 30.5 31.5]\n",
      "Expectation: 11.759742361103644\n",
      "SD: 6.660722379000485\n",
      "True Mean: 12.350197949695973\n",
      "Delay Prob: [0.         0.01690821 0.02602795 0.03772294 0.0474657  0.05484009\n",
      " 0.05969648 0.06231737 0.06292536 0.0619761  0.05983904 0.05677383\n",
      " 0.05311211 0.04914501 0.04502909 0.04085248 0.03682251 0.03290895\n",
      " 0.02924259 0.02585378 0.02274018 0.01993739 0.01739687 0.01511531\n",
      " 0.01309569 0.01130081 0.00972391 0.00832998 0.00716289 0.00610338\n",
      " 0.00520349 0.00443053]\n"
     ]
    },
    {
     "data": {
      "image/png": "[encoded data removed]",
      "text/plain": [
       "<Figure size 432x288 with 1 Axes>"
      ]
     },
     "metadata": {
      "needs_background": "light"
     },
     "output_type": "display_data"
    }
   ],
   "source": [
    "m = 5.25+1\n",
    "r = 1.57\n",
    "p = m / (m + r)\n",
    "\n",
    "\n",
    "nRVs= int(9e7)\n",
    "shp1, scl1 = gamma_mu_cov_to_shape_scale(5.1+1, 0.86)\n",
    "samples = np.random.gamma(shape=shp1, scale=scl1, size=nRVs) + np.random.negative_binomial(r,1-p, size=nRVs)\n",
    "bins = np.arange(-1, 32.0)\n",
    "bins[2:] += 0.5\n",
    "print(f\"Binned As {bins}\")\n",
    "\n",
    "n, _, _ = plt.hist(samples, bins);\n",
    "delay_prob = n / np.sum(n)\n",
    "ex = np.sum([(i) * delay_prob[i] for i in range(32)])\n",
    "ex2 = np.sum([(i)**2 * delay_prob[i] for i in range(32)])\n",
    "print(f\"Expectation: {ex}\")\n",
    "print(f\"SD: {np.sqrt(ex2 - ex**2)}\")\n",
    "print(f\"True Mean: {np.mean(samples)}\")\n",
    "print(f\"Delay Prob: {delay_prob}\")\n",
    "delay_prob_long = delay_prob"
   ]
  },
  {
   "cell_type": "code",
   "execution_count": 110,
   "metadata": {},
   "outputs": [
    {
     "data": {
      "text/plain": [
       "array([0.        , 0.01690821, 0.02602795, 0.03772294, 0.0474657 ,\n",
       "       0.05484009, 0.05969648, 0.06231737, 0.06292536, 0.0619761 ,\n",
       "       0.05983904, 0.05677383, 0.05311211, 0.04914501, 0.04502909,\n",
       "       0.04085248, 0.03682251, 0.03290895, 0.02924259, 0.02585378,\n",
       "       0.02274018, 0.01993739, 0.01739687, 0.01511531, 0.01309569,\n",
       "       0.01130081, 0.00972391, 0.00832998, 0.00716289, 0.00610338,\n",
       "       0.00520349, 0.00443053])"
      ]
     },
     "execution_count": 110,
     "metadata": {},
     "output_type": "execute_result"
    }
   ],
   "source": [
    "delay_prob_long"
   ]
  },
  {
   "cell_type": "code",
   "execution_count": 7,
   "metadata": {},
   "outputs": [
    {
     "name": "stdout",
     "output_type": "stream",
     "text": [
      "Binned As [-1.   0.   1.5  2.5  3.5  4.5  5.5  6.5  7.5  8.5  9.5 10.5 11.5 12.5\n",
      " 13.5 14.5 15.5 16.5 17.5 18.5 19.5 20.5 21.5 22.5 23.5 24.5 25.5 26.5\n",
      " 27.5 28.5 29.5 30.5 31.5]\n",
      "Expectation: 6.6786041888888885\n",
      "SD: 2.3885520414725026\n",
      "True Mean: 6.678616302939808\n",
      "Delay Prob: [0.00000000e+00 5.86777778e-04 1.15317556e-02 5.22088556e-02\n",
      " 1.14080678e-01 1.62762756e-01 1.76006922e-01 1.56763867e-01\n",
      " 1.21060233e-01 8.38630333e-02 5.32850556e-02 3.15776111e-02\n",
      " 1.76515889e-02 9.38466667e-03 4.79226667e-03 2.36040000e-03\n",
      " 1.13427778e-03 5.26733333e-04 2.38822222e-04 1.03755556e-04\n",
      " 4.56222222e-05 2.01333333e-05 7.67777778e-06 3.84444444e-06\n",
      " 1.70000000e-06 5.66666667e-07 2.22222222e-07 1.11111111e-07\n",
      " 2.22222222e-08 1.11111111e-08 3.33333333e-08 0.00000000e+00]\n"
     ]
    },
    {
     "data": {
      "image/png": "[encoded data removed]",
      "text/plain": [
       "<Figure size 432x288 with 1 Axes>"
      ]
     },
     "metadata": {
      "needs_background": "light"
     },
     "output_type": "display_data"
    }
   ],
   "source": [
    "nRVs= int(9e7)\n",
    "shp1, scl1 = gamma_mu_cov_to_shape_scale(6.6786, 0.355)\n",
    "samples = np.random.gamma(shape=shp1, scale=scl1, size=nRVs)\n",
    "bins = np.arange(-1, 32.0)\n",
    "bins[2:] += 0.5\n",
    "print(f\"Binned As {bins}\")\n",
    "\n",
    "n, _, _ = plt.hist(samples, bins);\n",
    "delay_prob = n / np.sum(n)\n",
    "ex = np.sum([(i) * delay_prob[i] for i in range(32)])\n",
    "ex2 = np.sum([(i)**2 * delay_prob[i] for i in range(32)])\n",
    "print(f\"Expectation: {ex}\")\n",
    "print(f\"SD: {np.sqrt(ex2 - ex**2)}\")\n",
    "print(f\"True Mean: {np.mean(samples)}\")\n",
    "print(f\"Delay Prob: {delay_prob}\")\n",
    "delay_prob_long = delay_prob"
   ]
  },
  {
   "cell_type": "code",
   "execution_count": 8,
   "metadata": {},
   "outputs": [
    {
     "data": {
      "text/plain": [
       "array([5.86777778e-04, 1.15317556e-02, 5.22088556e-02, 1.14080678e-01,\n",
       "       1.62762756e-01, 1.76006922e-01, 1.56763867e-01, 1.21060233e-01,\n",
       "       8.38630333e-02, 5.32850556e-02, 3.15776111e-02, 1.76515889e-02,\n",
       "       9.38466667e-03, 4.79226667e-03, 2.36040000e-03, 1.13427778e-03,\n",
       "       5.26733333e-04, 2.38822222e-04, 1.03755556e-04, 4.56222222e-05,\n",
       "       2.01333333e-05, 7.67777778e-06, 3.84444444e-06, 1.70000000e-06,\n",
       "       5.66666667e-07, 2.22222222e-07, 1.11111111e-07, 2.22222222e-08,\n",
       "       1.11111111e-08, 3.33333333e-08, 0.00000000e+00])"
      ]
     },
     "execution_count": 8,
     "metadata": {},
     "output_type": "execute_result"
    }
   ],
   "source": [
    "delay_prob[1:]"
   ]
  },
  {
   "cell_type": "code",
   "execution_count": null,
   "metadata": {},
   "outputs": [],
   "source": []
  }
 ],
 "metadata": {
  "kernelspec": {
   "display_name": "Python 3",
   "language": "python",
   "name": "python3"
  },
  "language_info": {
   "codemirror_mode": {
    "name": "ipython",
    "version": 3
   },
   "file_extension": ".py",
   "mimetype": "text/x-python",
   "name": "python",
   "nbconvert_exporter": "python",
   "pygments_lexer": "ipython3",
   "version": "3.7.4"
  }
 },
 "nbformat": 4,
 "nbformat_minor": 4
}
