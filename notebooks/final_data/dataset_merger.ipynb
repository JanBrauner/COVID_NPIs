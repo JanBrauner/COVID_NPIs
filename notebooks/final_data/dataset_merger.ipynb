{
 "cells": [
  {
   "cell_type": "code",
   "execution_count": 47,
   "metadata": {},
   "outputs": [
    {
     "name": "stdout",
     "output_type": "stream",
     "text": [
      "The autoreload extension is already loaded. To reload it, use:\n",
      "  %reload_ext autoreload\n"
     ]
    }
   ],
   "source": [
    "%load_ext autoreload\n",
    "%autoreload 2"
   ]
  },
  {
   "cell_type": "code",
   "execution_count": 48,
   "metadata": {},
   "outputs": [],
   "source": [
    "### Initial imports\n",
    "import logging\n",
    "import numpy as np\n",
    "import pandas as pd\n",
    "import pymc3 as pm\n",
    "import theano.tensor as T\n",
    "import matplotlib.pyplot as plt\n",
    "import seaborn as sns\n",
    "sns.set_style(\"ticks\")\n",
    "\n",
    "logging.basicConfig(level=logging.INFO)\n",
    "log = logging.getLogger(__name__)\n",
    "\n",
    "import warnings\n",
    "warnings.simplefilter(action=\"ignore\", category=FutureWarning)\n",
    "\n",
    "from epimodel.pymc3_models import cm_effect\n",
    "from epimodel.pymc3_models.cm_effect.datapreprocessor import DataMerger\n",
    "\n",
    "%matplotlib inline"
   ]
  },
  {
   "cell_type": "code",
   "execution_count": 49,
   "metadata": {},
   "outputs": [],
   "source": [
    "# name, epidemicforecasting.org code, OxCGRT code\n",
    "# + lithuania\n",
    "region_info = [\n",
    "    (\"Andorra\", \"AD\", \"AND\"),\n",
    "    (\"Austria\", \"AT\",  \"AUT\"),\n",
    "    (\"Albania\",\"AL\",\"ALB\"),\n",
    "    (\"Bosnia and Herzegovina\", \"BA\", \"BIH\"),\n",
    "    (\"Belgium\", \"BE\", \"BEL\"),\n",
    "    (\"Bulgaria\",  \"BG\", \"BGR\"),\n",
    "    (\"Switzerland\", \"CH\", \"CHE\"),\n",
    "    (\"Czech Republic\", \"CZ\", \"CZE\"),\n",
    "    (\"Germany\", \"DE\", \"DEU\"),\n",
    "    (\"Denmark\", \"DK\", \"DNK\"),\n",
    "    (\"Estonia\",\"EE\", \"EST\"),\n",
    "    (\"Spain\", \"ES\", \"ESP\"),\n",
    "    (\"Finland\", \"FI\", \"FIN\"),\n",
    "    (\"France\", \"FR\", \"FRA\"),\n",
    "    (\"United Kingdom\", \"GB\", \"GBR\"), \n",
    "    (\"Georgia\",\"GE\",\"GEO\"),\n",
    "    (\"Greece\", \"GR\", \"GRC\"),\n",
    "    (\"Croatia\", \"HR\", \"HRV\"),\n",
    "    (\"Hungary\", \"HU\", \"HUN\"),\n",
    "    (\"Ireland\", \"IE\", \"IRL\"),\n",
    "    (\"Israel\", \"IL\", \"ISR\"),\n",
    "    (\"Iceland\", \"IS\", \"ISL\"),\n",
    "    (\"Italy\", \"IT\", \"ITA\"),\n",
    "    (\"Lithuania\",\"LT\",\"LTU\"),\n",
    "    (\"Latvia\",\"LV\",\"LVA\"),\n",
    "    (\"Malta\",\"MT\",\"MLT\"),\n",
    "    (\"Morocco\", \"MA\", \"MAR\"),\n",
    "    (\"Mexico\",\"MX\", \"MEX\"),\n",
    "    (\"Malaysia\", \"MY\", \"MYS\"),\n",
    "    (\"Netherlands\", \"NL\", \"NLD\"),\n",
    "    (\"Norway\",\"NO\",\"NOR\"),\n",
    "    (\"New Zealand\",\"NZ\",\"NZL\"),\n",
    "    (\"Poland\",\"PL\", \"POL\"),\n",
    "    (\"Portugal\",\"PT\",\"PRT\"),\n",
    "    (\"Romania\",\"RO\", \"ROU\"),\n",
    "    (\"Serbia\", \"RS\", \"SRB\"),\n",
    "    (\"Sweden\", \"SE\", \"SWE\"),\n",
    "    (\"Singapore\", \"SG\", \"SGP\"),\n",
    "    (\"Slovenia\", \"SI\", \"SVN\"),\n",
    "    (\"Slovakia\", \"SK\", \"SVK\"),\n",
    "    (\"South Africa\", \"ZA\",  \"ZAF\"),\n",
    "]\n",
    "\n",
    "region_info.sort(key = lambda x: x[0])\n",
    "region_names = list([x for x, _, _ in region_info])\n",
    "regions_epi = list([x for _, x, _ in region_info])\n",
    "regions_oxcgrt = list([x for _, _, x in region_info])\n",
    "\n",
    "# OxCGRT\n",
    "oxcgrt_cm_cols = [\"H2_Testing policy\", \"C8_International travel controls\"]\n",
    "\n",
    "oxcgrt_filter = [\n",
    "    (\"Symptomatic Testing\", [(0, [2, 3])]),\n",
    "    (\"Travel Screen/Quarantine\", [(1, [1, 2, 3, 4])]),\n",
    "    (\"Travel Bans\", [(1, [3, 4])]),\n",
    "]\n",
    "\n",
    "epifor_features = {\n",
    " \"Mask wearing\": \"Mask Wearing\",\n",
    " \"Some businesses closed\": \"Some Businesses Suspended\",\n",
    " \"Most nonessential businesses closed\": \"Most Businesses Suspended\",\n",
    " \"Infection control in healthcare\": \"Healthcare Infection Control\",\n",
    " \"Stay-at-home order\": \"Stay Home Order\",\n",
    " \"Gatherings limited to 1000 people or less\": \"Gatherings <1000\",    \n",
    " \"Gatherings limited to 100 people or less\": \"Gatherings <100\", \n",
    " \"Gatherings limited to 10 people or less\": \"Gatherings <10\",\n",
    " \"Schools closed\": \"School Closure\"\n",
    "}\n",
    "\n",
    "\n",
    "final_features = [\n",
    " \"Healthcare Infection Control\",\n",
    " \"Mask Wearing\",\n",
    " \"Symptomatic Testing\",\n",
    " \"Gatherings <1000\",\n",
    " \"Gatherings <100\",\n",
    " \"Gatherings <10\",\n",
    " \"Some Businesses Suspended\",\n",
    " \"Most Businesses Suspended\",\n",
    " \"School Closure\",\n",
    " \"Stay Home Order\",\n",
    " \"Travel Screen/Quarantine\",\n",
    " \"Travel Bans\",\n",
    "]"
   ]
  },
  {
   "cell_type": "code",
   "execution_count": 83,
   "metadata": {},
   "outputs": [
    {
     "name": "stderr",
     "output_type": "stream",
     "text": [
      "INFO:epimodel.pymc3_models.cm_effect.datapreprocessor:\n",
      "Countermeasures: EpidemicForecasting.org           min   ... mean  ... max   ... unique\n",
      " 1 Mask Wearing                               0.000 ... 0.091 ... 1.000 ... [0. 1.]\n",
      " 2 Some Businesses Suspended                  0.000 ... 0.410 ... 1.000 ... [0. 1.]\n",
      " 3 Most Businesses Suspended                  0.000 ... 0.303 ... 1.000 ... [0. 1.]\n",
      " 4 Healthcare Infection Control               0.000 ... 0.537 ... 1.000 ... [0. 1.]\n",
      " 5 Stay Home Order                            0.000 ... 0.197 ... 1.000 ... [0. 1.]\n",
      " 6 Gatherings <1000                           0.000 ... 0.456 ... 1.000 ... [0. 1.]\n",
      " 7 Gatherings <100                            0.000 ... 0.423 ... 1.000 ... [0. 1.]\n",
      " 8 Gatherings <10                             0.000 ... 0.342 ... 1.000 ... [0. 1.]\n",
      " 9 School Closure                             0.000 ... 0.448 ... 1.000 ... [0. 1.]\n",
      "INFO:epimodel.pymc3_models.cm_effect.datapreprocessor:Load OXCGRT\n",
      "WARNING:epimodel.pymc3_models.cm_effect.datapreprocessor:Missing ['ABW', 'AFG', 'AGO', 'ARE', 'ARG', 'AUS', 'AZE', 'BDI', 'BEN', 'BFA', 'BGD', 'BHR', 'BLR', 'BLZ', 'BMU', 'BOL', 'BRA', 'BRB', 'BRN', 'BTN', 'BWA', 'CAF', 'CAN', 'CHL', 'CHN', 'CIV', 'CMR', 'COD', 'COG', 'COL', 'CPV', 'CRI', 'CUB', 'CYP', 'DJI', 'DMA', 'DOM', 'DZA', 'ECU', 'EGY', 'ERI', 'ETH', 'FJI', 'GAB', 'GHA', 'GIB', 'GIN', 'GMB', 'GRL', 'GTM', 'GUM', 'GUY', 'HKG', 'HND', 'HTI', 'IDN', 'IND', 'IRN', 'IRQ', 'JAM', 'JOR', 'JPN', 'KAZ', 'KEN', 'KGZ', 'KHM', 'KOR', 'KWT', 'LAO', 'LBN', 'LBR', 'LBY', 'LKA', 'LSO', 'LUX', 'MAC', 'MDA', 'MDG', 'MLI', 'MMR', 'MNG', 'MOZ', 'MRT', 'MUS', 'MWI', 'NAM', 'NER', 'NGA', 'NIC', 'NPL', 'OMN', 'PAK', 'PAN', 'PER', 'PHL', 'PNG', 'PRI', 'PRY', 'PSE', 'QAT', 'RUS', 'RWA', 'SAU', 'SDN', 'SEN', 'SLB', 'SLE', 'SLV', 'SMR', 'SOM', 'SSD', 'SUR', 'SWZ', 'SYC', 'SYR', 'TCD', 'TGO', 'THA', 'TJK', 'TKM', 'TLS', 'TTO', 'TUN', 'TUR', 'TZA', 'UGA', 'UKR', 'URY', 'USA', 'UZB', 'VEN', 'VNM', 'VUT', 'YEM', 'ZMB', 'ZWE', 'TWN', 'RKS'] from epidemicforecasting.org DB which are in OxCGRT\n",
      "INFO:epimodel.pymc3_models.cm_effect.datapreprocessor:Missing MT from OXCGRT. Assuming features are 0\n",
      "INFO:epimodel.pymc3_models.cm_effect.datapreprocessor:\n",
      "Countermeasures: OxCGRT           min   ... mean  ... max   ... unique\n",
      " 1 Symptomatic Testing                        0.000 ... 0.191 ... 1.000 ... [0. 1.]\n",
      " 2 Travel Screen/Quarantine                   0.000 ... 0.620 ... 1.000 ... [0. 1.]\n",
      " 3 Travel Bans                                0.000 ... 0.491 ... 1.000 ... [0. 1.]\n",
      "INFO:epimodel.pymc3_models.cm_effect.datapreprocessor:\n",
      "Countermeasures: Combined           min   ... mean  ... max   ... unique\n",
      " 1 Healthcare Infection Control               0.000 ... 0.537 ... 1.000 ... [0. 1.]\n",
      " 2 Mask Wearing                               0.000 ... 0.091 ... 1.000 ... [0. 1.]\n",
      " 3 Symptomatic Testing                        0.000 ... 0.191 ... 1.000 ... [0. 1.]\n",
      " 4 Gatherings <1000                           0.000 ... 0.456 ... 1.000 ... [0. 1.]\n",
      " 5 Gatherings <100                            0.000 ... 0.423 ... 1.000 ... [0. 1.]\n",
      " 6 Gatherings <10                             0.000 ... 0.342 ... 1.000 ... [0. 1.]\n",
      " 7 Some Businesses Suspended                  0.000 ... 0.410 ... 1.000 ... [0. 1.]\n",
      " 8 Most Businesses Suspended                  0.000 ... 0.303 ... 1.000 ... [0. 1.]\n",
      " 9 School Closure                             0.000 ... 0.448 ... 1.000 ... [0. 1.]\n",
      "10 Stay Home Order                            0.000 ... 0.197 ... 1.000 ... [0. 1.]\n",
      "11 Travel Screen/Quarantine                   0.000 ... 0.620 ... 1.000 ... [0. 1.]\n",
      "12 Travel Bans                                0.000 ... 0.491 ... 1.000 ... [0. 1.]\n",
      "INFO:epimodel.pymc3_models.cm_effect.datapreprocessor:Saved final CSV\n"
     ]
    }
   ],
   "source": [
    "dm = DataMerger(start_date=\"2020-1-22\", end_date=\"2020-4-25\")\n",
    "df = dm.merge_data(\"../../data\", region_info, oxcgrt_filter,  oxcgrt_cm_cols,\n",
    "            epifor_features,\n",
    "            final_features, \"final_data_travel.csv\")"
   ]
  },
  {
   "cell_type": "code",
   "execution_count": 63,
   "metadata": {},
   "outputs": [],
   "source": [
    "Ds = pd.date_range(start=\"2020-1-22\", end=\"2020-4-25\", tz=\"utc\")"
   ]
  },
  {
   "cell_type": "code",
   "execution_count": 68,
   "metadata": {},
   "outputs": [
    {
     "data": {
      "text/plain": [
       "DatetimeIndex(['2020-01-22 00:00:00+00:00', '2020-01-23 00:00:00+00:00',\n",
       "               '2020-01-24 00:00:00+00:00', '2020-01-25 00:00:00+00:00',\n",
       "               '2020-01-26 00:00:00+00:00', '2020-01-27 00:00:00+00:00',\n",
       "               '2020-01-28 00:00:00+00:00', '2020-01-29 00:00:00+00:00',\n",
       "               '2020-01-30 00:00:00+00:00', '2020-01-31 00:00:00+00:00',\n",
       "               '2020-02-01 00:00:00+00:00', '2020-02-02 00:00:00+00:00',\n",
       "               '2020-02-03 00:00:00+00:00', '2020-02-04 00:00:00+00:00',\n",
       "               '2020-02-05 00:00:00+00:00', '2020-02-06 00:00:00+00:00',\n",
       "               '2020-02-07 00:00:00+00:00', '2020-02-08 00:00:00+00:00',\n",
       "               '2020-02-09 00:00:00+00:00', '2020-02-10 00:00:00+00:00',\n",
       "               '2020-02-11 00:00:00+00:00', '2020-02-12 00:00:00+00:00',\n",
       "               '2020-02-13 00:00:00+00:00', '2020-02-14 00:00:00+00:00',\n",
       "               '2020-02-15 00:00:00+00:00', '2020-02-16 00:00:00+00:00',\n",
       "               '2020-02-17 00:00:00+00:00', '2020-02-18 00:00:00+00:00',\n",
       "               '2020-02-19 00:00:00+00:00', '2020-02-20 00:00:00+00:00',\n",
       "               '2020-02-21 00:00:00+00:00', '2020-02-22 00:00:00+00:00',\n",
       "               '2020-02-23 00:00:00+00:00', '2020-02-24 00:00:00+00:00',\n",
       "               '2020-02-25 00:00:00+00:00', '2020-02-26 00:00:00+00:00',\n",
       "               '2020-02-27 00:00:00+00:00', '2020-02-28 00:00:00+00:00',\n",
       "               '2020-02-29 00:00:00+00:00', '2020-03-01 00:00:00+00:00',\n",
       "               '2020-03-02 00:00:00+00:00', '2020-03-03 00:00:00+00:00',\n",
       "               '2020-03-04 00:00:00+00:00', '2020-03-05 00:00:00+00:00',\n",
       "               '2020-03-06 00:00:00+00:00', '2020-03-07 00:00:00+00:00',\n",
       "               '2020-03-08 00:00:00+00:00', '2020-03-09 00:00:00+00:00',\n",
       "               '2020-03-10 00:00:00+00:00', '2020-03-11 00:00:00+00:00',\n",
       "               '2020-03-12 00:00:00+00:00', '2020-03-13 00:00:00+00:00',\n",
       "               '2020-03-14 00:00:00+00:00', '2020-03-15 00:00:00+00:00',\n",
       "               '2020-03-16 00:00:00+00:00', '2020-03-17 00:00:00+00:00',\n",
       "               '2020-03-18 00:00:00+00:00', '2020-03-19 00:00:00+00:00',\n",
       "               '2020-03-20 00:00:00+00:00', '2020-03-21 00:00:00+00:00',\n",
       "               '2020-03-22 00:00:00+00:00', '2020-03-23 00:00:00+00:00',\n",
       "               '2020-03-24 00:00:00+00:00', '2020-03-25 00:00:00+00:00',\n",
       "               '2020-03-26 00:00:00+00:00', '2020-03-27 00:00:00+00:00',\n",
       "               '2020-03-28 00:00:00+00:00', '2020-03-29 00:00:00+00:00',\n",
       "               '2020-03-30 00:00:00+00:00', '2020-03-31 00:00:00+00:00',\n",
       "               '2020-04-01 00:00:00+00:00', '2020-04-02 00:00:00+00:00',\n",
       "               '2020-04-03 00:00:00+00:00', '2020-04-04 00:00:00+00:00',\n",
       "               '2020-04-05 00:00:00+00:00', '2020-04-06 00:00:00+00:00',\n",
       "               '2020-04-07 00:00:00+00:00', '2020-04-08 00:00:00+00:00',\n",
       "               '2020-04-09 00:00:00+00:00', '2020-04-10 00:00:00+00:00',\n",
       "               '2020-04-11 00:00:00+00:00', '2020-04-12 00:00:00+00:00',\n",
       "               '2020-04-13 00:00:00+00:00', '2020-04-14 00:00:00+00:00',\n",
       "               '2020-04-15 00:00:00+00:00', '2020-04-16 00:00:00+00:00',\n",
       "               '2020-04-17 00:00:00+00:00', '2020-04-18 00:00:00+00:00',\n",
       "               '2020-04-19 00:00:00+00:00', '2020-04-20 00:00:00+00:00',\n",
       "               '2020-04-21 00:00:00+00:00', '2020-04-22 00:00:00+00:00',\n",
       "               '2020-04-23 00:00:00+00:00', '2020-04-24 00:00:00+00:00',\n",
       "               '2020-04-25 00:00:00+00:00'],\n",
       "              dtype='datetime64[ns, UTC]', freq='D')"
      ]
     },
     "execution_count": 68,
     "metadata": {},
     "output_type": "execute_result"
    }
   ],
   "source": [
    "Ds"
   ]
  },
  {
   "cell_type": "code",
   "execution_count": 72,
   "metadata": {},
   "outputs": [
    {
     "data": {
      "text/plain": [
       "Timestamp('2020-03-03 00:00:00+0000', tz='UTC')"
      ]
     },
     "execution_count": 72,
     "metadata": {},
     "output_type": "execute_result"
    }
   ],
   "source": [
    "\n",
    "df.loc[c].index[0]"
   ]
  },
  {
   "cell_type": "code",
   "execution_count": 82,
   "metadata": {},
   "outputs": [],
   "source": [
    "values_to_stack = []\n",
    "Ds_l = list(Ds)\n",
    "\n",
    "for c in regions_epi:\n",
    "    if c in df.index:\n",
    "        v = np.zeros((2, len(Ds)))\n",
    "        \n",
    "        if df.loc[c].index[0] in Ds_l:\n",
    "            x_0 = list(Ds).index(df.loc[c].index[0])\n",
    "        else:\n",
    "            x_0 = 0\n",
    "            \n",
    "        v[:, x_0:] = df.loc[c].loc[Ds[x_0:]].T\n",
    "        values_to_stack.append(v)"
   ]
  },
  {
   "cell_type": "code",
   "execution_count": 77,
   "metadata": {},
   "outputs": [
    {
     "data": {
      "text/plain": [
       "[Timestamp('2020-01-22 00:00:00+0000', tz='UTC', freq='D'),\n",
       " Timestamp('2020-01-23 00:00:00+0000', tz='UTC', freq='D'),\n",
       " Timestamp('2020-01-24 00:00:00+0000', tz='UTC', freq='D'),\n",
       " Timestamp('2020-01-25 00:00:00+0000', tz='UTC', freq='D'),\n",
       " Timestamp('2020-01-26 00:00:00+0000', tz='UTC', freq='D'),\n",
       " Timestamp('2020-01-27 00:00:00+0000', tz='UTC', freq='D'),\n",
       " Timestamp('2020-01-28 00:00:00+0000', tz='UTC', freq='D'),\n",
       " Timestamp('2020-01-29 00:00:00+0000', tz='UTC', freq='D'),\n",
       " Timestamp('2020-01-30 00:00:00+0000', tz='UTC', freq='D'),\n",
       " Timestamp('2020-01-31 00:00:00+0000', tz='UTC', freq='D'),\n",
       " Timestamp('2020-02-01 00:00:00+0000', tz='UTC', freq='D'),\n",
       " Timestamp('2020-02-02 00:00:00+0000', tz='UTC', freq='D'),\n",
       " Timestamp('2020-02-03 00:00:00+0000', tz='UTC', freq='D'),\n",
       " Timestamp('2020-02-04 00:00:00+0000', tz='UTC', freq='D'),\n",
       " Timestamp('2020-02-05 00:00:00+0000', tz='UTC', freq='D'),\n",
       " Timestamp('2020-02-06 00:00:00+0000', tz='UTC', freq='D'),\n",
       " Timestamp('2020-02-07 00:00:00+0000', tz='UTC', freq='D'),\n",
       " Timestamp('2020-02-08 00:00:00+0000', tz='UTC', freq='D'),\n",
       " Timestamp('2020-02-09 00:00:00+0000', tz='UTC', freq='D'),\n",
       " Timestamp('2020-02-10 00:00:00+0000', tz='UTC', freq='D'),\n",
       " Timestamp('2020-02-11 00:00:00+0000', tz='UTC', freq='D'),\n",
       " Timestamp('2020-02-12 00:00:00+0000', tz='UTC', freq='D'),\n",
       " Timestamp('2020-02-13 00:00:00+0000', tz='UTC', freq='D'),\n",
       " Timestamp('2020-02-14 00:00:00+0000', tz='UTC', freq='D'),\n",
       " Timestamp('2020-02-15 00:00:00+0000', tz='UTC', freq='D'),\n",
       " Timestamp('2020-02-16 00:00:00+0000', tz='UTC', freq='D'),\n",
       " Timestamp('2020-02-17 00:00:00+0000', tz='UTC', freq='D'),\n",
       " Timestamp('2020-02-18 00:00:00+0000', tz='UTC', freq='D'),\n",
       " Timestamp('2020-02-19 00:00:00+0000', tz='UTC', freq='D'),\n",
       " Timestamp('2020-02-20 00:00:00+0000', tz='UTC', freq='D'),\n",
       " Timestamp('2020-02-21 00:00:00+0000', tz='UTC', freq='D'),\n",
       " Timestamp('2020-02-22 00:00:00+0000', tz='UTC', freq='D'),\n",
       " Timestamp('2020-02-23 00:00:00+0000', tz='UTC', freq='D'),\n",
       " Timestamp('2020-02-24 00:00:00+0000', tz='UTC', freq='D'),\n",
       " Timestamp('2020-02-25 00:00:00+0000', tz='UTC', freq='D'),\n",
       " Timestamp('2020-02-26 00:00:00+0000', tz='UTC', freq='D'),\n",
       " Timestamp('2020-02-27 00:00:00+0000', tz='UTC', freq='D'),\n",
       " Timestamp('2020-02-28 00:00:00+0000', tz='UTC', freq='D'),\n",
       " Timestamp('2020-02-29 00:00:00+0000', tz='UTC', freq='D'),\n",
       " Timestamp('2020-03-01 00:00:00+0000', tz='UTC', freq='D'),\n",
       " Timestamp('2020-03-02 00:00:00+0000', tz='UTC', freq='D'),\n",
       " Timestamp('2020-03-03 00:00:00+0000', tz='UTC', freq='D'),\n",
       " Timestamp('2020-03-04 00:00:00+0000', tz='UTC', freq='D'),\n",
       " Timestamp('2020-03-05 00:00:00+0000', tz='UTC', freq='D'),\n",
       " Timestamp('2020-03-06 00:00:00+0000', tz='UTC', freq='D'),\n",
       " Timestamp('2020-03-07 00:00:00+0000', tz='UTC', freq='D'),\n",
       " Timestamp('2020-03-08 00:00:00+0000', tz='UTC', freq='D'),\n",
       " Timestamp('2020-03-09 00:00:00+0000', tz='UTC', freq='D'),\n",
       " Timestamp('2020-03-10 00:00:00+0000', tz='UTC', freq='D'),\n",
       " Timestamp('2020-03-11 00:00:00+0000', tz='UTC', freq='D'),\n",
       " Timestamp('2020-03-12 00:00:00+0000', tz='UTC', freq='D'),\n",
       " Timestamp('2020-03-13 00:00:00+0000', tz='UTC', freq='D'),\n",
       " Timestamp('2020-03-14 00:00:00+0000', tz='UTC', freq='D'),\n",
       " Timestamp('2020-03-15 00:00:00+0000', tz='UTC', freq='D'),\n",
       " Timestamp('2020-03-16 00:00:00+0000', tz='UTC', freq='D'),\n",
       " Timestamp('2020-03-17 00:00:00+0000', tz='UTC', freq='D'),\n",
       " Timestamp('2020-03-18 00:00:00+0000', tz='UTC', freq='D'),\n",
       " Timestamp('2020-03-19 00:00:00+0000', tz='UTC', freq='D'),\n",
       " Timestamp('2020-03-20 00:00:00+0000', tz='UTC', freq='D'),\n",
       " Timestamp('2020-03-21 00:00:00+0000', tz='UTC', freq='D'),\n",
       " Timestamp('2020-03-22 00:00:00+0000', tz='UTC', freq='D'),\n",
       " Timestamp('2020-03-23 00:00:00+0000', tz='UTC', freq='D'),\n",
       " Timestamp('2020-03-24 00:00:00+0000', tz='UTC', freq='D'),\n",
       " Timestamp('2020-03-25 00:00:00+0000', tz='UTC', freq='D'),\n",
       " Timestamp('2020-03-26 00:00:00+0000', tz='UTC', freq='D'),\n",
       " Timestamp('2020-03-27 00:00:00+0000', tz='UTC', freq='D'),\n",
       " Timestamp('2020-03-28 00:00:00+0000', tz='UTC', freq='D'),\n",
       " Timestamp('2020-03-29 00:00:00+0000', tz='UTC', freq='D'),\n",
       " Timestamp('2020-03-30 00:00:00+0000', tz='UTC', freq='D'),\n",
       " Timestamp('2020-03-31 00:00:00+0000', tz='UTC', freq='D'),\n",
       " Timestamp('2020-04-01 00:00:00+0000', tz='UTC', freq='D'),\n",
       " Timestamp('2020-04-02 00:00:00+0000', tz='UTC', freq='D'),\n",
       " Timestamp('2020-04-03 00:00:00+0000', tz='UTC', freq='D'),\n",
       " Timestamp('2020-04-04 00:00:00+0000', tz='UTC', freq='D'),\n",
       " Timestamp('2020-04-05 00:00:00+0000', tz='UTC', freq='D'),\n",
       " Timestamp('2020-04-06 00:00:00+0000', tz='UTC', freq='D'),\n",
       " Timestamp('2020-04-07 00:00:00+0000', tz='UTC', freq='D'),\n",
       " Timestamp('2020-04-08 00:00:00+0000', tz='UTC', freq='D'),\n",
       " Timestamp('2020-04-09 00:00:00+0000', tz='UTC', freq='D'),\n",
       " Timestamp('2020-04-10 00:00:00+0000', tz='UTC', freq='D'),\n",
       " Timestamp('2020-04-11 00:00:00+0000', tz='UTC', freq='D'),\n",
       " Timestamp('2020-04-12 00:00:00+0000', tz='UTC', freq='D'),\n",
       " Timestamp('2020-04-13 00:00:00+0000', tz='UTC', freq='D'),\n",
       " Timestamp('2020-04-14 00:00:00+0000', tz='UTC', freq='D'),\n",
       " Timestamp('2020-04-15 00:00:00+0000', tz='UTC', freq='D'),\n",
       " Timestamp('2020-04-16 00:00:00+0000', tz='UTC', freq='D'),\n",
       " Timestamp('2020-04-17 00:00:00+0000', tz='UTC', freq='D'),\n",
       " Timestamp('2020-04-18 00:00:00+0000', tz='UTC', freq='D'),\n",
       " Timestamp('2020-04-19 00:00:00+0000', tz='UTC', freq='D'),\n",
       " Timestamp('2020-04-20 00:00:00+0000', tz='UTC', freq='D'),\n",
       " Timestamp('2020-04-21 00:00:00+0000', tz='UTC', freq='D'),\n",
       " Timestamp('2020-04-22 00:00:00+0000', tz='UTC', freq='D'),\n",
       " Timestamp('2020-04-23 00:00:00+0000', tz='UTC', freq='D'),\n",
       " Timestamp('2020-04-24 00:00:00+0000', tz='UTC', freq='D'),\n",
       " Timestamp('2020-04-25 00:00:00+0000', tz='UTC', freq='D')]"
      ]
     },
     "execution_count": 77,
     "metadata": {},
     "output_type": "execute_result"
    }
   ],
   "source": [
    "list(Ds)"
   ]
  },
  {
   "cell_type": "code",
   "execution_count": 41,
   "metadata": {},
   "outputs": [],
   "source": [
    "johnhop_ds = pd.read_csv(\"../../data/johns-hopkins.csv\", index_col=[\"Code\", \"Date\"], parse_dates=[\"Date\"], infer_datetime_format=True)"
   ]
  },
  {
   "cell_type": "code",
   "execution_count": 18,
   "metadata": {},
   "outputs": [],
   "source": [
    "Ds = pd.date_range(\"2020-01-22\", end=\"2020-05-09\", tz=\"utc\")"
   ]
  },
  {
   "cell_type": "code",
   "execution_count": 43,
   "metadata": {},
   "outputs": [
    {
     "data": {
      "text/plain": [
       "DatetimeIndex(['2020-01-22 00:00:00+00:00', '2020-01-23 00:00:00+00:00',\n",
       "               '2020-01-24 00:00:00+00:00', '2020-01-25 00:00:00+00:00',\n",
       "               '2020-01-26 00:00:00+00:00', '2020-01-27 00:00:00+00:00',\n",
       "               '2020-01-28 00:00:00+00:00', '2020-01-29 00:00:00+00:00',\n",
       "               '2020-01-30 00:00:00+00:00', '2020-01-31 00:00:00+00:00',\n",
       "               ...\n",
       "               '2020-04-30 00:00:00+00:00', '2020-05-01 00:00:00+00:00',\n",
       "               '2020-05-02 00:00:00+00:00', '2020-05-03 00:00:00+00:00',\n",
       "               '2020-05-04 00:00:00+00:00', '2020-05-05 00:00:00+00:00',\n",
       "               '2020-05-06 00:00:00+00:00', '2020-05-07 00:00:00+00:00',\n",
       "               '2020-05-08 00:00:00+00:00', '2020-05-09 00:00:00+00:00'],\n",
       "              dtype='datetime64[ns, UTC]', length=109, freq='D')"
      ]
     },
     "execution_count": 43,
     "metadata": {},
     "output_type": "execute_result"
    }
   ],
   "source": [
    "Ds"
   ]
  },
  {
   "cell_type": "code",
   "execution_count": 44,
   "metadata": {},
   "outputs": [
    {
     "data": {
      "text/plain": [
       "Code  Date                     \n",
       "AD    2020-01-22 00:00:00+00:00      0.0\n",
       "      2020-01-23 00:00:00+00:00      0.0\n",
       "      2020-01-24 00:00:00+00:00      0.0\n",
       "      2020-01-25 00:00:00+00:00      0.0\n",
       "      2020-01-26 00:00:00+00:00      0.0\n",
       "                                   ...  \n",
       "      2020-05-05 00:00:00+00:00    751.0\n",
       "      2020-05-06 00:00:00+00:00    751.0\n",
       "      2020-05-07 00:00:00+00:00    752.0\n",
       "      2020-05-08 00:00:00+00:00    752.0\n",
       "      2020-05-09 00:00:00+00:00    754.0\n",
       "Name: Confirmed, Length: 109, dtype: float64"
      ]
     },
     "execution_count": 44,
     "metadata": {},
     "output_type": "execute_result"
    }
   ],
   "source": [
    "johnhop_ds[\"Confirmed\"].loc[\"AD\", Ds]"
   ]
  },
  {
   "cell_type": "code",
   "execution_count": 39,
   "metadata": {},
   "outputs": [
    {
     "data": {
      "text/plain": [
       "'2020-01-22 00:00:00+00:00'"
      ]
     },
     "execution_count": 39,
     "metadata": {},
     "output_type": "execute_result"
    }
   ],
   "source": [
    "str(Ds[0])"
   ]
  },
  {
   "cell_type": "code",
   "execution_count": 13,
   "metadata": {},
   "outputs": [
    {
     "data": {
      "text/html": [
       "<div>\n",
       "<style scoped>\n",
       "    .dataframe tbody tr th:only-of-type {\n",
       "        vertical-align: middle;\n",
       "    }\n",
       "\n",
       "    .dataframe tbody tr th {\n",
       "        vertical-align: top;\n",
       "    }\n",
       "\n",
       "    .dataframe thead th {\n",
       "        text-align: right;\n",
       "    }\n",
       "</style>\n",
       "<table border=\"1\" class=\"dataframe\">\n",
       "  <thead>\n",
       "    <tr style=\"text-align: right;\">\n",
       "      <th></th>\n",
       "      <th></th>\n",
       "      <th>Recovered</th>\n",
       "      <th>Confirmed</th>\n",
       "      <th>Deaths</th>\n",
       "      <th>Active</th>\n",
       "    </tr>\n",
       "    <tr>\n",
       "      <th>Code</th>\n",
       "      <th>Date</th>\n",
       "      <th></th>\n",
       "      <th></th>\n",
       "      <th></th>\n",
       "      <th></th>\n",
       "    </tr>\n",
       "  </thead>\n",
       "  <tbody>\n",
       "    <tr>\n",
       "      <th rowspan=\"5\" valign=\"top\">AD</th>\n",
       "      <th>2020-01-22 00:00:00+00:00</th>\n",
       "      <td>0.0</td>\n",
       "      <td>0.0</td>\n",
       "      <td>0.0</td>\n",
       "      <td>0.0</td>\n",
       "    </tr>\n",
       "    <tr>\n",
       "      <th>2020-01-23 00:00:00+00:00</th>\n",
       "      <td>0.0</td>\n",
       "      <td>0.0</td>\n",
       "      <td>0.0</td>\n",
       "      <td>0.0</td>\n",
       "    </tr>\n",
       "    <tr>\n",
       "      <th>2020-01-24 00:00:00+00:00</th>\n",
       "      <td>0.0</td>\n",
       "      <td>0.0</td>\n",
       "      <td>0.0</td>\n",
       "      <td>0.0</td>\n",
       "    </tr>\n",
       "    <tr>\n",
       "      <th>2020-01-25 00:00:00+00:00</th>\n",
       "      <td>0.0</td>\n",
       "      <td>0.0</td>\n",
       "      <td>0.0</td>\n",
       "      <td>0.0</td>\n",
       "    </tr>\n",
       "    <tr>\n",
       "      <th>2020-01-26 00:00:00+00:00</th>\n",
       "      <td>0.0</td>\n",
       "      <td>0.0</td>\n",
       "      <td>0.0</td>\n",
       "      <td>0.0</td>\n",
       "    </tr>\n",
       "    <tr>\n",
       "      <th>...</th>\n",
       "      <th>...</th>\n",
       "      <td>...</td>\n",
       "      <td>...</td>\n",
       "      <td>...</td>\n",
       "      <td>...</td>\n",
       "    </tr>\n",
       "    <tr>\n",
       "      <th rowspan=\"5\" valign=\"top\">ZW</th>\n",
       "      <th>2020-06-10 00:00:00+00:00</th>\n",
       "      <td>49.0</td>\n",
       "      <td>320.0</td>\n",
       "      <td>4.0</td>\n",
       "      <td>267.0</td>\n",
       "    </tr>\n",
       "    <tr>\n",
       "      <th>2020-06-11 00:00:00+00:00</th>\n",
       "      <td>51.0</td>\n",
       "      <td>332.0</td>\n",
       "      <td>4.0</td>\n",
       "      <td>277.0</td>\n",
       "    </tr>\n",
       "    <tr>\n",
       "      <th>2020-06-12 00:00:00+00:00</th>\n",
       "      <td>51.0</td>\n",
       "      <td>343.0</td>\n",
       "      <td>4.0</td>\n",
       "      <td>288.0</td>\n",
       "    </tr>\n",
       "    <tr>\n",
       "      <th>2020-06-13 00:00:00+00:00</th>\n",
       "      <td>54.0</td>\n",
       "      <td>356.0</td>\n",
       "      <td>4.0</td>\n",
       "      <td>298.0</td>\n",
       "    </tr>\n",
       "    <tr>\n",
       "      <th>2020-06-14 00:00:00+00:00</th>\n",
       "      <td>54.0</td>\n",
       "      <td>383.0</td>\n",
       "      <td>4.0</td>\n",
       "      <td>325.0</td>\n",
       "    </tr>\n",
       "  </tbody>\n",
       "</table>\n",
       "<p>42195 rows × 4 columns</p>\n",
       "</div>"
      ],
      "text/plain": [
       "                                Recovered  Confirmed  Deaths  Active\n",
       "Code Date                                                           \n",
       "AD   2020-01-22 00:00:00+00:00        0.0        0.0     0.0     0.0\n",
       "     2020-01-23 00:00:00+00:00        0.0        0.0     0.0     0.0\n",
       "     2020-01-24 00:00:00+00:00        0.0        0.0     0.0     0.0\n",
       "     2020-01-25 00:00:00+00:00        0.0        0.0     0.0     0.0\n",
       "     2020-01-26 00:00:00+00:00        0.0        0.0     0.0     0.0\n",
       "...                                   ...        ...     ...     ...\n",
       "ZW   2020-06-10 00:00:00+00:00       49.0      320.0     4.0   267.0\n",
       "     2020-06-11 00:00:00+00:00       51.0      332.0     4.0   277.0\n",
       "     2020-06-12 00:00:00+00:00       51.0      343.0     4.0   288.0\n",
       "     2020-06-13 00:00:00+00:00       54.0      356.0     4.0   298.0\n",
       "     2020-06-14 00:00:00+00:00       54.0      383.0     4.0   325.0\n",
       "\n",
       "[42195 rows x 4 columns]"
      ]
     },
     "execution_count": 13,
     "metadata": {},
     "output_type": "execute_result"
    }
   ],
   "source": [
    "johnhop_ds"
   ]
  },
  {
   "cell_type": "code",
   "execution_count": 45,
   "metadata": {},
   "outputs": [
    {
     "name": "stderr",
     "output_type": "stream",
     "text": [
      "INFO:epimodel.pymc3_models.cm_effect.datapreprocessor:\n",
      "Countermeasures: EpidemicForecasting.org           min   ... mean  ... max   ... unique\n",
      " 1 Mask Wearing                               0.000 ... 0.091 ... 1.000 ... [0. 1.]\n",
      " 2 Some Businesses Suspended                  0.000 ... 0.410 ... 1.000 ... [0. 1.]\n",
      " 3 Most Businesses Suspended                  0.000 ... 0.303 ... 1.000 ... [0. 1.]\n",
      " 4 Healthcare Infection Control               0.000 ... 0.537 ... 1.000 ... [0. 1.]\n",
      " 5 Stay Home Order                            0.000 ... 0.197 ... 1.000 ... [0. 1.]\n",
      " 6 Gatherings <1000                           0.000 ... 0.456 ... 1.000 ... [0. 1.]\n",
      " 7 Gatherings <100                            0.000 ... 0.423 ... 1.000 ... [0. 1.]\n",
      " 8 Gatherings <10                             0.000 ... 0.342 ... 1.000 ... [0. 1.]\n",
      " 9 School Closure                             0.000 ... 0.448 ... 1.000 ... [0. 1.]\n",
      "INFO:epimodel.pymc3_models.cm_effect.datapreprocessor:Load OXCGRT\n",
      "WARNING:epimodel.pymc3_models.cm_effect.datapreprocessor:Missing ['ABW', 'AFG', 'AGO', 'ARE', 'ARG', 'AUS', 'AZE', 'BDI', 'BEN', 'BFA', 'BGD', 'BHR', 'BLR', 'BLZ', 'BMU', 'BOL', 'BRA', 'BRB', 'BRN', 'BTN', 'BWA', 'CAF', 'CAN', 'CHL', 'CHN', 'CIV', 'CMR', 'COD', 'COG', 'COL', 'CPV', 'CRI', 'CUB', 'CYP', 'DJI', 'DMA', 'DOM', 'DZA', 'ECU', 'EGY', 'ETH', 'GAB', 'GHA', 'GMB', 'GRL', 'GTM', 'GUM', 'GUY', 'HKG', 'HND', 'IDN', 'IND', 'IRN', 'IRQ', 'JAM', 'JOR', 'JPN', 'KAZ', 'KEN', 'KGZ', 'KOR', 'KWT', 'LAO', 'LBN', 'LBR', 'LBY', 'LKA', 'LSO', 'LUX', 'MAC', 'MDA', 'MDG', 'MLI', 'MMR', 'MNG', 'MOZ', 'MRT', 'MUS', 'MWI', 'NAM', 'NER', 'NGA', 'NIC', 'NPL', 'OMN', 'PAK', 'PAN', 'PER', 'PHL', 'PNG', 'PRI', 'PRY', 'PSE', 'QAT', 'RUS', 'RWA', 'SAU', 'SDN', 'SEN', 'SLB', 'SLE', 'SLV', 'SMR', 'SOM', 'SSD', 'SUR', 'SWZ', 'SYC', 'SYR', 'TCD', 'THA', 'TKM', 'TTO', 'TUN', 'TUR', 'TZA', 'UGA', 'UKR', 'URY', 'USA', 'UZB', 'VEN', 'VNM', 'YEM', 'ZMB', 'ZWE', 'TWN', 'RKS'] from epidemicforecasting.org DB which are in OxCGRT\n",
      "INFO:epimodel.pymc3_models.cm_effect.datapreprocessor:Missing LV from OXCGRT. Assuming features are 0\n",
      "INFO:epimodel.pymc3_models.cm_effect.datapreprocessor:Missing MT from OXCGRT. Assuming features are 0\n",
      "INFO:epimodel.pymc3_models.cm_effect.datapreprocessor:\n",
      "Countermeasures: OxCGRT           min   ... mean  ... max   ... unique\n",
      " 1 Symptomatic Testing                        0.000 ... 0.192 ... 1.000 ... [0. 1.]\n",
      "INFO:epimodel.pymc3_models.cm_effect.datapreprocessor:\n",
      "Countermeasures: Combined           min   ... mean  ... max   ... unique\n",
      " 1 Healthcare Infection Control               0.000 ... 0.537 ... 1.000 ... [0. 1.]\n",
      " 2 Mask Wearing                               0.000 ... 0.091 ... 1.000 ... [0. 1.]\n",
      " 3 Symptomatic Testing                        0.000 ... 0.192 ... 1.000 ... [0. 1.]\n",
      " 4 Gatherings <1000                           0.000 ... 0.456 ... 1.000 ... [0. 1.]\n",
      " 5 Gatherings <100                            0.000 ... 0.423 ... 1.000 ... [0. 1.]\n",
      " 6 Gatherings <10                             0.000 ... 0.342 ... 1.000 ... [0. 1.]\n",
      " 7 Some Businesses Suspended                  0.000 ... 0.410 ... 1.000 ... [0. 1.]\n",
      " 8 Most Businesses Suspended                  0.000 ... 0.303 ... 1.000 ... [0. 1.]\n",
      " 9 School Closure                             0.000 ... 0.448 ... 1.000 ... [0. 1.]\n",
      "10 Stay Home Order                            0.000 ... 0.197 ... 1.000 ... [0. 1.]\n"
     ]
    },
    {
     "ename": "KeyboardInterrupt",
     "evalue": "",
     "output_type": "error",
     "traceback": [
      "\u001b[0;31m---------------------------------------------------------------------------\u001b[0m",
      "\u001b[0;31mKeyboardInterrupt\u001b[0m                         Traceback (most recent call last)",
      "\u001b[0;32m<ipython-input-45-a19559d2d693>\u001b[0m in \u001b[0;36m<module>\u001b[0;34m\u001b[0m\n\u001b[1;32m      2\u001b[0m dm.merge_data(\"../../data\", region_info, oxcgrt_filter,  oxcgrt_cm_cols,\n\u001b[1;32m      3\u001b[0m             \u001b[0mepifor_features\u001b[0m\u001b[0;34m,\u001b[0m\u001b[0;34m\u001b[0m\u001b[0;34m\u001b[0m\u001b[0m\n\u001b[0;32m----> 4\u001b[0;31m             final_features)\n\u001b[0m",
      "\u001b[0;32m~/workspace/epidemicforecasting/epimodel/epimodel/pymc3_models/cm_effect/datapreprocessor.py\u001b[0m in \u001b[0;36mmerge_data\u001b[0;34m(self, data_base_path, region_info, oxcgrt_feature_info, selected_features_oxcgrt, selected_features_epi, ordered_features, output_name)\u001b[0m\n\u001b[1;32m    182\u001b[0m         \u001b[0mConfirmed\u001b[0m \u001b[0;34m=\u001b[0m \u001b[0mnp\u001b[0m\u001b[0;34m.\u001b[0m\u001b[0mstack\u001b[0m\u001b[0;34m(\u001b[0m\u001b[0;34m[\u001b[0m\u001b[0mjohnhop_ds\u001b[0m\u001b[0;34m[\u001b[0m\u001b[0;34m\"Confirmed\"\u001b[0m\u001b[0;34m]\u001b[0m\u001b[0;34m.\u001b[0m\u001b[0mloc\u001b[0m\u001b[0;34m[\u001b[0m\u001b[0;34m(\u001b[0m\u001b[0mfc\u001b[0m\u001b[0;34m,\u001b[0m \u001b[0mDs\u001b[0m\u001b[0;34m)\u001b[0m\u001b[0;34m]\u001b[0m \u001b[0;32mfor\u001b[0m \u001b[0mfc\u001b[0m \u001b[0;32min\u001b[0m \u001b[0mregions_epi\u001b[0m\u001b[0;34m]\u001b[0m\u001b[0;34m)\u001b[0m\u001b[0;34m\u001b[0m\u001b[0;34m\u001b[0m\u001b[0m\n\u001b[1;32m    183\u001b[0m         \u001b[0mActive\u001b[0m \u001b[0;34m=\u001b[0m \u001b[0mnp\u001b[0m\u001b[0;34m.\u001b[0m\u001b[0mstack\u001b[0m\u001b[0;34m(\u001b[0m\u001b[0;34m[\u001b[0m\u001b[0mjohnhop_ds\u001b[0m\u001b[0;34m[\u001b[0m\u001b[0;34m\"Active\"\u001b[0m\u001b[0;34m]\u001b[0m\u001b[0;34m.\u001b[0m\u001b[0mloc\u001b[0m\u001b[0;34m[\u001b[0m\u001b[0;34m(\u001b[0m\u001b[0mfc\u001b[0m\u001b[0;34m,\u001b[0m \u001b[0mDs\u001b[0m\u001b[0;34m)\u001b[0m\u001b[0;34m]\u001b[0m \u001b[0;32mfor\u001b[0m \u001b[0mfc\u001b[0m \u001b[0;32min\u001b[0m \u001b[0mregions_epi\u001b[0m\u001b[0;34m]\u001b[0m\u001b[0;34m)\u001b[0m\u001b[0;34m\u001b[0m\u001b[0;34m\u001b[0m\u001b[0m\n\u001b[0;32m--> 184\u001b[0;31m         \u001b[0mDeaths\u001b[0m \u001b[0;34m=\u001b[0m \u001b[0mnp\u001b[0m\u001b[0;34m.\u001b[0m\u001b[0mstack\u001b[0m\u001b[0;34m(\u001b[0m\u001b[0;34m[\u001b[0m\u001b[0mjohnhop_ds\u001b[0m\u001b[0;34m[\u001b[0m\u001b[0;34m\"Deaths\"\u001b[0m\u001b[0;34m]\u001b[0m\u001b[0;34m.\u001b[0m\u001b[0mloc\u001b[0m\u001b[0;34m[\u001b[0m\u001b[0;34m(\u001b[0m\u001b[0mfc\u001b[0m\u001b[0;34m,\u001b[0m \u001b[0mDs\u001b[0m\u001b[0;34m)\u001b[0m\u001b[0;34m]\u001b[0m \u001b[0;32mfor\u001b[0m \u001b[0mfc\u001b[0m \u001b[0;32min\u001b[0m \u001b[0mregions_epi\u001b[0m\u001b[0;34m]\u001b[0m\u001b[0;34m)\u001b[0m\u001b[0;34m\u001b[0m\u001b[0;34m\u001b[0m\u001b[0m\n\u001b[0m\u001b[1;32m    185\u001b[0m \u001b[0;34m\u001b[0m\u001b[0m\n\u001b[1;32m    186\u001b[0m         \u001b[0mcolumns\u001b[0m \u001b[0;34m=\u001b[0m \u001b[0;34m[\u001b[0m\u001b[0;34m\"Country Code\"\u001b[0m\u001b[0;34m,\u001b[0m \u001b[0;34m\"Date\"\u001b[0m\u001b[0;34m,\u001b[0m \u001b[0;34m\"Region Name\"\u001b[0m\u001b[0;34m,\u001b[0m \u001b[0;34m\"Confirmed\"\u001b[0m\u001b[0;34m,\u001b[0m \u001b[0;34m\"Active\"\u001b[0m\u001b[0;34m,\u001b[0m \u001b[0;34m\"Deaths\"\u001b[0m\u001b[0;34m,\u001b[0m \u001b[0;34m*\u001b[0m\u001b[0mordered_features\u001b[0m\u001b[0;34m]\u001b[0m\u001b[0;34m\u001b[0m\u001b[0;34m\u001b[0m\u001b[0m\n",
      "\u001b[0;32m~/workspace/epidemicforecasting/epimodel/epimodel/pymc3_models/cm_effect/datapreprocessor.py\u001b[0m in \u001b[0;36m<listcomp>\u001b[0;34m(.0)\u001b[0m\n\u001b[1;32m    182\u001b[0m         \u001b[0mConfirmed\u001b[0m \u001b[0;34m=\u001b[0m \u001b[0mnp\u001b[0m\u001b[0;34m.\u001b[0m\u001b[0mstack\u001b[0m\u001b[0;34m(\u001b[0m\u001b[0;34m[\u001b[0m\u001b[0mjohnhop_ds\u001b[0m\u001b[0;34m[\u001b[0m\u001b[0;34m\"Confirmed\"\u001b[0m\u001b[0;34m]\u001b[0m\u001b[0;34m.\u001b[0m\u001b[0mloc\u001b[0m\u001b[0;34m[\u001b[0m\u001b[0;34m(\u001b[0m\u001b[0mfc\u001b[0m\u001b[0;34m,\u001b[0m \u001b[0mDs\u001b[0m\u001b[0;34m)\u001b[0m\u001b[0;34m]\u001b[0m \u001b[0;32mfor\u001b[0m \u001b[0mfc\u001b[0m \u001b[0;32min\u001b[0m \u001b[0mregions_epi\u001b[0m\u001b[0;34m]\u001b[0m\u001b[0;34m)\u001b[0m\u001b[0;34m\u001b[0m\u001b[0;34m\u001b[0m\u001b[0m\n\u001b[1;32m    183\u001b[0m         \u001b[0mActive\u001b[0m \u001b[0;34m=\u001b[0m \u001b[0mnp\u001b[0m\u001b[0;34m.\u001b[0m\u001b[0mstack\u001b[0m\u001b[0;34m(\u001b[0m\u001b[0;34m[\u001b[0m\u001b[0mjohnhop_ds\u001b[0m\u001b[0;34m[\u001b[0m\u001b[0;34m\"Active\"\u001b[0m\u001b[0;34m]\u001b[0m\u001b[0;34m.\u001b[0m\u001b[0mloc\u001b[0m\u001b[0;34m[\u001b[0m\u001b[0;34m(\u001b[0m\u001b[0mfc\u001b[0m\u001b[0;34m,\u001b[0m \u001b[0mDs\u001b[0m\u001b[0;34m)\u001b[0m\u001b[0;34m]\u001b[0m \u001b[0;32mfor\u001b[0m \u001b[0mfc\u001b[0m \u001b[0;32min\u001b[0m \u001b[0mregions_epi\u001b[0m\u001b[0;34m]\u001b[0m\u001b[0;34m)\u001b[0m\u001b[0;34m\u001b[0m\u001b[0;34m\u001b[0m\u001b[0m\n\u001b[0;32m--> 184\u001b[0;31m         \u001b[0mDeaths\u001b[0m \u001b[0;34m=\u001b[0m \u001b[0mnp\u001b[0m\u001b[0;34m.\u001b[0m\u001b[0mstack\u001b[0m\u001b[0;34m(\u001b[0m\u001b[0;34m[\u001b[0m\u001b[0mjohnhop_ds\u001b[0m\u001b[0;34m[\u001b[0m\u001b[0;34m\"Deaths\"\u001b[0m\u001b[0;34m]\u001b[0m\u001b[0;34m.\u001b[0m\u001b[0mloc\u001b[0m\u001b[0;34m[\u001b[0m\u001b[0;34m(\u001b[0m\u001b[0mfc\u001b[0m\u001b[0;34m,\u001b[0m \u001b[0mDs\u001b[0m\u001b[0;34m)\u001b[0m\u001b[0;34m]\u001b[0m \u001b[0;32mfor\u001b[0m \u001b[0mfc\u001b[0m \u001b[0;32min\u001b[0m \u001b[0mregions_epi\u001b[0m\u001b[0;34m]\u001b[0m\u001b[0;34m)\u001b[0m\u001b[0;34m\u001b[0m\u001b[0;34m\u001b[0m\u001b[0m\n\u001b[0m\u001b[1;32m    185\u001b[0m \u001b[0;34m\u001b[0m\u001b[0m\n\u001b[1;32m    186\u001b[0m         \u001b[0mcolumns\u001b[0m \u001b[0;34m=\u001b[0m \u001b[0;34m[\u001b[0m\u001b[0;34m\"Country Code\"\u001b[0m\u001b[0;34m,\u001b[0m \u001b[0;34m\"Date\"\u001b[0m\u001b[0;34m,\u001b[0m \u001b[0;34m\"Region Name\"\u001b[0m\u001b[0;34m,\u001b[0m \u001b[0;34m\"Confirmed\"\u001b[0m\u001b[0;34m,\u001b[0m \u001b[0;34m\"Active\"\u001b[0m\u001b[0;34m,\u001b[0m \u001b[0;34m\"Deaths\"\u001b[0m\u001b[0;34m,\u001b[0m \u001b[0;34m*\u001b[0m\u001b[0mordered_features\u001b[0m\u001b[0;34m]\u001b[0m\u001b[0;34m\u001b[0m\u001b[0;34m\u001b[0m\u001b[0m\n",
      "\u001b[0;32m~/Library/Caches/pypoetry/virtualenvs/epimodel-H-ywULmv-py3.7/lib/python3.7/site-packages/pandas/core/indexing.py\u001b[0m in \u001b[0;36m__getitem__\u001b[0;34m(self, key)\u001b[0m\n\u001b[1;32m   1760\u001b[0m                 \u001b[0;32mexcept\u001b[0m \u001b[0;34m(\u001b[0m\u001b[0mKeyError\u001b[0m\u001b[0;34m,\u001b[0m \u001b[0mIndexError\u001b[0m\u001b[0;34m,\u001b[0m \u001b[0mAttributeError\u001b[0m\u001b[0;34m)\u001b[0m\u001b[0;34m:\u001b[0m\u001b[0;34m\u001b[0m\u001b[0;34m\u001b[0m\u001b[0m\n\u001b[1;32m   1761\u001b[0m                     \u001b[0;32mpass\u001b[0m\u001b[0;34m\u001b[0m\u001b[0;34m\u001b[0m\u001b[0m\n\u001b[0;32m-> 1762\u001b[0;31m             \u001b[0;32mreturn\u001b[0m \u001b[0mself\u001b[0m\u001b[0;34m.\u001b[0m\u001b[0m_getitem_tuple\u001b[0m\u001b[0;34m(\u001b[0m\u001b[0mkey\u001b[0m\u001b[0;34m)\u001b[0m\u001b[0;34m\u001b[0m\u001b[0;34m\u001b[0m\u001b[0m\n\u001b[0m\u001b[1;32m   1763\u001b[0m         \u001b[0;32melse\u001b[0m\u001b[0;34m:\u001b[0m\u001b[0;34m\u001b[0m\u001b[0;34m\u001b[0m\u001b[0m\n\u001b[1;32m   1764\u001b[0m             \u001b[0;31m# we by definition only have the 0th axis\u001b[0m\u001b[0;34m\u001b[0m\u001b[0;34m\u001b[0m\u001b[0;34m\u001b[0m\u001b[0m\n",
      "\u001b[0;32m~/Library/Caches/pypoetry/virtualenvs/epimodel-H-ywULmv-py3.7/lib/python3.7/site-packages/pandas/core/indexing.py\u001b[0m in \u001b[0;36m_getitem_tuple\u001b[0;34m(self, tup)\u001b[0m\n\u001b[1;32m   1270\u001b[0m     \u001b[0;32mdef\u001b[0m \u001b[0m_getitem_tuple\u001b[0m\u001b[0;34m(\u001b[0m\u001b[0mself\u001b[0m\u001b[0;34m,\u001b[0m \u001b[0mtup\u001b[0m\u001b[0;34m:\u001b[0m \u001b[0mTuple\u001b[0m\u001b[0;34m)\u001b[0m\u001b[0;34m:\u001b[0m\u001b[0;34m\u001b[0m\u001b[0;34m\u001b[0m\u001b[0m\n\u001b[1;32m   1271\u001b[0m         \u001b[0;32mtry\u001b[0m\u001b[0;34m:\u001b[0m\u001b[0;34m\u001b[0m\u001b[0;34m\u001b[0m\u001b[0m\n\u001b[0;32m-> 1272\u001b[0;31m             \u001b[0;32mreturn\u001b[0m \u001b[0mself\u001b[0m\u001b[0;34m.\u001b[0m\u001b[0m_getitem_lowerdim\u001b[0m\u001b[0;34m(\u001b[0m\u001b[0mtup\u001b[0m\u001b[0;34m)\u001b[0m\u001b[0;34m\u001b[0m\u001b[0;34m\u001b[0m\u001b[0m\n\u001b[0m\u001b[1;32m   1273\u001b[0m         \u001b[0;32mexcept\u001b[0m \u001b[0mIndexingError\u001b[0m\u001b[0;34m:\u001b[0m\u001b[0;34m\u001b[0m\u001b[0;34m\u001b[0m\u001b[0m\n\u001b[1;32m   1274\u001b[0m             \u001b[0;32mpass\u001b[0m\u001b[0;34m\u001b[0m\u001b[0;34m\u001b[0m\u001b[0m\n",
      "\u001b[0;32m~/Library/Caches/pypoetry/virtualenvs/epimodel-H-ywULmv-py3.7/lib/python3.7/site-packages/pandas/core/indexing.py\u001b[0m in \u001b[0;36m_getitem_lowerdim\u001b[0;34m(self, tup)\u001b[0m\n\u001b[1;32m   1371\u001b[0m         \u001b[0;31m# we may have a nested tuples indexer here\u001b[0m\u001b[0;34m\u001b[0m\u001b[0;34m\u001b[0m\u001b[0;34m\u001b[0m\u001b[0m\n\u001b[1;32m   1372\u001b[0m         \u001b[0;32mif\u001b[0m \u001b[0mself\u001b[0m\u001b[0;34m.\u001b[0m\u001b[0m_is_nested_tuple_indexer\u001b[0m\u001b[0;34m(\u001b[0m\u001b[0mtup\u001b[0m\u001b[0;34m)\u001b[0m\u001b[0;34m:\u001b[0m\u001b[0;34m\u001b[0m\u001b[0;34m\u001b[0m\u001b[0m\n\u001b[0;32m-> 1373\u001b[0;31m             \u001b[0;32mreturn\u001b[0m \u001b[0mself\u001b[0m\u001b[0;34m.\u001b[0m\u001b[0m_getitem_nested_tuple\u001b[0m\u001b[0;34m(\u001b[0m\u001b[0mtup\u001b[0m\u001b[0;34m)\u001b[0m\u001b[0;34m\u001b[0m\u001b[0;34m\u001b[0m\u001b[0m\n\u001b[0m\u001b[1;32m   1374\u001b[0m \u001b[0;34m\u001b[0m\u001b[0m\n\u001b[1;32m   1375\u001b[0m         \u001b[0;31m# we maybe be using a tuple to represent multiple dimensions here\u001b[0m\u001b[0;34m\u001b[0m\u001b[0;34m\u001b[0m\u001b[0;34m\u001b[0m\u001b[0m\n",
      "\u001b[0;32m~/Library/Caches/pypoetry/virtualenvs/epimodel-H-ywULmv-py3.7/lib/python3.7/site-packages/pandas/core/indexing.py\u001b[0m in \u001b[0;36m_getitem_nested_tuple\u001b[0;34m(self, tup)\u001b[0m\n\u001b[1;32m   1438\u001b[0m             \u001b[0;31m# selectors\u001b[0m\u001b[0;34m\u001b[0m\u001b[0;34m\u001b[0m\u001b[0;34m\u001b[0m\u001b[0m\n\u001b[1;32m   1439\u001b[0m             \u001b[0maxis\u001b[0m \u001b[0;34m=\u001b[0m \u001b[0mself\u001b[0m\u001b[0;34m.\u001b[0m\u001b[0maxis\u001b[0m \u001b[0;32mor\u001b[0m \u001b[0;36m0\u001b[0m\u001b[0;34m\u001b[0m\u001b[0;34m\u001b[0m\u001b[0m\n\u001b[0;32m-> 1440\u001b[0;31m             \u001b[0;32mreturn\u001b[0m \u001b[0mself\u001b[0m\u001b[0;34m.\u001b[0m\u001b[0m_getitem_axis\u001b[0m\u001b[0;34m(\u001b[0m\u001b[0mtup\u001b[0m\u001b[0;34m,\u001b[0m \u001b[0maxis\u001b[0m\u001b[0;34m=\u001b[0m\u001b[0maxis\u001b[0m\u001b[0;34m)\u001b[0m\u001b[0;34m\u001b[0m\u001b[0;34m\u001b[0m\u001b[0m\n\u001b[0m\u001b[1;32m   1441\u001b[0m \u001b[0;34m\u001b[0m\u001b[0m\n\u001b[1;32m   1442\u001b[0m         \u001b[0;31m# handle the multi-axis by taking sections and reducing\u001b[0m\u001b[0;34m\u001b[0m\u001b[0;34m\u001b[0m\u001b[0;34m\u001b[0m\u001b[0m\n",
      "\u001b[0;32m~/Library/Caches/pypoetry/virtualenvs/epimodel-H-ywULmv-py3.7/lib/python3.7/site-packages/pandas/core/indexing.py\u001b[0m in \u001b[0;36m_getitem_axis\u001b[0;34m(self, key, axis)\u001b[0m\n\u001b[1;32m   1956\u001b[0m             \u001b[0;31m# nested tuple slicing\u001b[0m\u001b[0;34m\u001b[0m\u001b[0;34m\u001b[0m\u001b[0;34m\u001b[0m\u001b[0m\n\u001b[1;32m   1957\u001b[0m             \u001b[0;32mif\u001b[0m \u001b[0mis_nested_tuple\u001b[0m\u001b[0;34m(\u001b[0m\u001b[0mkey\u001b[0m\u001b[0;34m,\u001b[0m \u001b[0mlabels\u001b[0m\u001b[0;34m)\u001b[0m\u001b[0;34m:\u001b[0m\u001b[0;34m\u001b[0m\u001b[0;34m\u001b[0m\u001b[0m\n\u001b[0;32m-> 1958\u001b[0;31m                 \u001b[0mlocs\u001b[0m \u001b[0;34m=\u001b[0m \u001b[0mlabels\u001b[0m\u001b[0;34m.\u001b[0m\u001b[0mget_locs\u001b[0m\u001b[0;34m(\u001b[0m\u001b[0mkey\u001b[0m\u001b[0;34m)\u001b[0m\u001b[0;34m\u001b[0m\u001b[0;34m\u001b[0m\u001b[0m\n\u001b[0m\u001b[1;32m   1959\u001b[0m                 \u001b[0mindexer\u001b[0m \u001b[0;34m=\u001b[0m \u001b[0;34m[\u001b[0m\u001b[0mslice\u001b[0m\u001b[0;34m(\u001b[0m\u001b[0;32mNone\u001b[0m\u001b[0;34m)\u001b[0m\u001b[0;34m]\u001b[0m \u001b[0;34m*\u001b[0m \u001b[0mself\u001b[0m\u001b[0;34m.\u001b[0m\u001b[0mndim\u001b[0m\u001b[0;34m\u001b[0m\u001b[0;34m\u001b[0m\u001b[0m\n\u001b[1;32m   1960\u001b[0m                 \u001b[0mindexer\u001b[0m\u001b[0;34m[\u001b[0m\u001b[0maxis\u001b[0m\u001b[0;34m]\u001b[0m \u001b[0;34m=\u001b[0m \u001b[0mlocs\u001b[0m\u001b[0;34m\u001b[0m\u001b[0;34m\u001b[0m\u001b[0m\n",
      "\u001b[0;32m~/Library/Caches/pypoetry/virtualenvs/epimodel-H-ywULmv-py3.7/lib/python3.7/site-packages/pandas/core/indexes/multi.py\u001b[0m in \u001b[0;36mget_locs\u001b[0;34m(self, seq)\u001b[0m\n\u001b[1;32m   3029\u001b[0m                     \u001b[0;32mtry\u001b[0m\u001b[0;34m:\u001b[0m\u001b[0;34m\u001b[0m\u001b[0;34m\u001b[0m\u001b[0m\n\u001b[1;32m   3030\u001b[0m                         idxrs = _convert_to_indexer(\n\u001b[0;32m-> 3031\u001b[0;31m                             \u001b[0mself\u001b[0m\u001b[0;34m.\u001b[0m\u001b[0m_get_level_indexer\u001b[0m\u001b[0;34m(\u001b[0m\u001b[0mx\u001b[0m\u001b[0;34m,\u001b[0m \u001b[0mlevel\u001b[0m\u001b[0;34m=\u001b[0m\u001b[0mi\u001b[0m\u001b[0;34m,\u001b[0m \u001b[0mindexer\u001b[0m\u001b[0;34m=\u001b[0m\u001b[0mindexer\u001b[0m\u001b[0;34m)\u001b[0m\u001b[0;34m\u001b[0m\u001b[0;34m\u001b[0m\u001b[0m\n\u001b[0m\u001b[1;32m   3032\u001b[0m                         )\n\u001b[1;32m   3033\u001b[0m                         \u001b[0mindexers\u001b[0m \u001b[0;34m=\u001b[0m \u001b[0midxrs\u001b[0m \u001b[0;32mif\u001b[0m \u001b[0mindexers\u001b[0m \u001b[0;32mis\u001b[0m \u001b[0;32mNone\u001b[0m \u001b[0;32melse\u001b[0m \u001b[0mindexers\u001b[0m \u001b[0;34m|\u001b[0m \u001b[0midxrs\u001b[0m\u001b[0;34m\u001b[0m\u001b[0;34m\u001b[0m\u001b[0m\n",
      "\u001b[0;32m~/Library/Caches/pypoetry/virtualenvs/epimodel-H-ywULmv-py3.7/lib/python3.7/site-packages/pandas/core/indexes/multi.py\u001b[0m in \u001b[0;36m_get_level_indexer\u001b[0;34m(self, key, level, indexer)\u001b[0m\n\u001b[1;32m   2927\u001b[0m         \u001b[0;32melse\u001b[0m\u001b[0;34m:\u001b[0m\u001b[0;34m\u001b[0m\u001b[0;34m\u001b[0m\u001b[0m\n\u001b[1;32m   2928\u001b[0m \u001b[0;34m\u001b[0m\u001b[0m\n\u001b[0;32m-> 2929\u001b[0;31m             \u001b[0mcode\u001b[0m \u001b[0;34m=\u001b[0m \u001b[0mself\u001b[0m\u001b[0;34m.\u001b[0m\u001b[0m_get_loc_single_level_index\u001b[0m\u001b[0;34m(\u001b[0m\u001b[0mlevel_index\u001b[0m\u001b[0;34m,\u001b[0m \u001b[0mkey\u001b[0m\u001b[0;34m)\u001b[0m\u001b[0;34m\u001b[0m\u001b[0;34m\u001b[0m\u001b[0m\n\u001b[0m\u001b[1;32m   2930\u001b[0m \u001b[0;34m\u001b[0m\u001b[0m\n\u001b[1;32m   2931\u001b[0m             \u001b[0;32mif\u001b[0m \u001b[0mlevel\u001b[0m \u001b[0;34m>\u001b[0m \u001b[0;36m0\u001b[0m \u001b[0;32mor\u001b[0m \u001b[0mself\u001b[0m\u001b[0;34m.\u001b[0m\u001b[0mlexsort_depth\u001b[0m \u001b[0;34m==\u001b[0m \u001b[0;36m0\u001b[0m\u001b[0;34m:\u001b[0m\u001b[0;34m\u001b[0m\u001b[0;34m\u001b[0m\u001b[0m\n",
      "\u001b[0;32m~/Library/Caches/pypoetry/virtualenvs/epimodel-H-ywULmv-py3.7/lib/python3.7/site-packages/pandas/core/indexes/multi.py\u001b[0m in \u001b[0;36m_get_loc_single_level_index\u001b[0;34m(self, level_index, key)\u001b[0m\n\u001b[1;32m   2596\u001b[0m             \u001b[0;32mreturn\u001b[0m \u001b[0;34m-\u001b[0m\u001b[0;36m1\u001b[0m\u001b[0;34m\u001b[0m\u001b[0;34m\u001b[0m\u001b[0m\n\u001b[1;32m   2597\u001b[0m         \u001b[0;32melse\u001b[0m\u001b[0;34m:\u001b[0m\u001b[0;34m\u001b[0m\u001b[0;34m\u001b[0m\u001b[0m\n\u001b[0;32m-> 2598\u001b[0;31m             \u001b[0;32mreturn\u001b[0m \u001b[0mlevel_index\u001b[0m\u001b[0;34m.\u001b[0m\u001b[0mget_loc\u001b[0m\u001b[0;34m(\u001b[0m\u001b[0mkey\u001b[0m\u001b[0;34m)\u001b[0m\u001b[0;34m\u001b[0m\u001b[0;34m\u001b[0m\u001b[0m\n\u001b[0m\u001b[1;32m   2599\u001b[0m \u001b[0;34m\u001b[0m\u001b[0m\n\u001b[1;32m   2600\u001b[0m     \u001b[0;32mdef\u001b[0m \u001b[0mget_loc\u001b[0m\u001b[0;34m(\u001b[0m\u001b[0mself\u001b[0m\u001b[0;34m,\u001b[0m \u001b[0mkey\u001b[0m\u001b[0;34m,\u001b[0m \u001b[0mmethod\u001b[0m\u001b[0;34m=\u001b[0m\u001b[0;32mNone\u001b[0m\u001b[0;34m)\u001b[0m\u001b[0;34m:\u001b[0m\u001b[0;34m\u001b[0m\u001b[0;34m\u001b[0m\u001b[0m\n",
      "\u001b[0;32m~/Library/Caches/pypoetry/virtualenvs/epimodel-H-ywULmv-py3.7/lib/python3.7/site-packages/pandas/core/indexes/datetimes.py\u001b[0m in \u001b[0;36mget_loc\u001b[0;34m(self, key, method, tolerance)\u001b[0m\n\u001b[1;32m    696\u001b[0m                 \u001b[0mkey\u001b[0m \u001b[0;34m=\u001b[0m \u001b[0mTimestamp\u001b[0m\u001b[0;34m(\u001b[0m\u001b[0mkey\u001b[0m\u001b[0;34m,\u001b[0m \u001b[0mtz\u001b[0m\u001b[0;34m=\u001b[0m\u001b[0mself\u001b[0m\u001b[0;34m.\u001b[0m\u001b[0mtz\u001b[0m\u001b[0;34m)\u001b[0m\u001b[0;34m\u001b[0m\u001b[0;34m\u001b[0m\u001b[0m\n\u001b[1;32m    697\u001b[0m             \u001b[0;32melse\u001b[0m\u001b[0;34m:\u001b[0m\u001b[0;34m\u001b[0m\u001b[0;34m\u001b[0m\u001b[0m\n\u001b[0;32m--> 698\u001b[0;31m                 \u001b[0mkey\u001b[0m \u001b[0;34m=\u001b[0m \u001b[0mTimestamp\u001b[0m\u001b[0;34m(\u001b[0m\u001b[0mkey\u001b[0m\u001b[0;34m)\u001b[0m\u001b[0;34m.\u001b[0m\u001b[0mtz_convert\u001b[0m\u001b[0;34m(\u001b[0m\u001b[0mself\u001b[0m\u001b[0;34m.\u001b[0m\u001b[0mtz\u001b[0m\u001b[0;34m)\u001b[0m\u001b[0;34m\u001b[0m\u001b[0;34m\u001b[0m\u001b[0m\n\u001b[0m\u001b[1;32m    699\u001b[0m             \u001b[0;32mreturn\u001b[0m \u001b[0mIndex\u001b[0m\u001b[0;34m.\u001b[0m\u001b[0mget_loc\u001b[0m\u001b[0;34m(\u001b[0m\u001b[0mself\u001b[0m\u001b[0;34m,\u001b[0m \u001b[0mkey\u001b[0m\u001b[0;34m,\u001b[0m \u001b[0mmethod\u001b[0m\u001b[0;34m,\u001b[0m \u001b[0mtolerance\u001b[0m\u001b[0;34m)\u001b[0m\u001b[0;34m\u001b[0m\u001b[0;34m\u001b[0m\u001b[0m\n\u001b[1;32m    700\u001b[0m \u001b[0;34m\u001b[0m\u001b[0m\n",
      "\u001b[0;31mKeyboardInterrupt\u001b[0m: "
     ]
    }
   ],
   "source": [
    "dm = DataMerger(start_date=\"2020-1-22\", end_date=\"2020-4-25\")\n",
    "dm.merge_data(\"../../data\", region_info, oxcgrt_filter,  oxcgrt_cm_cols,\n",
    "            epifor_features,\n",
    "            final_features, \"final_data_extended\")"
   ]
  },
  {
   "cell_type": "code",
   "execution_count": null,
   "metadata": {},
   "outputs": [],
   "source": []
  },
  {
   "cell_type": "code",
   "execution_count": null,
   "metadata": {},
   "outputs": [],
   "source": []
  },
  {
   "cell_type": "code",
   "execution_count": null,
   "metadata": {},
   "outputs": [],
   "source": []
  }
 ],
 "metadata": {
  "kernelspec": {
   "display_name": "Python 3",
   "language": "python",
   "name": "python3"
  },
  "language_info": {
   "codemirror_mode": {
    "name": "ipython",
    "version": 3
   },
   "file_extension": ".py",
   "mimetype": "text/x-python",
   "name": "python",
   "nbconvert_exporter": "python",
   "pygments_lexer": "ipython3",
   "version": "3.7.4"
  }
 },
 "nbformat": 4,
 "nbformat_minor": 4
}
