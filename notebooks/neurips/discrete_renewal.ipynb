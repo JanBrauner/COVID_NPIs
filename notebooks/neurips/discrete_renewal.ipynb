{
 "cells": [
  {
   "cell_type": "markdown",
   "metadata": {},
   "source": [
    "# EXP03: Discrete Renewal\n",
    "\n",
    "What this notebook does: runs using the discrete renewal model. "
   ]
  },
  {
   "cell_type": "code",
   "execution_count": null,
   "metadata": {},
   "outputs": [],
   "source": [
    "%load_ext autoreload\n",
    "%autoreload 2"
   ]
  },
  {
   "cell_type": "code",
   "execution_count": null,
   "metadata": {},
   "outputs": [],
   "source": [
    "### Initial imports\n",
    "import logging\n",
    "import numpy as np\n",
    "import pandas as pd\n",
    "import pymc3 as pm\n",
    "import theano.tensor as T\n",
    "import matplotlib.pyplot as plt\n",
    "import seaborn as sns\n",
    "import copy\n",
    "sns.set_style(\"ticks\")\n",
    "\n",
    "logging.basicConfig(level=logging.INFO)\n",
    "log = logging.getLogger(__name__)\n",
    "\n",
    "import warnings\n",
    "warnings.simplefilter(action=\"ignore\", category=FutureWarning)\n",
    "\n",
    "from epimodel.pymc3_models import cm_effect\n",
    "from epimodel.pymc3_models.cm_effect.datapreprocessor import DataPreprocessor\n",
    "\n",
    "%matplotlib inline"
   ]
  },
  {
   "cell_type": "code",
   "execution_count": null,
   "metadata": {},
   "outputs": [],
   "source": [
    "dp = DataPreprocessor(drop_HS=True)\n",
    "data = dp.preprocess_data(\"../final_data/data_final.csv\")"
   ]
  },
  {
   "cell_type": "code",
   "execution_count": null,
   "metadata": {},
   "outputs": [],
   "source": [
    "cm_plot_style = [\n",
    "#             (\"\\uf7f2\", \"tab:red\"), # hospital symbol\n",
    "            (\"\\uf963\", \"black\"), # mask\n",
    "            (\"\\uf492\", \"mediumblue\"), # vial\n",
    "            (\"\\uf0c0\", \"lightgrey\"), # ppl\n",
    "            (\"\\uf0c0\", \"grey\"), # ppl\n",
    "            (\"\\uf0c0\", \"black\"), # ppl\n",
    "            (\"\\uf07a\", \"tab:orange\"), # shop 1\n",
    "            (\"\\uf07a\", \"tab:red\"), # shop2 \n",
    "            (\"\\uf19d\", \"black\"), # school\n",
    "            (\"\\uf965\", \"black\") # home\n",
    "        ]\n",
    "data.summary_plot(cm_plot_style)"
   ]
  },
  {
   "cell_type": "markdown",
   "metadata": {},
   "source": [
    "Compared to the usual plot, there are fewer days of schools. "
   ]
  },
  {
   "cell_type": "code",
   "execution_count": null,
   "metadata": {},
   "outputs": [],
   "source": [
    "with cm_effect.models.CMCombined_ICL_NoNoise(data) as model:\n",
    "    model.build_model()"
   ]
  },
  {
   "cell_type": "code",
   "execution_count": null,
   "metadata": {},
   "outputs": [],
   "source": [
    "with model.model:\n",
    "    model.trace = pm.sample(2000, chains=4, cores=4, target_accept=0.9)"
   ]
  },
  {
   "cell_type": "code",
   "execution_count": null,
   "metadata": {},
   "outputs": [],
   "source": [
    "import pickle \n",
    "\n",
    "pickle.dump(model.trace, open(\"exp-05-dr.pkl\", \"wb\"))"
   ]
  },
  {
   "cell_type": "code",
   "execution_count": null,
   "metadata": {},
   "outputs": [],
   "source": []
  }
 ],
 "metadata": {
  "kernelspec": {
   "display_name": "Python 3",
   "language": "python",
   "name": "python3"
  },
  "language_info": {
   "codemirror_mode": {
    "name": "ipython",
    "version": 3
   },
   "file_extension": ".py",
   "mimetype": "text/x-python",
   "name": "python",
   "nbconvert_exporter": "python",
   "pygments_lexer": "ipython3",
   "version": "3.7.4"
  }
 },
 "nbformat": 4,
 "nbformat_minor": 4
}
