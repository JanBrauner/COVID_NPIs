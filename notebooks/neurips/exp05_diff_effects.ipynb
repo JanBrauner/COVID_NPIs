{
 "cells": [
  {
   "cell_type": "markdown",
   "metadata": {},
   "source": [
    "# EXP05: DifEffects\n",
    "\n",
    "What this notebook does: runs using the different effects model."
   ]
  },
  {
   "cell_type": "code",
   "execution_count": null,
   "metadata": {},
   "outputs": [],
   "source": [
    "%load_ext autoreload\n",
    "%autoreload 2"
   ]
  },
  {
   "cell_type": "code",
   "execution_count": null,
   "metadata": {},
   "outputs": [],
   "source": [
    "### Initial imports\n",
    "import logging\n",
    "import numpy as np\n",
    "import pandas as pd\n",
    "import pymc3 as pm\n",
    "import theano.tensor as T\n",
    "import matplotlib.pyplot as plt\n",
    "import seaborn as sns\n",
    "import pickle\n",
    "import copy\n",
    "sns.set_style(\"ticks\")\n",
    "\n",
    "logging.basicConfig(level=logging.INFO)\n",
    "log = logging.getLogger(__name__)\n",
    "\n",
    "import warnings\n",
    "warnings.simplefilter(action=\"ignore\", category=FutureWarning)\n",
    "\n",
    "from epimodel.pymc3_models import cm_effect\n",
    "from epimodel.pymc3_models.cm_effect.datapreprocessor import DataPreprocessor\n",
    "\n",
    "%matplotlib inline"
   ]
  },
  {
   "cell_type": "code",
   "execution_count": null,
   "metadata": {},
   "outputs": [],
   "source": [
    "dp = DataPreprocessor(drop_HS=True)\n",
    "data = dp.preprocess_data(\"../final_data/data_final.csv\")"
   ]
  },
  {
   "cell_type": "code",
   "execution_count": null,
   "metadata": {},
   "outputs": [],
   "source": [
    "cm_plot_style = [\n",
    "#             (\"\\uf7f2\", \"tab:red\"), # hospital symbol\n",
    "            (\"\\uf963\", \"black\"), # mask\n",
    "            (\"\\uf492\", \"mediumblue\"), # vial\n",
    "            (\"\\uf0c0\", \"lightgrey\"), # ppl\n",
    "            (\"\\uf0c0\", \"grey\"), # ppl\n",
    "            (\"\\uf0c0\", \"black\"), # ppl\n",
    "            (\"\\uf07a\", \"tab:orange\"), # shop 1\n",
    "            (\"\\uf07a\", \"tab:red\"), # shop2 \n",
    "            (\"\\uf19d\", \"black\"), # school\n",
    "            (\"\\uf965\", \"black\") # home\n",
    "        ]\n",
    "data.summary_plot(cm_plot_style)"
   ]
  },
  {
   "cell_type": "markdown",
   "metadata": {},
   "source": [
    "Compared to the usual plot, there are fewer days of schools. "
   ]
  },
  {
   "cell_type": "code",
   "execution_count": null,
   "metadata": {},
   "outputs": [],
   "source": [
    "with cm_effect.models.CMCombined_Final_DifEffects(data, cm_plot_style) as model:\n",
    "    model.DailyGrowthNoise = 0.2\n",
    "    model.RegionVariationNoise = 0.1\n",
    "    model.build_model()"
   ]
  },
  {
   "cell_type": "code",
   "execution_count": null,
   "metadata": {},
   "outputs": [],
   "source": [
    "pm.model_to_graphviz(model).render(\"model-diff-effects\")\n",
    "pm.model_to_graphviz(model)"
   ]
  },
  {
   "cell_type": "code",
   "execution_count": null,
   "metadata": {},
   "outputs": [],
   "source": [
    "with model.model:\n",
    "    model.trace = pm.sample(2000, chains=4, cores=4, target_accept=0.925)\n",
    "    \n",
    "pickle.dump(model.trace, open(\"exp05_diff_effects.pkl\", \"wb\"))"
   ]
  },
  {
   "cell_type": "code",
   "execution_count": null,
   "metadata": {},
   "outputs": [],
   "source": [
    "model.plot_effect()"
   ]
  },
  {
   "cell_type": "code",
   "execution_count": null,
   "metadata": {},
   "outputs": [],
   "source": [
    "def produce_ranges(trace):\n",
    "    means = np.mean(trace, axis=0)\n",
    "    med = np.median(trace, axis=0)\n",
    "    li = np.percentile(trace, 2.5, axis=0)\n",
    "    ui = np.percentile(trace, 97.5, axis=0)\n",
    "    lq = np.percentile(trace, 25, axis=0)\n",
    "    uq = np.percentile(trace, 75, axis=0)\n",
    "    return means, med, li, ui, lq, uq"
   ]
  },
  {
   "cell_type": "code",
   "execution_count": null,
   "metadata": {},
   "outputs": [],
   "source": [
    "nS, nRs, nCMs = model.trace[\"AllCMAlpha\"].shape"
   ]
  },
  {
   "cell_type": "code",
   "execution_count": null,
   "metadata": {},
   "outputs": [],
   "source": [
    "len(x)"
   ]
  },
  {
   "cell_type": "code",
   "execution_count": null,
   "metadata": {},
   "outputs": [],
   "source": [
    "len(g)"
   ]
  },
  {
   "cell_type": "code",
   "execution_count": null,
   "metadata": {},
   "outputs": [],
   "source": [
    "import copy\n",
    "\n",
    "rs = copy.deepcopy(data.Rs)"
   ]
  },
  {
   "cell_type": "code",
   "execution_count": null,
   "metadata": {},
   "outputs": [],
   "source": [
    "rs.sort(key = lambda x: np.median(np.exp(-model.trace[\"AllCMAlpha\"])[:, data.Rs.index(x), 0], axis=0))\n",
    "r_index = [data.Rs.index(r) for r in rs]"
   ]
  },
  {
   "cell_type": "code",
   "execution_count": null,
   "metadata": {},
   "outputs": [],
   "source": [
    "np.median(100*(1-model.trace[\"CMReduction\"][:, :]), axis=0)"
   ]
  },
  {
   "cell_type": "code",
   "execution_count": null,
   "metadata": {},
   "outputs": [],
   "source": [
    "sns.set_style(\"ticks\")\n",
    "import matplotlib.ticker as mtick\n",
    "\n",
    "plt.figure(figsize=(12,8), dpi=450)\n",
    "\n",
    "for cm in range(len(data.CMs)):\n",
    "    plt.subplot(3, 3, cm+1)\n",
    "    res = 100*(1-np.exp(-model.trace[\"AllCMAlpha\"]))\n",
    "    rs.sort(key = lambda x: np.median(res[:, data.Rs.index(x), cm], axis=0))\n",
    "    r_index = [data.Rs.index(r) for r in rs]\n",
    "\n",
    "    plt.title(f\"{data.CMs[cm]}\", fontsize=8)\n",
    "    plt.xlim([-1, len(r_index)])\n",
    "    plt.plot([-5, len(r_index)], [0,0], \"--\", color=\"tab:red\", linewidth=0.5)\n",
    "\n",
    "    median = 100*(1-np.median(model.trace[\"CMReduction\"][:, cm]))\n",
    "    plt.plot([-5, len(r_index)], [median, median], \"--\", color=\"tab:blue\", linewidth=0.5)\n",
    "\n",
    "    plt.xticks(np.arange(len(r_index)), rs, rotation=90)\n",
    "    for i, (r, r_i) in enumerate(zip(rs, r_index)):\n",
    "        mn, med, li, ui, lq, uq = produce_ranges(res[:, r_i, cm])\n",
    "        \n",
    "        days_active = np.sum(data.ActiveCMs[r_i, cm, :])\n",
    "            \n",
    "        if days_active < 7:\n",
    "            alpha_mult = 0.25\n",
    "        else:\n",
    "            alpha_mult = 1\n",
    "    \n",
    "        mn, med, li, ui, lq, uq = produce_ranges(res[:, r_i, cm])\n",
    "        plt.scatter(i, med, marker=\"_\", s=8, color=\"k\", alpha=1*alpha_mult)\n",
    "        plt.plot([i, i], [li, ui], color=\"k\", alpha=0.25*alpha_mult, linewidth=1)\n",
    "        plt.plot([i, i], [lq, uq], color=\"k\", alpha=0.75*alpha_mult, linewidth=1)\n",
    "\n",
    "    plt.ylabel(\"Country Specific\\nNPI Effectiveness\", fontsize=8)\n",
    "    ax = plt.gca()\n",
    "    ax.tick_params(axis=\"both\", which=\"major\", labelsize=6)\n",
    "    ax.yaxis.set_major_formatter(mtick.PercentFormatter())\n",
    "    \n",
    "plt.tight_layout()"
   ]
  },
  {
   "cell_type": "code",
   "execution_count": null,
   "metadata": {},
   "outputs": [],
   "source": [
    "plt.figure(figsize=(8, 3), dpi=450)\n",
    "cm = 0\n",
    "plt.subplot(1, 2, 1)\n",
    "res = 100*(1-np.exp(-model.trace[\"AllCMAlpha\"]))\n",
    "rs.sort(key = lambda x: np.median(res[:, data.Rs.index(x), cm], axis=0))\n",
    "r_index = [data.Rs.index(r) for r in rs]\n",
    "\n",
    "plt.title(f\"{data.CMs[cm]}\", fontsize=8)\n",
    "plt.xlim([-1, len(r_index)])\n",
    "plt.plot([-5, len(r_index)], [0,0], \"--\", color=\"tab:red\", linewidth=0.5)\n",
    "\n",
    "median = 100*(1-np.median(model.trace[\"CMReduction\"][:, cm]))\n",
    "plt.plot([-5, len(r_index)], [median, median], \"--\", color=\"tab:blue\", linewidth=0.5)\n",
    "\n",
    "plt.xticks(np.arange(len(r_index)), rs, rotation=90)\n",
    "for i, (r, r_i) in enumerate(zip(rs, r_index)):\n",
    "\n",
    "    days_active = np.sum(data.ActiveCMs[r_i, cm, :])\n",
    "\n",
    "    if days_active < 7:\n",
    "        alpha_mult = 0.25\n",
    "    else:\n",
    "        alpha_mult = 1\n",
    "\n",
    "    mn, med, li, ui, lq, uq = produce_ranges(res[:, r_i, cm])\n",
    "    plt.scatter(i, med, marker=\"_\", s=8, color=\"k\", alpha=1*alpha_mult)\n",
    "    plt.plot([i, i], [li, ui], color=\"k\", alpha=0.25*alpha_mult, linewidth=1)\n",
    "    plt.plot([i, i], [lq, uq], color=\"k\", alpha=0.75*alpha_mult, linewidth=1)\n",
    "\n",
    "plt.ylabel(\"Country Specific\\nNPI Effectiveness\", fontsize=8)\n",
    "ax = plt.gca()\n",
    "ax.tick_params(axis=\"both\", which=\"major\", labelsize=6)\n",
    "ax.yaxis.set_major_formatter(mtick.PercentFormatter())\n",
    "\n",
    "plt.subplot(1, 2, 2)\n",
    "\n",
    "tp = [*rs[:5], *rs[-5:]]\n",
    "tp.reverse()\n",
    "mat = np.zeros((len(tp), nCMs))\n",
    "for i, r in enumerate(tp):\n",
    "    counts = np.sum(data.ActiveCMs[data.Rs.index(r), :, : ] * data.ActiveCMs[data.Rs.index(r), cm, :] == 1, axis=1)\n",
    "    counts = counts/counts[cm]\n",
    "    mat[i, :] = counts\n",
    "plt.yticks(np.arange(len(tp)), tp, fontsize=8)\n",
    "im = plt.imshow(100*mat, cmap=\"viridis\", vmax=100, vmin=0)\n",
    "plt.plot([-1, 10], [4.5, 4.5], color=\"white\", linewidth=\"2\")\n",
    "plt.xlim([-0.5, 8.5])\n",
    "plt.xlabel(\"NPI $i$\", fontsize=8)\n",
    "plt.xticks(np.arange(len(data.CMs)), data.CMs, ha=\"left\", rotation=-20, fontsize=5)\n",
    "plt.title(f\"Frequency[$\\phi_i = 1| \\phi_{cm} = 1$]\", fontsize=8)\n",
    "\n",
    "plt.tight_layout()\n",
    "ax = plt.gca()\n",
    "divider = make_axes_locatable(ax)\n",
    "cax = divider.append_axes(\"right\", size=\"5%\", pad=0.05)\n",
    "plt.colorbar(im, cax=cax, format=PercentFormatter())\n",
    "ax = plt.gca()\n",
    "ax.tick_params(axis=\"both\", which=\"major\", labelsize=8)\n",
    "\n",
    "plt.tight_layout()\n",
    "plt.savefig(f\"FigureSAnew.pdf\", bbox_inches='tight')"
   ]
  },
  {
   "cell_type": "code",
   "execution_count": null,
   "metadata": {},
   "outputs": [],
   "source": [
    "model.trace = pickle.load(open(\"exp05_diff_effects.pkl\", \"rb\"))"
   ]
  },
  {
   "cell_type": "code",
   "execution_count": null,
   "metadata": {},
   "outputs": [],
   "source": [
    "\n",
    "plt.figure(figsize=(8,12), dpi=450)\n",
    "\n",
    "for cm in [0, 1, 2, 3, 4]:\n",
    "    plt.subplot(5, 2, cm*2 + 1)\n",
    "    res = 100*(1-np.exp(-model.trace[\"AllCMAlpha\"]))\n",
    "    rs.sort(key = lambda x: np.median(res[:, data.Rs.index(x), cm], axis=0))\n",
    "    r_index = [data.Rs.index(r) for r in rs]\n",
    "\n",
    "    plt.title(f\"{data.CMs[cm]}\", fontsize=8)\n",
    "    plt.xlim([-1, len(r_index)])\n",
    "    plt.plot([-5, len(r_index)], [0,0], \"--\", color=\"tab:red\", linewidth=0.5)\n",
    "\n",
    "    median = 100*(1-np.median(model.trace[\"CMReduction\"][:, cm]))\n",
    "    plt.plot([-5, len(r_index)], [median, median], \"--\", color=\"tab:blue\", linewidth=0.5)\n",
    "\n",
    "    plt.xticks(np.arange(len(r_index)), rs, rotation=90)\n",
    "    for i, (r, r_i) in enumerate(zip(rs, r_index)):\n",
    "\n",
    "        days_active = np.sum(data.ActiveCMs[r_i, cm, :])\n",
    "\n",
    "        if days_active < 7:\n",
    "            alpha_mult = 0.25\n",
    "        else:\n",
    "            alpha_mult = 1\n",
    "\n",
    "        mn, med, li, ui, lq, uq = produce_ranges(res[:, r_i, cm])\n",
    "        plt.scatter(i, med, marker=\"_\", s=8, color=\"k\", alpha=1*alpha_mult)\n",
    "        plt.plot([i, i], [li, ui], color=\"k\", alpha=0.25*alpha_mult, linewidth=1)\n",
    "        plt.plot([i, i], [lq, uq], color=\"k\", alpha=0.75*alpha_mult, linewidth=1)\n",
    "\n",
    "    plt.ylabel(\"Country Specific\\nNPI Effectiveness\", fontsize=8)\n",
    "    ax = plt.gca()\n",
    "    ax.tick_params(axis=\"both\", which=\"major\", labelsize=6)\n",
    "    ax.yaxis.set_major_formatter(mtick.PercentFormatter())\n",
    "\n",
    "    plt.subplot(5, 2, cm*2 + 2)\n",
    "\n",
    "    tp = [*rs[:5], *rs[-5:]]\n",
    "    tp.reverse()\n",
    "    mat = np.zeros((len(tp), nCMs))\n",
    "    for i, r in enumerate(tp):\n",
    "        counts = np.sum(data.ActiveCMs[data.Rs.index(r), :, : ] * data.ActiveCMs[data.Rs.index(r), cm, :] == 1, axis=1)\n",
    "        counts = counts/counts[cm]\n",
    "        mat[i, :] = counts\n",
    "    plt.yticks(np.arange(len(tp)), tp, fontsize=8)\n",
    "    im = plt.imshow(100*mat, cmap=\"viridis\", vmax=100, vmin=0)\n",
    "    plt.plot([-1, 10], [4.5, 4.5], color=\"white\", linewidth=\"2\")\n",
    "    plt.xlim([-0.5, 8.5])\n",
    "    \n",
    "    if i == 4:\n",
    "        plt.xlabel(\"NPI $i$\", fontsize=8)\n",
    "        plt.xticks(np.arange(len(data.CMs)), data.CMs, ha=\"left\", rotation=-20, fontsize=6)\n",
    "    else:\n",
    "        plt.xticks([])\n",
    "    plt.title(f\"Frequency[$\\phi_i = 1| \\phi_{cm} = 1$]\", fontsize=8)\n",
    "\n",
    "\n",
    "    ax = plt.gca()\n",
    "    divider = make_axes_locatable(ax)\n",
    "    cax = divider.append_axes(\"right\", size=\"5%\", pad=0.05)\n",
    "    plt.colorbar(im, cax=cax, format=PercentFormatter())\n",
    "    ax = plt.gca()\n",
    "    ax.tick_params(axis=\"both\", which=\"major\", labelsize=8)\n",
    "\n",
    "plt.tight_layout()\n",
    "plt.savefig(f\"all_one.pdf\", bbox_inches='tight')"
   ]
  },
  {
   "cell_type": "code",
   "execution_count": null,
   "metadata": {},
   "outputs": [],
   "source": [
    "rs = copy.deepcopy(data.Rs)\n",
    "\n",
    "sns.set_style(\"ticks\")\n",
    "import matplotlib.ticker as mtick\n",
    "from mpl_toolkits.axes_grid1 import make_axes_locatable\n",
    "from matplotlib.ticker import PercentFormatter\n",
    "nCMs = 9\n",
    "\n",
    "plt.figure(figsize=(8,12), dpi=450)\n",
    "\n",
    "for cm in [5, 6, 7, 8]:\n",
    "    plt.subplot(5, 2, (cm-5)*2 + 1)\n",
    "    res = 100*(1-np.exp(-model.trace[\"AllCMAlpha\"]))\n",
    "    rs.sort(key = lambda x: np.median(res[:, data.Rs.index(x), cm], axis=0))\n",
    "    r_index = [data.Rs.index(r) for r in rs]\n",
    "\n",
    "    plt.title(f\"{data.CMs[cm]}\", fontsize=8)\n",
    "    plt.xlim([-1, len(r_index)])\n",
    "    plt.plot([-5, len(r_index)], [0,0], \"--\", color=\"tab:red\", linewidth=0.5)\n",
    "\n",
    "    median = 100*(1-np.median(model.trace[\"CMReduction\"][:, cm]))\n",
    "    plt.plot([-5, len(r_index)], [median, median], \"--\", color=\"tab:blue\", linewidth=0.5)\n",
    "\n",
    "    plt.xticks(np.arange(len(r_index)), rs, rotation=90)\n",
    "    for i, (r, r_i) in enumerate(zip(rs, r_index)):\n",
    "\n",
    "        days_active = np.sum(data.ActiveCMs[r_i, cm, :])\n",
    "\n",
    "        if days_active < 7:\n",
    "            alpha_mult = 0.25\n",
    "        else:\n",
    "            alpha_mult = 1\n",
    "\n",
    "        mn, med, li, ui, lq, uq = produce_ranges(res[:, r_i, cm])\n",
    "        plt.scatter(i, med, marker=\"_\", s=8, color=\"k\", alpha=1*alpha_mult)\n",
    "        plt.plot([i, i], [li, ui], color=\"k\", alpha=0.25*alpha_mult, linewidth=1)\n",
    "        plt.plot([i, i], [lq, uq], color=\"k\", alpha=0.75*alpha_mult, linewidth=1)\n",
    "\n",
    "    plt.ylabel(\"Country Specific\\nNPI Effectiveness\", fontsize=8)\n",
    "    ax = plt.gca()\n",
    "    ax.tick_params(axis=\"both\", which=\"major\", labelsize=6)\n",
    "    ax.yaxis.set_major_formatter(mtick.PercentFormatter())\n",
    "\n",
    "    plt.subplot(5, 2, (cm-5)*2 + 2)\n",
    "\n",
    "    tp = [*rs[:5], *rs[-5:]]\n",
    "    tp.reverse()\n",
    "    mat = np.zeros((len(tp), nCMs))\n",
    "    for i, r in enumerate(tp):\n",
    "        counts = np.sum(data.ActiveCMs[data.Rs.index(r), :, : ] * data.ActiveCMs[data.Rs.index(r), cm, :] == 1, axis=1)\n",
    "        counts = counts/counts[cm]\n",
    "        mat[i, :] = counts\n",
    "    plt.yticks(np.arange(len(tp)), tp, fontsize=8)\n",
    "    im = plt.imshow(100*mat, cmap=\"viridis\", vmax=100, vmin=0)\n",
    "    plt.plot([-1, 10], [4.5, 4.5], color=\"white\", linewidth=\"2\")\n",
    "    plt.xlim([-0.5, 8.5])\n",
    "    \n",
    "    if i == 4:\n",
    "        plt.xlabel(\"NPI $i$\", fontsize=8)\n",
    "        plt.xticks(np.arange(len(data.CMs)), data.CMs, ha=\"left\", rotation=-20, fontsize=6)\n",
    "    else:\n",
    "        plt.xticks([])\n",
    "    plt.title(f\"Frequency[$\\phi_i = 1| \\phi_{cm} = 1$]\", fontsize=8)\n",
    "\n",
    "\n",
    "    ax = plt.gca()\n",
    "    divider = make_axes_locatable(ax)\n",
    "    cax = divider.append_axes(\"right\", size=\"5%\", pad=0.05)\n",
    "    plt.colorbar(im, cax=cax, format=PercentFormatter())\n",
    "    ax = plt.gca()\n",
    "    ax.tick_params(axis=\"both\", which=\"major\", labelsize=8)\n",
    "\n",
    "plt.tight_layout()\n",
    "plt.savefig(f\"all_two.pdf\", bbox_inches='tight')"
   ]
  },
  {
   "cell_type": "code",
   "execution_count": null,
   "metadata": {},
   "outputs": [],
   "source": []
  }
 ],
 "metadata": {
  "kernelspec": {
   "display_name": "Python 3",
   "language": "python",
   "name": "python3"
  },
  "language_info": {
   "codemirror_mode": {
    "name": "ipython",
    "version": 3
   },
   "file_extension": ".py",
   "mimetype": "text/x-python",
   "name": "python",
   "nbconvert_exporter": "python",
   "pygments_lexer": "ipython3",
   "version": "3.7.4"
  }
 },
 "nbformat": 4,
 "nbformat_minor": 4
}
